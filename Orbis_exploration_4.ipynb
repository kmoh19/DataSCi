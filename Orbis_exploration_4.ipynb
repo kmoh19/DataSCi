{
 "cells": [
  {
   "cell_type": "code",
   "execution_count": null,
   "metadata": {
    "collapsed": false,
    "scrolled": false
   },
   "outputs": [],
   "source": [
    "from graphframes.examples import Graphs\n",
    "from pyspark.sql.functions import *\n",
    "#import pixiedust\n",
    "#from pixiedust.display import *\n",
    "sc_conf=sc.getConf()\n",
    "sc_conf.set('spark.yarn.executor.memoryOverhead','65536').set('spark.yarn.driver.memoryOverhead','32768')"
   ]
  },
  {
   "cell_type": "code",
   "execution_count": null,
   "metadata": {
    "collapsed": true,
    "scrolled": false
   },
   "outputs": [],
   "source": [
    "#pixiedust.installPackage(\"http://10.179.60.112/home/7222115/graphframes-0.5.0-spark2.1-s_2.11.jar\")"
   ]
  },
  {
   "cell_type": "code",
   "execution_count": null,
   "metadata": {
    "collapsed": false,
    "scrolled": false
   },
   "outputs": [],
   "source": [
    "# Create a Vertex DataFrame with unique ID column \"id\"\n",
    "v = sqlContext.createDataFrame([\n",
    "  (\"a\", \"Alice\", 34),\n",
    "  (\"b\", \"Bob\", 36),\n",
    "  (\"c\", \"Charlie\", 30),\n",
    "], [\"id\", \"name\", \"age\"])\n",
    "# Create an Edge DataFrame with \"src\" and \"dst\" columns\n",
    "e = sqlContext.createDataFrame([\n",
    "  (\"a\", \"b\", \"friend\"),\n",
    "  (\"b\", \"c\", \"follow\"),\n",
    "  (\"c\", \"b\", \"follow\"),\n",
    "], [\"src\", \"dst\", \"relationship\"])\n",
    "# Create a GraphFrame\n",
    "from graphframes import *\n",
    "g = GraphFrame(v, e)\n",
    "\n",
    "# Query: Get in-degree of each vertex.\n",
    "g.inDegrees.show()\n",
    "\n",
    "# Query: Count the number of \"follow\" connections in the graph.\n",
    "g.edges.filter(\"relationship = 'follow'\").count()\n",
    "\n",
    "# Run PageRank algorithm, and show results.\n",
    "results = g.pageRank(resetProbability=0.01, maxIter=20)\n",
    "results.vertices.select(\"id\", \"pagerank\").show()"
   ]
  },
  {
   "cell_type": "code",
   "execution_count": null,
   "metadata": {
    "collapsed": false,
    "scrolled": false
   },
   "outputs": [],
   "source": [
    "from graphframes.examples import Graphs\n",
    "l = Graphs(sqlContext).friends()  # Get example graph\n",
    "\n",
    "results = l.shortestPaths(landmarks=[\"a\", \"d\"])\n",
    "results.select(\"id\", \"distances\").show()"
   ]
  },
  {
   "cell_type": "code",
   "execution_count": null,
   "metadata": {
    "collapsed": false,
    "scrolled": false
   },
   "outputs": [],
   "source": [
    "from graphframes.examples import Graphs\n",
    "l = Graphs(sqlContext).friends()  # Get example graph\n",
    "\n",
    "results = l.triangleCount()\n",
    "results.select(\"id\", \"count\").show()"
   ]
  },
  {
   "cell_type": "code",
   "execution_count": null,
   "metadata": {
    "collapsed": false,
    "pixiedust": {
     "displayParams": {
      "handlerId": "graphTree"
     }
    },
    "scrolled": false
   },
   "outputs": [],
   "source": [
    "display(g)"
   ]
  },
  {
   "cell_type": "code",
   "execution_count": null,
   "metadata": {
    "collapsed": false,
    "pixiedust": {
     "displayParams": {
      "aggregation": "SUM",
      "handlerId": "pieChart",
      "rowCount": "500"
     }
    },
    "scrolled": false
   },
   "outputs": [],
   "source": [
    "sqlContext.sql(\"show databases\").show(200,False)"
   ]
  },
  {
   "cell_type": "code",
   "execution_count": null,
   "metadata": {
    "collapsed": false,
    "scrolled": true
   },
   "outputs": [],
   "source": [
    "for i in sqlContext.sql(\"show tables in orbiz_warehouse\").collect():\n",
    "    #sqlContext.sql(\"SELECT * from orbiz_warehouse.\"+i.tableName)\n",
    "    print i.tableName\n",
    "    sqlContext.sql(\"SHOW COLUMNS from orbis_warehouse.\"+i.tableName).show(200, False)\n",
    "    "
   ]
  },
  {
   "cell_type": "code",
   "execution_count": null,
   "metadata": {
    "collapsed": false,
    "scrolled": true
   },
   "outputs": [],
   "source": [
    "sqlContext.sql(\"SELECT subsidiary_bvd_id,shareholder_bvd_id,guo_25,guo_50,subsidiary_independence_indicator,direct_percentage,direct_percentage_only_figures,total_percentage,source,type_of_relation,activearchived FROM orbis_warehouse.links_current\").show(2000,False)"
   ]
  },
  {
   "cell_type": "code",
   "execution_count": null,
   "metadata": {
    "collapsed": false,
    "scrolled": true
   },
   "outputs": [],
   "source": [
    "sqlContext.sql(\"SELECT subsidiary_bvd_id,shareholder_bvd_id,subsidiary_independence_indicator,direct_percentage,direct_percentage_only_figures,total_percentage FROM orbis_warehouse.links_current WHERE subsidiary_bvd_id='GB00048839' and shareholder_bvd_id='CA20167NC'\").show(200)"
   ]
  },
  {
   "cell_type": "code",
   "execution_count": null,
   "metadata": {
    "collapsed": false,
    "scrolled": true
   },
   "outputs": [],
   "source": [
    "sqlContext.sql(\"SELECT * FROM orbis_warehouse.industry_classifications\").show(200)"
   ]
  },
  {
   "cell_type": "code",
   "execution_count": null,
   "metadata": {
    "collapsed": false
   },
   "outputs": [],
   "source": [
    "sqlContext.sql(\"SELECT * FROM orbis_warehouse.entities\").show(200,False)"
   ]
  },
  {
   "cell_type": "code",
   "execution_count": null,
   "metadata": {
    "collapsed": false,
    "scrolled": true
   },
   "outputs": [],
   "source": [
    "for i in sqlContext.sql(\"show tables in orbis_parquet\").collect():\n",
    "    print i.tableName\n",
    "    sqlContext.sql(\"SHOW COLUMNS from orbis_parquet.\"+i.tableName).show(200,False)"
   ]
  },
  {
   "cell_type": "code",
   "execution_count": null,
   "metadata": {
    "collapsed": false,
    "scrolled": true
   },
   "outputs": [],
   "source": [
    "for i in sqlContext.sql(\"show tables in interim_tables\")\\\n",
    ".collect():\n",
    "    #sqlContext.sql(\"SELECT * from orbiz_warehouse.\"+i.tableName)\n",
    "    print i.tableName\n",
    "    sqlContext.sql(\"SHOW COLUMNS from interim_tables.\"+i.tableName).show(200, False)\n",
    "    "
   ]
  },
  {
   "cell_type": "code",
   "execution_count": null,
   "metadata": {
    "collapsed": true,
    "pixiedust": {
     "displayParams": {
      "handlerId": "dataframe"
     }
    },
    "scrolled": true
   },
   "outputs": [],
   "source": [
    "query= \"SELECT shareholder_bvd_id,subsidiary_bvd_id,shareholder_independence_indicator,guo_25,guo_50, \\\n",
    "        subsidiary_independence_indicator,direct_percentage,direct_percentage_only_figures,total_percentage,total_percentage_only_figures \\\n",
    "        FROM orbis_warehouse.links_current \\\n",
    "        WHERE shareholder_bvd_id<>subsidiary_bvd_id and activearchived='active' and CAST(direct_percentage_only_figures AS int)>49\" "
   ]
  },
  {
   "cell_type": "code",
   "execution_count": null,
   "metadata": {
    "collapsed": true,
    "scrolled": false
   },
   "outputs": [],
   "source": [
    "big_DF=sqlContext.sql(query)"
   ]
  },
  {
   "cell_type": "code",
   "execution_count": null,
   "metadata": {
    "collapsed": false,
    "scrolled": false
   },
   "outputs": [],
   "source": [
    "big_DF"
   ]
  },
  {
   "cell_type": "code",
   "execution_count": null,
   "metadata": {
    "collapsed": false,
    "scrolled": false
   },
   "outputs": [],
   "source": [
    "big_DF.count() #345567102"
   ]
  },
  {
   "cell_type": "code",
   "execution_count": null,
   "metadata": {
    "collapsed": false,
    "scrolled": true
   },
   "outputs": [],
   "source": [
    "big_DF.take(1000)"
   ]
  },
  {
   "cell_type": "code",
   "execution_count": null,
   "metadata": {
    "collapsed": true,
    "scrolled": false
   },
   "outputs": [],
   "source": [
    "#vertices=sqlContext.sql(\"SELECT distinct(shareholder_bvd_id) from big_DF union SELECT distinct(subsidiary_bvd_id) from big_DF\")\n",
    "#sqlContext.read.parquet(\"http://\")\n",
    "shares=big_DF.select('shareholder_bvd_id').distinct()\n",
    "subs=big_DF.select('subsidiary_bvd_id').distinct()\n",
    "entities=sqlContext.sql('SELECT bvd_id_of_the_subsidiary_or_shareholder,entity_type as sh_entity_type FROM orbis_parquet.entities')\n",
    "contact=sqlContext.sql('SELECT bvd_id_number,name_native,name_internat,country,country_iso_code  FROM orbis_parquet.contact_info')\n",
    "_vertices=shares.union(subs).selectExpr('shareholder_bvd_id as id')\n",
    "__vertices=_vertices.join(entities,_vertices.id==entities.bvd_id_of_the_subsidiary_or_shareholder,'left_outer')\n",
    "vertices=__vertices.join(contact,__vertices.id==contact.bvd_id_number,'left_outer').select('id','sh_entity_type','name_native','name_internat','country','country_iso_code')"
   ]
  },
  {
   "cell_type": "code",
   "execution_count": null,
   "metadata": {
    "collapsed": false
   },
   "outputs": [],
   "source": [
    "shares.count()#77217721"
   ]
  },
  {
   "cell_type": "code",
   "execution_count": null,
   "metadata": {
    "collapsed": false
   },
   "outputs": [],
   "source": [
    "subs.count()#63045082"
   ]
  },
  {
   "cell_type": "code",
   "execution_count": null,
   "metadata": {
    "collapsed": false
   },
   "outputs": [],
   "source": [
    "vertices"
   ]
  },
  {
   "cell_type": "code",
   "execution_count": null,
   "metadata": {
    "collapsed": false,
    "scrolled": false
   },
   "outputs": [],
   "source": [
    "vertices.count() #208465222  140262804"
   ]
  },
  {
   "cell_type": "code",
   "execution_count": null,
   "metadata": {
    "collapsed": false,
    "scrolled": true
   },
   "outputs": [],
   "source": [
    "vertices.show(200)"
   ]
  },
  {
   "cell_type": "code",
   "execution_count": null,
   "metadata": {
    "collapsed": true
   },
   "outputs": [],
   "source": [
    "vertices_f=vertices.filter(\"id like 'GB%' or id like 'NL%' or id like 'IE%' or id like 'US%'\")"
   ]
  },
  {
   "cell_type": "code",
   "execution_count": null,
   "metadata": {
    "collapsed": false
   },
   "outputs": [],
   "source": [
    "vertices_f.count()"
   ]
  },
  {
   "cell_type": "code",
   "execution_count": null,
   "metadata": {
    "collapsed": true,
    "scrolled": false
   },
   "outputs": [],
   "source": [
    "edges=big_DF.selectExpr('shareholder_bvd_id as src','subsidiary_bvd_id as dst','guo_25','guo_50','direct_percentage','direct_percentage_only_figures','total_percentage','total_percentage_only_figures')"
   ]
  },
  {
   "cell_type": "code",
   "execution_count": null,
   "metadata": {
    "collapsed": false,
    "scrolled": false
   },
   "outputs": [],
   "source": [
    "edges.count() #345567102"
   ]
  },
  {
   "cell_type": "code",
   "execution_count": null,
   "metadata": {
    "collapsed": true,
    "scrolled": false
   },
   "outputs": [],
   "source": [
    "edges_=edges.select(\"*\").groupBy('src','dst','guo_25','guo_50','direct_percentage','direct_percentage_only_figures','total_percentage','total_percentage_only_figures').count()"
   ]
  },
  {
   "cell_type": "code",
   "execution_count": null,
   "metadata": {
    "collapsed": false,
    "scrolled": false
   },
   "outputs": [],
   "source": [
    "edges_"
   ]
  },
  {
   "cell_type": "code",
   "execution_count": null,
   "metadata": {
    "collapsed": false,
    "scrolled": false
   },
   "outputs": [],
   "source": [
    "edges_.count() #178375133 #108301140 126790241"
   ]
  },
  {
   "cell_type": "code",
   "execution_count": null,
   "metadata": {
    "collapsed": true
   },
   "outputs": [],
   "source": [
    "edges_f=edges_.filter(\"(src like 'GB%' or src like 'NL%' or src like 'IE%' or src like 'US%') and (dst like 'GB%' or dst like 'NL%' or dst like 'IE%' or dst like 'US%')\")"
   ]
  },
  {
   "cell_type": "code",
   "execution_count": null,
   "metadata": {
    "collapsed": false
   },
   "outputs": [],
   "source": [
    "edges_f.count() #15059702"
   ]
  },
  {
   "cell_type": "code",
   "execution_count": null,
   "metadata": {
    "collapsed": true,
    "scrolled": false
   },
   "outputs": [],
   "source": [
    "from graphframes import GraphFrame"
   ]
  },
  {
   "cell_type": "code",
   "execution_count": null,
   "metadata": {
    "collapsed": true,
    "scrolled": false
   },
   "outputs": [],
   "source": [
    "orbis_GF=GraphFrame(vertices_f,edges_f).persist()"
   ]
  },
  {
   "cell_type": "code",
   "execution_count": null,
   "metadata": {
    "collapsed": false,
    "scrolled": false
   },
   "outputs": [],
   "source": [
    "orbis_GF"
   ]
  },
  {
   "cell_type": "code",
   "execution_count": null,
   "metadata": {
    "collapsed": false,
    "scrolled": true
   },
   "outputs": [],
   "source": [
    "orbis_GF.inDegrees.show(100)"
   ]
  },
  {
   "cell_type": "code",
   "execution_count": null,
   "metadata": {
    "collapsed": true,
    "scrolled": false
   },
   "outputs": [],
   "source": [
    "from pyspark.sql.functions import *"
   ]
  },
  {
   "cell_type": "code",
   "execution_count": null,
   "metadata": {
    "collapsed": false,
    "scrolled": true
   },
   "outputs": [],
   "source": [
    "orbis_GF.degrees.sort(desc(\"degree\")).show(1000)#|    GB00617987| 19561520|-"
   ]
  },
  {
   "cell_type": "code",
   "execution_count": null,
   "metadata": {
    "collapsed": false,
    "scrolled": true
   },
   "outputs": [],
   "source": [
    "big_DF.filter(\"shareholder_bvd_id='GB00617987'\").show(1000)"
   ]
  },
  {
   "cell_type": "code",
   "execution_count": null,
   "metadata": {
    "collapsed": false,
    "scrolled": true
   },
   "outputs": [],
   "source": [
    "big_DF.filter(\"shareholder_bvd_id = 'GB00617987' or subsidiary_bvd_id = 'GB00617987'\").show(1000)"
   ]
  },
  {
   "cell_type": "code",
   "execution_count": null,
   "metadata": {
    "collapsed": true,
    "pixiedust": {
     "displayParams": {
      "handlerId": "dataframe"
     }
    },
    "scrolled": true
   },
   "outputs": [],
   "source": [
    "test=big_DF.limit(100)"
   ]
  },
  {
   "cell_type": "code",
   "execution_count": null,
   "metadata": {
    "collapsed": true,
    "scrolled": false
   },
   "outputs": [],
   "source": [
    "comps=orbis_GF.stronglyConnectedComponents(maxIter=2)###"
   ]
  },
  {
   "cell_type": "code",
   "execution_count": null,
   "metadata": {
    "collapsed": false
   },
   "outputs": [],
   "source": [
    "comps"
   ]
  },
  {
   "cell_type": "code",
   "execution_count": null,
   "metadata": {
    "collapsed": false,
    "scrolled": true
   },
   "outputs": [],
   "source": [
    "comps.select('id','component').groupBy('component').agg(count(\"id\").alias(\"count\")).orderBy(desc(\"count\")).count()#15659583"
   ]
  },
  {
   "cell_type": "code",
   "execution_count": null,
   "metadata": {
    "collapsed": false,
    "scrolled": true
   },
   "outputs": [],
   "source": [
    "comps.select('id','component').groupBy('component').agg(count(\"id\").alias(\"count\")).orderBy(desc(\"count\")).show(1000)"
   ]
  },
  {
   "cell_type": "code",
   "execution_count": null,
   "metadata": {
    "collapsed": false
   },
   "outputs": [],
   "source": [
    "GT2=comps.select('id','component').groupBy('component').agg(count(\"id\").alias(\"count\")).filter('count>2').orderBy(desc(\"count\"))  "
   ]
  },
  {
   "cell_type": "code",
   "execution_count": null,
   "metadata": {
    "collapsed": true
   },
   "outputs": [],
   "source": [
    "GT2_id=comps.join(GT2,comps.component==GT2.component,'inner').select('id',comps.component)"
   ]
  },
  {
   "cell_type": "code",
   "execution_count": null,
   "metadata": {
    "collapsed": false
   },
   "outputs": [],
   "source": [
    "GT2_id.count"
   ]
  },
  {
   "cell_type": "code",
   "execution_count": null,
   "metadata": {
    "collapsed": true
   },
   "outputs": [],
   "source": [
    "IDl=list(set([x.id for x in GT2_id.select('id').collect()]))"
   ]
  },
  {
   "cell_type": "code",
   "execution_count": null,
   "metadata": {
    "collapsed": true
   },
   "outputs": [],
   "source": [
    "edges_f2=edges_f.filter(edges_f.src.isin(IDl) | edges_f.dst.isin(IDl))"
   ]
  },
  {
   "cell_type": "code",
   "execution_count": null,
   "metadata": {
    "collapsed": true
   },
   "outputs": [],
   "source": [
    "orbis_GF2=GraphFrame(orbis_GF.vertices,edges_f2).persist()"
   ]
  },
  {
   "cell_type": "code",
   "execution_count": null,
   "metadata": {
    "collapsed": true
   },
   "outputs": [],
   "source": []
  },
  {
   "cell_type": "code",
   "execution_count": null,
   "metadata": {
    "collapsed": false,
    "scrolled": true
   },
   "outputs": [],
   "source": [
    "orbis_GF.find(\"(a)-[ab]->(b); (b)-[bc]->(c); (c)-[ca]->(a)\").show(12,False)"
   ]
  },
  {
   "cell_type": "code",
   "execution_count": null,
   "metadata": {
    "collapsed": false,
    "scrolled": true
   },
   "outputs": [],
   "source": [
    "big_DF.filter(\"shareholder_bvd_id='DE8330233188'\").show(1000,False)"
   ]
  },
  {
   "cell_type": "code",
   "execution_count": null,
   "metadata": {
    "collapsed": false,
    "scrolled": false
   },
   "outputs": [],
   "source": [
    "edges_.filter(\"src='DE8330233188'\").show()"
   ]
  },
  {
   "cell_type": "code",
   "execution_count": null,
   "metadata": {
    "collapsed": false,
    "scrolled": false
   },
   "outputs": [],
   "source": [
    "edges_.filter(\"src='DE8330247688'\").show()"
   ]
  },
  {
   "cell_type": "code",
   "execution_count": null,
   "metadata": {
    "collapsed": true,
    "scrolled": false
   },
   "outputs": [],
   "source": [
    "results_2h=orbis_GF.find(\"(a)-[ab]->(b); (b)-[bc]->(c); (c)-[ca]->(a)\").filter(\"a.id like 'GB%'\")"
   ]
  },
  {
   "cell_type": "code",
   "execution_count": null,
   "metadata": {
    "collapsed": false,
    "scrolled": true
   },
   "outputs": [],
   "source": [
    "results_2h.show(100,False)"
   ]
  },
  {
   "cell_type": "code",
   "execution_count": null,
   "metadata": {
    "collapsed": false,
    "scrolled": false
   },
   "outputs": [],
   "source": [
    "orbis_GF.bfs(fromExpr=\"id='GB01417162'\",toExpr=\"id='FR572093920'\",maxPathLength=5).show()"
   ]
  },
  {
   "cell_type": "code",
   "execution_count": null,
   "metadata": {
    "collapsed": false,
    "scrolled": true
   },
   "outputs": [],
   "source": [
    "edges_.filter(\"src='GB01417162'\").show(1000)"
   ]
  },
  {
   "cell_type": "code",
   "execution_count": null,
   "metadata": {
    "collapsed": false,
    "scrolled": true
   },
   "outputs": [],
   "source": [
    "orbis_GF.find(\"(a)-[ab]->(b); (b)-[bc]->(c); (c)-[ca]->(a)\").filter(\"a.id like 'GB02805337%'\").show(100,False)"
   ]
  },
  {
   "cell_type": "code",
   "execution_count": null,
   "metadata": {
    "collapsed": false,
    "scrolled": false
   },
   "outputs": [],
   "source": [
    "orbis_GF.bfs(fromExpr=\"id='GB02805337'\",toExpr=\"id='GB00048839'\",maxPathLength=5).show(1000,False)"
   ]
  },
  {
   "cell_type": "code",
   "execution_count": null,
   "metadata": {
    "collapsed": false,
    "scrolled": false
   },
   "outputs": [],
   "source": [
    "orbis_GF.shortestPaths(landmarks=['GB02805337']).select('id','distances').show(100,False)#bad!"
   ]
  },
  {
   "cell_type": "code",
   "execution_count": null,
   "metadata": {
    "collapsed": false,
    "scrolled": false
   },
   "outputs": [],
   "source": [
    "communities = orbis_GF.labelPropagation(maxIter=5).select(\"id\", \"label\").groupBy(\"label\").agg(F.count(\"id\"))#.alias(\"count\")).orderBy(desc(\"count\"))"
   ]
  },
  {
   "cell_type": "markdown",
   "metadata": {},
   "source": [
    "# Visualisations"
   ]
  },
  {
   "cell_type": "code",
   "execution_count": null,
   "metadata": {
    "collapsed": true,
    "scrolled": false
   },
   "outputs": [],
   "source": [
    "from IPython.core .display import HTML,display\n",
    "from string import Template\n"
   ]
  },
  {
   "cell_type": "code",
   "execution_count": null,
   "metadata": {
    "collapsed": true,
    "scrolled": false
   },
   "outputs": [],
   "source": [
    "ires=orbis_GF.find(\"(a)-[ab]->(b); (b)-[bc]->(c);(c)-[cd]->(d); (d)-[da]->(a)\").collect()#.filter(\"a.id like 'GB01417162%'\").take(1000)"
   ]
  },
  {
   "cell_type": "code",
   "execution_count": null,
   "metadata": {
    "collapsed": true
   },
   "outputs": [],
   "source": [
    "ires=orbis_GF2.find(\"(a)-[ab]->(b)\").collect()"
   ]
  },
  {
   "cell_type": "code",
   "execution_count": null,
   "metadata": {
    "collapsed": false,
    "scrolled": true
   },
   "outputs": [],
   "source": [
    "ires.__str__()"
   ]
  },
  {
   "cell_type": "code",
   "execution_count": null,
   "metadata": {
    "collapsed": false,
    "scrolled": false
   },
   "outputs": [],
   "source": [
    "type(ires),type(ires[0]),ires[0]"
   ]
  },
  {
   "cell_type": "code",
   "execution_count": null,
   "metadata": {
    "collapsed": true,
    "scrolled": false
   },
   "outputs": [],
   "source": [
    "_ires0=ires[0]"
   ]
  },
  {
   "cell_type": "code",
   "execution_count": null,
   "metadata": {
    "collapsed": true,
    "scrolled": false
   },
   "outputs": [],
   "source": [
    "\n",
    "s=_ires0.asDict()"
   ]
  },
  {
   "cell_type": "code",
   "execution_count": null,
   "metadata": {
    "collapsed": false,
    "scrolled": false
   },
   "outputs": [],
   "source": [
    "_ires0.a.id"
   ]
  },
  {
   "cell_type": "code",
   "execution_count": null,
   "metadata": {
    "collapsed": false,
    "scrolled": true
   },
   "outputs": [],
   "source": [
    "[i.asDict() for i in ires]"
   ]
  },
  {
   "cell_type": "code",
   "execution_count": null,
   "metadata": {
    "collapsed": true,
    "scrolled": true
   },
   "outputs": [],
   "source": [
    "import itertools\n",
    "ed_=[{k:v for k,v in i.iteritems() if len(k)==2} for i in [i.asDict() for i in ires]]\n",
    "links_=list(itertools.chain.from_iterable([i for i in [i.values() for i in ed_]]))\n",
    "links__=[dict([('source',i['src'].encode('utf-8')),('target',i['dst'].encode('utf-8')),('direct_percentage',i['direct_percentage_only_figures'].encode('utf-8')),('count',i['count']),('guo_50',(i['guo_50'] or '').encode('utf-8'))]) for i in set(links_)]"
   ]
  },
  {
   "cell_type": "code",
   "execution_count": null,
   "metadata": {
    "collapsed": true
   },
   "outputs": [],
   "source": [
    "ed_=[{k:v for k,v in i.iteritems() if len(k)==1} for i in [i.asDict() for i in ires]]\n",
    "nodes_=list(itertools.chain.from_iterable([i for i in [i.values() for i in ed_]]))\n",
    "nodes__=[dict([('id',i['id'].encode('utf-8')),('sh_entity_type',i['sh_entity_type'].encode('utf-8')),('name_native',(i['name_native'] or '').encode('utf-8'))]) for i in set(nodes_)]"
   ]
  },
  {
   "cell_type": "code",
   "execution_count": null,
   "metadata": {
    "collapsed": false,
    "scrolled": true
   },
   "outputs": [],
   "source": [
    "ed_"
   ]
  },
  {
   "cell_type": "code",
   "execution_count": null,
   "metadata": {
    "collapsed": false,
    "scrolled": true
   },
   "outputs": [],
   "source": [
    "links_"
   ]
  },
  {
   "cell_type": "code",
   "execution_count": null,
   "metadata": {
    "collapsed": false,
    "scrolled": true
   },
   "outputs": [],
   "source": [
    "\n",
    "links__"
   ]
  },
  {
   "cell_type": "code",
   "execution_count": null,
   "metadata": {
    "collapsed": false
   },
   "outputs": [],
   "source": [
    "nodes__"
   ]
  },
  {
   "cell_type": "code",
   "execution_count": null,
   "metadata": {
    "collapsed": true,
    "scrolled": true
   },
   "outputs": [],
   "source": [
    "mynodes=dict([(i['id'],i) for i in nodes__])"
   ]
  },
  {
   "cell_type": "code",
   "execution_count": null,
   "metadata": {
    "collapsed": false
   },
   "outputs": [],
   "source": [
    "mynodes['GB01417162']#['name_native']"
   ]
  },
  {
   "cell_type": "code",
   "execution_count": null,
   "metadata": {
    "collapsed": false,
    "scrolled": true
   },
   "outputs": [],
   "source": [
    "len(ed_),len(links_),len(links__)"
   ]
  },
  {
   "cell_type": "code",
   "execution_count": null,
   "metadata": {
    "collapsed": true,
    "scrolled": false
   },
   "outputs": [],
   "source": [
    "b=open('/home/7222115/d3.v3.min.js','r').read()\n",
    "src=Template(\"\"\"\n",
    "\n",
    "<style>\n",
    "\n",
    "#render_port{\n",
    "\n",
    "background-color: #413C58;\n",
    "}\n",
    "path.link {\n",
    "  fill: none;\n",
    "  stroke: #49cc90;\n",
    "  stroke-width: 1.5px;\n",
    "}\n",
    "\n",
    "circle {\n",
    "  fill: #ccc;\n",
    "  stroke: #fff;\n",
    "  stroke-width: 2.5px;\n",
    "}\n",
    "\n",
    "text {\n",
    "  fill: #ffff;\n",
    "  font: 10px sans-serif;\n",
    "  pointer-events: none;\n",
    "}\n",
    "\n",
    "</style>\n",
    "<div id='render_port'></div>\n",
    "<script>$myd3</script>\n",
    "<script>\n",
    "\n",
    "// get the data\n",
    "links=$mylinks\n",
    "myNodes=$mynodes\n",
    "var nodes = {};\n",
    "\n",
    "// Compute the distinct nodes from the links.\n",
    "links.forEach(function(link) {\n",
    "    link.source = nodes[link.source] || \n",
    "        (nodes[link.source] = {name: link.source, entity_type: link.sh_entity_type});\n",
    "    \n",
    "});\n",
    "\n",
    "links.forEach(function(link) {\n",
    "    link.target = nodes[link.target] || \n",
    "        (nodes[link.target] = {name: link.target});\n",
    "    \n",
    "});\n",
    "\n",
    "\n",
    "var width = 960,\n",
    "    height = 1000;\n",
    "\n",
    "\n",
    "\n",
    "function isConnected(a, b) {\n",
    "  return isConnectedAsTarget(a, b) || isConnectedAsSource(a, b) || a.index === b.index;\n",
    "}\n",
    "\n",
    "function isConnectedAsSource(a, b) {\n",
    "  return linkedByIndex[`${a.index},${b.index}`];\n",
    "}\n",
    "\n",
    "function isConnectedAsTarget(a, b) {\n",
    "  return linkedByIndex[`${b.index},${a.index}`];\n",
    "}\n",
    "\n",
    "function isEqual(a, b) {\n",
    "  return a.index === b.index;\n",
    "}\n",
    "\n",
    "const mouseOverFunction = function (d) {\n",
    "  const circle = d3.select(this);\n",
    "\n",
    "  node\n",
    "    .transition(500)\n",
    "      .style('opacity', o => {\n",
    "        const isConnectedValue = isConnected(o, d);\n",
    "        if (isConnectedValue) {\n",
    "          return 1.0;\n",
    "        }\n",
    "        return 0.2\n",
    "      });\n",
    "      \n",
    "\n",
    "  path\n",
    "    .transition(500)\n",
    "      .style('stroke-opacity', o => (o.source === d || o.target === d ? 1 : 0.2))\n",
    "      .transition(500)\n",
    "      .attr('marker-end', o => (o.source === d || o.target === d ? 'url(#end)' : 'url()'));\n",
    "\n",
    "  circle\n",
    "    .transition(500)\n",
    "      .attr('r', () => 1.4 *5);\n",
    "};\n",
    "\n",
    "const mouseOutFunction = function () {\n",
    "  const circle = d3.select(this);\n",
    "\n",
    "  node\n",
    "    .transition(500);\n",
    "\n",
    "  path\n",
    "    .transition(500);\n",
    "\n",
    "  circle\n",
    "    .transition(500)\n",
    "      .attr('r', 5);\n",
    " \n",
    "svg.selectAll(\".path\").style(\"stroke-opacity\", 1);\n",
    "\n",
    "};\n",
    "\n",
    "var force = d3.layout.force()\n",
    "    .nodes(d3.values(nodes))\n",
    "    .links(links)\n",
    "    .size([width, height])\n",
    "    .linkDistance(60)\n",
    "    .charge(-50)\n",
    "    .on(\"tick\", tick)\n",
    "    .start();\n",
    "\n",
    "var svg = d3.select(\"#render_port\").append(\"svg\")\n",
    "    .attr(\"width\", width)\n",
    "    .attr(\"height\", height);\n",
    "\n",
    "// build the arrow.\n",
    "svg.append(\"svg:defs\").selectAll(\"marker\")\n",
    "    .data([\"end\"])      // Different link/path types can be defined here\n",
    "  .enter().append(\"svg:marker\")    // This section adds in the arrows\n",
    "    .attr(\"id\", String)\n",
    "    .attr(\"viewBox\", \"0 -5 10 10\")\n",
    "    .attr(\"refX\", 15)\n",
    "    .attr(\"refY\", -1.5)\n",
    "    .attr(\"markerWidth\", 6)\n",
    "    .attr(\"markerHeight\", 6)\n",
    "    .attr(\"orient\", \"auto\")\n",
    "  .append(\"svg:path\")\n",
    "    .attr(\"d\", \"M0,-5L10,0L0,5\");\n",
    "\n",
    "// add the links and the arrows\n",
    "var path = svg.append(\"svg:g\").selectAll(\"path\")\n",
    "    .data(force.links())\n",
    "  .enter().append(\"svg:path\")\n",
    "//    .attr(\"class\", function(d) { return \"link \" + d.type; })\n",
    "    .attr(\"class\", \"link\")\n",
    "    .attr(\"marker-end\", \"url(#end)\");\n",
    "    \n",
    "    path.append(\"title\")\n",
    "        .text(function(d) { return d.direct_percentage; });\n",
    "\n",
    "// define the nodes\n",
    "var node = svg.selectAll(\".node\")\n",
    "    .data(force.nodes())\n",
    "  .enter().append(\"g\")\n",
    "    .attr(\"class\", \"node\")\n",
    "    .call(force.drag);\n",
    "\n",
    "// add the nodes\n",
    "node.append(\"circle\")\n",
    "    .attr(\"r\", 5)\n",
    "     .on('mouseover', mouseOverFunction)\n",
    "    .on('mouseout', mouseOutFunction);\n",
    "\n",
    "// add the text \n",
    "node.append(\"text\")\n",
    "    .attr(\"x\", 12)\n",
    "    .attr(\"dy\", \".35em\")\n",
    "    .text(function(d) { return d.name; });\n",
    "    \n",
    "node.append(\"title\")\n",
    "      .text(function(d) { return myNodes[d.name]['name_native']+\"\\\\n\"+myNodes[d.name]['sh_entity_type']; });\n",
    "\n",
    "node.on(\"click\", function(d) { d.fixed = true; });\n",
    "node.on(\"dblclick\", function(d) { d.fixed = false; });\n",
    "\n",
    "let linkedByIndex = {};\n",
    "links.forEach((d) => {\n",
    "  linkedByIndex[`${d.source.index},${d.target.index}`] = true;\n",
    "});\n",
    "\n",
    "// add the curvy lines\n",
    "function tick() {\n",
    "    path.attr(\"d\", function(d) {\n",
    "        var dx = d.target.x - d.source.x,\n",
    "            dy = d.target.y - d.source.y,\n",
    "            dr = Math.sqrt(dx * dx + dy * dy);\n",
    "        return \"M\" + \n",
    "            d.source.x + \",\" + \n",
    "            d.source.y + \"A\" + \n",
    "            dr + \",\" + dr + \" 0 0,1 \" + \n",
    "            d.target.x + \",\" + \n",
    "            d.target.y;\n",
    "    });\n",
    "\n",
    "    node\n",
    "        .attr(\"transform\", function(d) { \n",
    "  \t    return \"translate(\" + d.x + \",\" + d.y + \")\"; });\n",
    "};\n",
    "\n",
    "</script>\n",
    "\n",
    "\"\"\")"
   ]
  },
  {
   "cell_type": "code",
   "execution_count": null,
   "metadata": {
    "collapsed": true,
    "scrolled": false
   },
   "outputs": [],
   "source": [
    "src_=src.safe_substitute({'myd3':b,'mylinks':links__,'mynodes':mynodes})"
   ]
  },
  {
   "cell_type": "code",
   "execution_count": null,
   "metadata": {
    "collapsed": true,
    "scrolled": false
   },
   "outputs": [],
   "source": [
    "html_=HTML(src_)"
   ]
  },
  {
   "cell_type": "code",
   "execution_count": null,
   "metadata": {
    "collapsed": false,
    "scrolled": false
   },
   "outputs": [],
   "source": [
    "html_"
   ]
  },
  {
   "cell_type": "code",
   "execution_count": null,
   "metadata": {
    "collapsed": true,
    "scrolled": false
   },
   "outputs": [],
   "source": [
    "#src__=Template(\"\"\"<script>var win = window.open(\"\", \"Title\", \"toolbar=no, location=no, directories=no, status=no, menubar=no, scrollbars=yes, resizable=yes, width=780, height=200, top=\"+(screen.height-400)+\", left=\"+(screen.width-840));\n",
    "#win.document.body.innerHTML ='<div>$mysrc</div>'\n",
    "#</script>\"\"\")"
   ]
  },
  {
   "cell_type": "code",
   "execution_count": null,
   "metadata": {
    "collapsed": true,
    "scrolled": false
   },
   "outputs": [],
   "source": [
    "#HTML(src__.safe_substitute({'mysrc':src_}))"
   ]
  },
  {
   "cell_type": "code",
   "execution_count": null,
   "metadata": {
    "collapsed": false,
    "scrolled": true
   },
   "outputs": [],
   "source": [
    "src__.safe_substitute({'mysrc':src_})"
   ]
  },
  {
   "cell_type": "code",
   "execution_count": null,
   "metadata": {
    "collapsed": true
   },
   "outputs": [],
   "source": [
    "gg=comps.filter(\"component='515396096104'\")"
   ]
  },
  {
   "cell_type": "code",
   "execution_count": null,
   "metadata": {
    "collapsed": false,
    "scrolled": true
   },
   "outputs": [],
   "source": [
    "gg"
   ]
  },
  {
   "cell_type": "code",
   "execution_count": null,
   "metadata": {
    "collapsed": false
   },
   "outputs": [],
   "source": [
    "gg.show()"
   ]
  },
  {
   "cell_type": "code",
   "execution_count": null,
   "metadata": {
    "collapsed": true
   },
   "outputs": [],
   "source": []
  }
 ],
 "metadata": {
  "kernelspec": {
   "display_name": "PySpark 2.7",
   "language": "python",
   "name": "pyspark"
  },
  "language_info": {
   "codemirror_mode": {
    "name": "ipython",
    "version": 2
   },
   "file_extension": ".py",
   "mimetype": "text/x-python",
   "name": "python",
   "nbconvert_exporter": "python",
   "pygments_lexer": "ipython2",
   "version": "2.7.12"
  }
 },
 "nbformat": 4,
 "nbformat_minor": 2
}
