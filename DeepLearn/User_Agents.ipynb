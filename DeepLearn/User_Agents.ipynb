{
 "cells": [
  {
   "cell_type": "code",
   "execution_count": null,
   "metadata": {
    "scrolled": true
   },
   "outputs": [],
   "source": [
    "!pip install pandas numpy matplotlib"
   ]
  },
  {
   "cell_type": "code",
   "execution_count": null,
   "metadata": {},
   "outputs": [],
   "source": [
    "!pip install -U scikit-learn\n",
    "!pip install --upgrade tensorflow"
   ]
  },
  {
   "cell_type": "code",
   "execution_count": null,
   "metadata": {
    "scrolled": true
   },
   "outputs": [],
   "source": [
    "!pip install seaborn"
   ]
  },
  {
   "cell_type": "code",
   "execution_count": 218,
   "metadata": {},
   "outputs": [],
   "source": [
    "from user_agents import parse\n",
    "import pandas as pd\n",
    "import numpy as np\n",
    "import matplotlib.pyplot as plt\n",
    "import re\n",
    "import seaborn as sns\n",
    "from textwrap import wrap"
   ]
  },
  {
   "cell_type": "code",
   "execution_count": null,
   "metadata": {},
   "outputs": [],
   "source": [
    "f=open('../../../Downloads/benign/BlueCoat_Large.webgateway')"
   ]
  },
  {
   "cell_type": "code",
   "execution_count": null,
   "metadata": {},
   "outputs": [],
   "source": [
    "print(f.readline())"
   ]
  },
  {
   "cell_type": "code",
   "execution_count": null,
   "metadata": {},
   "outputs": [],
   "source": [
    "data =[]\n",
    "for x in f:\n",
    "    data.append(x)"
   ]
  },
  {
   "cell_type": "code",
   "execution_count": null,
   "metadata": {},
   "outputs": [],
   "source": [
    "f.close()"
   ]
  },
  {
   "cell_type": "code",
   "execution_count": null,
   "metadata": {},
   "outputs": [],
   "source": [
    "benign=pd.DataFrame(data)"
   ]
  },
  {
   "cell_type": "code",
   "execution_count": null,
   "metadata": {},
   "outputs": [],
   "source": [
    "benign.columns=['user_agent']"
   ]
  },
  {
   "cell_type": "code",
   "execution_count": 142,
   "metadata": {
    "scrolled": true
   },
   "outputs": [
    {
     "data": {
      "text/html": [
       "<div>\n",
       "<style scoped>\n",
       "    .dataframe tbody tr th:only-of-type {\n",
       "        vertical-align: middle;\n",
       "    }\n",
       "\n",
       "    .dataframe tbody tr th {\n",
       "        vertical-align: top;\n",
       "    }\n",
       "\n",
       "    .dataframe thead th {\n",
       "        text-align: right;\n",
       "    }\n",
       "</style>\n",
       "<table border=\"1\" class=\"dataframe\">\n",
       "  <thead>\n",
       "    <tr style=\"text-align: right;\">\n",
       "      <th></th>\n",
       "      <th>user_agent</th>\n",
       "      <th>timestamp</th>\n",
       "      <th>timestamp_obj</th>\n",
       "      <th>min</th>\n",
       "    </tr>\n",
       "  </thead>\n",
       "  <tbody>\n",
       "    <tr>\n",
       "      <th>0</th>\n",
       "      <td>[02/Aug/2011:22:00:00 -0700] \"user_6\" 0.0.0.0 ...</td>\n",
       "      <td>02/Aug/2011:22:00:00 -0700</td>\n",
       "      <td>2011-08-02 22:00:00</td>\n",
       "      <td>(22, 0)</td>\n",
       "    </tr>\n",
       "    <tr>\n",
       "      <th>1</th>\n",
       "      <td>[02/Aug/2011:22:00:00 -0700] \"user_7\" 0.0.0.0 ...</td>\n",
       "      <td>02/Aug/2011:22:00:00 -0700</td>\n",
       "      <td>2011-08-02 22:00:00</td>\n",
       "      <td>(22, 0)</td>\n",
       "    </tr>\n",
       "    <tr>\n",
       "      <th>2</th>\n",
       "      <td>[02/Aug/2011:22:00:00 -0700] \"user_8\" 0.0.0.0 ...</td>\n",
       "      <td>02/Aug/2011:22:00:00 -0700</td>\n",
       "      <td>2011-08-02 22:00:00</td>\n",
       "      <td>(22, 0)</td>\n",
       "    </tr>\n",
       "    <tr>\n",
       "      <th>3</th>\n",
       "      <td>[02/Aug/2011:22:00:00 -0700] \"user_9\" 0.0.0.0 ...</td>\n",
       "      <td>02/Aug/2011:22:00:00 -0700</td>\n",
       "      <td>2011-08-02 22:00:00</td>\n",
       "      <td>(22, 0)</td>\n",
       "    </tr>\n",
       "    <tr>\n",
       "      <th>4</th>\n",
       "      <td>[02/Aug/2011:22:00:00 -0700] \"user_10\" 0.0.0.0...</td>\n",
       "      <td>02/Aug/2011:22:00:00 -0700</td>\n",
       "      <td>2011-08-02 22:00:00</td>\n",
       "      <td>(22, 0)</td>\n",
       "    </tr>\n",
       "  </tbody>\n",
       "</table>\n",
       "</div>"
      ],
      "text/plain": [
       "                                          user_agent  \\\n",
       "0  [02/Aug/2011:22:00:00 -0700] \"user_6\" 0.0.0.0 ...   \n",
       "1  [02/Aug/2011:22:00:00 -0700] \"user_7\" 0.0.0.0 ...   \n",
       "2  [02/Aug/2011:22:00:00 -0700] \"user_8\" 0.0.0.0 ...   \n",
       "3  [02/Aug/2011:22:00:00 -0700] \"user_9\" 0.0.0.0 ...   \n",
       "4  [02/Aug/2011:22:00:00 -0700] \"user_10\" 0.0.0.0...   \n",
       "\n",
       "                    timestamp       timestamp_obj      min  \n",
       "0  02/Aug/2011:22:00:00 -0700 2011-08-02 22:00:00  (22, 0)  \n",
       "1  02/Aug/2011:22:00:00 -0700 2011-08-02 22:00:00  (22, 0)  \n",
       "2  02/Aug/2011:22:00:00 -0700 2011-08-02 22:00:00  (22, 0)  \n",
       "3  02/Aug/2011:22:00:00 -0700 2011-08-02 22:00:00  (22, 0)  \n",
       "4  02/Aug/2011:22:00:00 -0700 2011-08-02 22:00:00  (22, 0)  "
      ]
     },
     "execution_count": 142,
     "metadata": {},
     "output_type": "execute_result"
    }
   ],
   "source": [
    "benign.head()"
   ]
  },
  {
   "cell_type": "code",
   "execution_count": 143,
   "metadata": {},
   "outputs": [
    {
     "data": {
      "text/html": [
       "<div>\n",
       "<style scoped>\n",
       "    .dataframe tbody tr th:only-of-type {\n",
       "        vertical-align: middle;\n",
       "    }\n",
       "\n",
       "    .dataframe tbody tr th {\n",
       "        vertical-align: top;\n",
       "    }\n",
       "\n",
       "    .dataframe thead th {\n",
       "        text-align: right;\n",
       "    }\n",
       "</style>\n",
       "<table border=\"1\" class=\"dataframe\">\n",
       "  <thead>\n",
       "    <tr style=\"text-align: right;\">\n",
       "      <th></th>\n",
       "      <th>user_agent</th>\n",
       "      <th>timestamp</th>\n",
       "      <th>timestamp_obj</th>\n",
       "      <th>min</th>\n",
       "    </tr>\n",
       "  </thead>\n",
       "  <tbody>\n",
       "    <tr>\n",
       "      <th>1424280</th>\n",
       "      <td>[02/Aug/2011:23:27:37 -0700] \"user_425\" 0.0.0....</td>\n",
       "      <td>02/Aug/2011:23:27:37 -0700</td>\n",
       "      <td>2011-08-02 23:27:37</td>\n",
       "      <td>(23, 27)</td>\n",
       "    </tr>\n",
       "    <tr>\n",
       "      <th>1424281</th>\n",
       "      <td>[02/Aug/2011:23:27:37 -0700] \"user_426\" 0.0.0....</td>\n",
       "      <td>02/Aug/2011:23:27:37 -0700</td>\n",
       "      <td>2011-08-02 23:27:37</td>\n",
       "      <td>(23, 27)</td>\n",
       "    </tr>\n",
       "    <tr>\n",
       "      <th>1424282</th>\n",
       "      <td>[02/Aug/2011:23:27:37 -0700] \"user_427\" 0.0.0....</td>\n",
       "      <td>02/Aug/2011:23:27:37 -0700</td>\n",
       "      <td>2011-08-02 23:27:37</td>\n",
       "      <td>(23, 27)</td>\n",
       "    </tr>\n",
       "    <tr>\n",
       "      <th>1424283</th>\n",
       "      <td>[02/Aug/2011:23:27:37 -0700] \"user_428\" 0.0.0....</td>\n",
       "      <td>02/Aug/2011:23:27:37 -0700</td>\n",
       "      <td>2011-08-02 23:27:37</td>\n",
       "      <td>(23, 27)</td>\n",
       "    </tr>\n",
       "    <tr>\n",
       "      <th>1424284</th>\n",
       "      <td>[02/Aug/2011:23:27:37 -0700] \"user_429\" 0.0.0....</td>\n",
       "      <td>02/Aug/2011:23:27:37 -0700</td>\n",
       "      <td>2011-08-02 23:27:37</td>\n",
       "      <td>(23, 27)</td>\n",
       "    </tr>\n",
       "  </tbody>\n",
       "</table>\n",
       "</div>"
      ],
      "text/plain": [
       "                                                user_agent  \\\n",
       "1424280  [02/Aug/2011:23:27:37 -0700] \"user_425\" 0.0.0....   \n",
       "1424281  [02/Aug/2011:23:27:37 -0700] \"user_426\" 0.0.0....   \n",
       "1424282  [02/Aug/2011:23:27:37 -0700] \"user_427\" 0.0.0....   \n",
       "1424283  [02/Aug/2011:23:27:37 -0700] \"user_428\" 0.0.0....   \n",
       "1424284  [02/Aug/2011:23:27:37 -0700] \"user_429\" 0.0.0....   \n",
       "\n",
       "                          timestamp       timestamp_obj       min  \n",
       "1424280  02/Aug/2011:23:27:37 -0700 2011-08-02 23:27:37  (23, 27)  \n",
       "1424281  02/Aug/2011:23:27:37 -0700 2011-08-02 23:27:37  (23, 27)  \n",
       "1424282  02/Aug/2011:23:27:37 -0700 2011-08-02 23:27:37  (23, 27)  \n",
       "1424283  02/Aug/2011:23:27:37 -0700 2011-08-02 23:27:37  (23, 27)  \n",
       "1424284  02/Aug/2011:23:27:37 -0700 2011-08-02 23:27:37  (23, 27)  "
      ]
     },
     "execution_count": 143,
     "metadata": {},
     "output_type": "execute_result"
    }
   ],
   "source": [
    "benign.tail()"
   ]
  },
  {
   "cell_type": "code",
   "execution_count": 144,
   "metadata": {},
   "outputs": [],
   "source": [
    "a=parse(benign['user_agent'][3])"
   ]
  },
  {
   "cell_type": "code",
   "execution_count": 145,
   "metadata": {},
   "outputs": [
    {
     "data": {
      "text/plain": [
       "'PC / Windows 7 / IE 9.0'"
      ]
     },
     "execution_count": 145,
     "metadata": {},
     "output_type": "execute_result"
    }
   ],
   "source": [
    "str(a)"
   ]
  },
  {
   "cell_type": "code",
   "execution_count": 146,
   "metadata": {},
   "outputs": [
    {
     "data": {
      "text/plain": [
       "'IE'"
      ]
     },
     "execution_count": 146,
     "metadata": {},
     "output_type": "execute_result"
    }
   ],
   "source": [
    "a.browser.family"
   ]
  },
  {
   "cell_type": "code",
   "execution_count": 147,
   "metadata": {},
   "outputs": [
    {
     "data": {
      "text/plain": [
       "'[02/Aug/2011:22:00:00 -0700] \"user_9\" 0.0.0.0 0.0.0.0  9080 302 TCP_NC_MISS \"GET http://gamezer.com/billiards//imp HTTP/1.0\" \"unknown\"  \"low risk\" \"-\" 511 375 \"Mozilla/5.0 (compatible; MSIE 9.0; Windows NT 6.1; Trident/5.0)\" \"ad.yieldmanager.com\" \"-\" \"0\" \"\" \"-\"\\n'"
      ]
     },
     "execution_count": 147,
     "metadata": {},
     "output_type": "execute_result"
    }
   ],
   "source": [
    "a.ua_string"
   ]
  },
  {
   "cell_type": "code",
   "execution_count": 107,
   "metadata": {},
   "outputs": [],
   "source": [
    "benign['timestamp_obj']=benign['timestamp'].apply(lambda x:pd.to_datetime(x,format='%d/%b/%Y:%H:%M:%S -0700',errors='coerce'))"
   ]
  },
  {
   "cell_type": "code",
   "execution_count": 106,
   "metadata": {},
   "outputs": [],
   "source": [
    "benign['timestamp']=benign['user_agent'].apply(lambda x: re.findall(r'^\\[(.+?)\\]',x)[0])"
   ]
  },
  {
   "cell_type": "code",
   "execution_count": 108,
   "metadata": {},
   "outputs": [
    {
     "data": {
      "text/plain": [
       "user_agent       0\n",
       "timestamp        0\n",
       "timestamp_obj    0\n",
       "dtype: int64"
      ]
     },
     "execution_count": 108,
     "metadata": {},
     "output_type": "execute_result"
    }
   ],
   "source": [
    "benign.isnull().sum()"
   ]
  },
  {
   "cell_type": "code",
   "execution_count": 110,
   "metadata": {},
   "outputs": [
    {
     "data": {
      "text/plain": [
       "(Timestamp('2011-08-02 23:27:37'), Timestamp('2011-08-02 22:00:00'))"
      ]
     },
     "execution_count": 110,
     "metadata": {},
     "output_type": "execute_result"
    }
   ],
   "source": [
    "benign['timestamp_obj'].max(),benign['timestamp_obj'].min()"
   ]
  },
  {
   "cell_type": "code",
   "execution_count": 126,
   "metadata": {},
   "outputs": [],
   "source": [
    "benign['min']=benign['timestamp_obj'].apply(lambda x:(x.hour,x.minute))"
   ]
  },
  {
   "cell_type": "code",
   "execution_count": 128,
   "metadata": {},
   "outputs": [
    {
     "data": {
      "text/html": [
       "<div>\n",
       "<style scoped>\n",
       "    .dataframe tbody tr th:only-of-type {\n",
       "        vertical-align: middle;\n",
       "    }\n",
       "\n",
       "    .dataframe tbody tr th {\n",
       "        vertical-align: top;\n",
       "    }\n",
       "\n",
       "    .dataframe thead th {\n",
       "        text-align: right;\n",
       "    }\n",
       "</style>\n",
       "<table border=\"1\" class=\"dataframe\">\n",
       "  <thead>\n",
       "    <tr style=\"text-align: right;\">\n",
       "      <th></th>\n",
       "      <th>user_agent</th>\n",
       "      <th>timestamp</th>\n",
       "      <th>timestamp_obj</th>\n",
       "      <th>min</th>\n",
       "    </tr>\n",
       "  </thead>\n",
       "  <tbody>\n",
       "    <tr>\n",
       "      <th>0</th>\n",
       "      <td>[02/Aug/2011:22:00:00 -0700] \"user_6\" 0.0.0.0 ...</td>\n",
       "      <td>02/Aug/2011:22:00:00 -0700</td>\n",
       "      <td>2011-08-02 22:00:00</td>\n",
       "      <td>(22, 0)</td>\n",
       "    </tr>\n",
       "    <tr>\n",
       "      <th>1</th>\n",
       "      <td>[02/Aug/2011:22:00:00 -0700] \"user_7\" 0.0.0.0 ...</td>\n",
       "      <td>02/Aug/2011:22:00:00 -0700</td>\n",
       "      <td>2011-08-02 22:00:00</td>\n",
       "      <td>(22, 0)</td>\n",
       "    </tr>\n",
       "    <tr>\n",
       "      <th>2</th>\n",
       "      <td>[02/Aug/2011:22:00:00 -0700] \"user_8\" 0.0.0.0 ...</td>\n",
       "      <td>02/Aug/2011:22:00:00 -0700</td>\n",
       "      <td>2011-08-02 22:00:00</td>\n",
       "      <td>(22, 0)</td>\n",
       "    </tr>\n",
       "    <tr>\n",
       "      <th>3</th>\n",
       "      <td>[02/Aug/2011:22:00:00 -0700] \"user_9\" 0.0.0.0 ...</td>\n",
       "      <td>02/Aug/2011:22:00:00 -0700</td>\n",
       "      <td>2011-08-02 22:00:00</td>\n",
       "      <td>(22, 0)</td>\n",
       "    </tr>\n",
       "    <tr>\n",
       "      <th>4</th>\n",
       "      <td>[02/Aug/2011:22:00:00 -0700] \"user_10\" 0.0.0.0...</td>\n",
       "      <td>02/Aug/2011:22:00:00 -0700</td>\n",
       "      <td>2011-08-02 22:00:00</td>\n",
       "      <td>(22, 0)</td>\n",
       "    </tr>\n",
       "  </tbody>\n",
       "</table>\n",
       "</div>"
      ],
      "text/plain": [
       "                                          user_agent  \\\n",
       "0  [02/Aug/2011:22:00:00 -0700] \"user_6\" 0.0.0.0 ...   \n",
       "1  [02/Aug/2011:22:00:00 -0700] \"user_7\" 0.0.0.0 ...   \n",
       "2  [02/Aug/2011:22:00:00 -0700] \"user_8\" 0.0.0.0 ...   \n",
       "3  [02/Aug/2011:22:00:00 -0700] \"user_9\" 0.0.0.0 ...   \n",
       "4  [02/Aug/2011:22:00:00 -0700] \"user_10\" 0.0.0.0...   \n",
       "\n",
       "                    timestamp       timestamp_obj      min  \n",
       "0  02/Aug/2011:22:00:00 -0700 2011-08-02 22:00:00  (22, 0)  \n",
       "1  02/Aug/2011:22:00:00 -0700 2011-08-02 22:00:00  (22, 0)  \n",
       "2  02/Aug/2011:22:00:00 -0700 2011-08-02 22:00:00  (22, 0)  \n",
       "3  02/Aug/2011:22:00:00 -0700 2011-08-02 22:00:00  (22, 0)  \n",
       "4  02/Aug/2011:22:00:00 -0700 2011-08-02 22:00:00  (22, 0)  "
      ]
     },
     "execution_count": 128,
     "metadata": {},
     "output_type": "execute_result"
    }
   ],
   "source": [
    "benign.head()"
   ]
  },
  {
   "cell_type": "code",
   "execution_count": 152,
   "metadata": {},
   "outputs": [],
   "source": [
    "grouped_benign=benign.groupby('min', group_keys=False)"
   ]
  },
  {
   "cell_type": "code",
   "execution_count": 190,
   "metadata": {},
   "outputs": [
    {
     "data": {
      "text/plain": [
       "<matplotlib.axes._subplots.AxesSubplot at 0x7f3bb8763c50>"
      ]
     },
     "execution_count": 190,
     "metadata": {},
     "output_type": "execute_result"
    },
    {
     "data": {
      "image/png": "[encoded data removed]",
      "text/plain": [
       "<Figure size 1440x576 with 1 Axes>"
      ]
     },
     "metadata": {
      "needs_background": "light"
     },
     "output_type": "display_data"
    }
   ],
   "source": [
    "plt.figure(figsize=(20,8))\n",
    "grouped_benign['min'].value_counts().plot(kind='bar')"
   ]
  },
  {
   "cell_type": "code",
   "execution_count": 167,
   "metadata": {},
   "outputs": [],
   "source": [
    "sample=grouped_benign.apply(lambda x: x.sample(frac=0.005)).reset_index()"
   ]
  },
  {
   "cell_type": "code",
   "execution_count": 168,
   "metadata": {},
   "outputs": [
    {
     "data": {
      "text/html": [
       "<div>\n",
       "<style scoped>\n",
       "    .dataframe tbody tr th:only-of-type {\n",
       "        vertical-align: middle;\n",
       "    }\n",
       "\n",
       "    .dataframe tbody tr th {\n",
       "        vertical-align: top;\n",
       "    }\n",
       "\n",
       "    .dataframe thead th {\n",
       "        text-align: right;\n",
       "    }\n",
       "</style>\n",
       "<table border=\"1\" class=\"dataframe\">\n",
       "  <thead>\n",
       "    <tr style=\"text-align: right;\">\n",
       "      <th></th>\n",
       "      <th>index</th>\n",
       "      <th>user_agent</th>\n",
       "      <th>timestamp</th>\n",
       "      <th>timestamp_obj</th>\n",
       "      <th>min</th>\n",
       "    </tr>\n",
       "  </thead>\n",
       "  <tbody>\n",
       "    <tr>\n",
       "      <th>0</th>\n",
       "      <td>7592</td>\n",
       "      <td>[02/Aug/2011:22:00:25 -0700] \"user_98\" 0.0.0.0...</td>\n",
       "      <td>02/Aug/2011:22:00:25 -0700</td>\n",
       "      <td>2011-08-02 22:00:25</td>\n",
       "      <td>(22, 0)</td>\n",
       "    </tr>\n",
       "    <tr>\n",
       "      <th>1</th>\n",
       "      <td>1424</td>\n",
       "      <td>[02/Aug/2011:22:00:05 -0700] \"user_430\" 0.0.0....</td>\n",
       "      <td>02/Aug/2011:22:00:05 -0700</td>\n",
       "      <td>2011-08-02 22:00:05</td>\n",
       "      <td>(22, 0)</td>\n",
       "    </tr>\n",
       "    <tr>\n",
       "      <th>2</th>\n",
       "      <td>4280</td>\n",
       "      <td>[02/Aug/2011:22:00:15 -0700] \"user_286\" 0.0.0....</td>\n",
       "      <td>02/Aug/2011:22:00:15 -0700</td>\n",
       "      <td>2011-08-02 22:00:15</td>\n",
       "      <td>(22, 0)</td>\n",
       "    </tr>\n",
       "    <tr>\n",
       "      <th>3</th>\n",
       "      <td>2921</td>\n",
       "      <td>[02/Aug/2011:22:00:10 -0700] \"user_427\" 0.0.0....</td>\n",
       "      <td>02/Aug/2011:22:00:10 -0700</td>\n",
       "      <td>2011-08-02 22:00:10</td>\n",
       "      <td>(22, 0)</td>\n",
       "    </tr>\n",
       "    <tr>\n",
       "      <th>4</th>\n",
       "      <td>14599</td>\n",
       "      <td>[02/Aug/2011:22:00:46 -0700] \"user_105\" 0.0.0....</td>\n",
       "      <td>02/Aug/2011:22:00:46 -0700</td>\n",
       "      <td>2011-08-02 22:00:46</td>\n",
       "      <td>(22, 0)</td>\n",
       "    </tr>\n",
       "    <tr>\n",
       "      <th>...</th>\n",
       "      <td>...</td>\n",
       "      <td>...</td>\n",
       "      <td>...</td>\n",
       "      <td>...</td>\n",
       "      <td>...</td>\n",
       "    </tr>\n",
       "    <tr>\n",
       "      <th>7116</th>\n",
       "      <td>1417805</td>\n",
       "      <td>[02/Aug/2011:23:27:09 -0700] \"user_450\" 0.0.0....</td>\n",
       "      <td>02/Aug/2011:23:27:09 -0700</td>\n",
       "      <td>2011-08-02 23:27:09</td>\n",
       "      <td>(23, 27)</td>\n",
       "    </tr>\n",
       "    <tr>\n",
       "      <th>7117</th>\n",
       "      <td>1416181</td>\n",
       "      <td>[02/Aug/2011:23:27:03 -0700] \"user_326\" 0.0.0....</td>\n",
       "      <td>02/Aug/2011:23:27:03 -0700</td>\n",
       "      <td>2011-08-02 23:27:03</td>\n",
       "      <td>(23, 27)</td>\n",
       "    </tr>\n",
       "    <tr>\n",
       "      <th>7118</th>\n",
       "      <td>1416979</td>\n",
       "      <td>[02/Aug/2011:23:27:05 -0700] \"user_124\" 0.0.0....</td>\n",
       "      <td>02/Aug/2011:23:27:05 -0700</td>\n",
       "      <td>2011-08-02 23:27:05</td>\n",
       "      <td>(23, 27)</td>\n",
       "    </tr>\n",
       "    <tr>\n",
       "      <th>7119</th>\n",
       "      <td>1424026</td>\n",
       "      <td>[02/Aug/2011:23:27:36 -0700] \"user_171\" 0.0.0....</td>\n",
       "      <td>02/Aug/2011:23:27:36 -0700</td>\n",
       "      <td>2011-08-02 23:27:36</td>\n",
       "      <td>(23, 27)</td>\n",
       "    </tr>\n",
       "    <tr>\n",
       "      <th>7120</th>\n",
       "      <td>1422393</td>\n",
       "      <td>[02/Aug/2011:23:27:29 -0700] \"user_38\" 0.0.0.0...</td>\n",
       "      <td>02/Aug/2011:23:27:29 -0700</td>\n",
       "      <td>2011-08-02 23:27:29</td>\n",
       "      <td>(23, 27)</td>\n",
       "    </tr>\n",
       "  </tbody>\n",
       "</table>\n",
       "<p>7121 rows × 5 columns</p>\n",
       "</div>"
      ],
      "text/plain": [
       "        index                                         user_agent  \\\n",
       "0        7592  [02/Aug/2011:22:00:25 -0700] \"user_98\" 0.0.0.0...   \n",
       "1        1424  [02/Aug/2011:22:00:05 -0700] \"user_430\" 0.0.0....   \n",
       "2        4280  [02/Aug/2011:22:00:15 -0700] \"user_286\" 0.0.0....   \n",
       "3        2921  [02/Aug/2011:22:00:10 -0700] \"user_427\" 0.0.0....   \n",
       "4       14599  [02/Aug/2011:22:00:46 -0700] \"user_105\" 0.0.0....   \n",
       "...       ...                                                ...   \n",
       "7116  1417805  [02/Aug/2011:23:27:09 -0700] \"user_450\" 0.0.0....   \n",
       "7117  1416181  [02/Aug/2011:23:27:03 -0700] \"user_326\" 0.0.0....   \n",
       "7118  1416979  [02/Aug/2011:23:27:05 -0700] \"user_124\" 0.0.0....   \n",
       "7119  1424026  [02/Aug/2011:23:27:36 -0700] \"user_171\" 0.0.0....   \n",
       "7120  1422393  [02/Aug/2011:23:27:29 -0700] \"user_38\" 0.0.0.0...   \n",
       "\n",
       "                       timestamp       timestamp_obj       min  \n",
       "0     02/Aug/2011:22:00:25 -0700 2011-08-02 22:00:25   (22, 0)  \n",
       "1     02/Aug/2011:22:00:05 -0700 2011-08-02 22:00:05   (22, 0)  \n",
       "2     02/Aug/2011:22:00:15 -0700 2011-08-02 22:00:15   (22, 0)  \n",
       "3     02/Aug/2011:22:00:10 -0700 2011-08-02 22:00:10   (22, 0)  \n",
       "4     02/Aug/2011:22:00:46 -0700 2011-08-02 22:00:46   (22, 0)  \n",
       "...                          ...                 ...       ...  \n",
       "7116  02/Aug/2011:23:27:09 -0700 2011-08-02 23:27:09  (23, 27)  \n",
       "7117  02/Aug/2011:23:27:03 -0700 2011-08-02 23:27:03  (23, 27)  \n",
       "7118  02/Aug/2011:23:27:05 -0700 2011-08-02 23:27:05  (23, 27)  \n",
       "7119  02/Aug/2011:23:27:36 -0700 2011-08-02 23:27:36  (23, 27)  \n",
       "7120  02/Aug/2011:23:27:29 -0700 2011-08-02 23:27:29  (23, 27)  \n",
       "\n",
       "[7121 rows x 5 columns]"
      ]
     },
     "execution_count": 168,
     "metadata": {},
     "output_type": "execute_result"
    }
   ],
   "source": [
    "sample"
   ]
  },
  {
   "cell_type": "code",
   "execution_count": 191,
   "metadata": {},
   "outputs": [
    {
     "data": {
      "text/plain": [
       "<matplotlib.axes._subplots.AxesSubplot at 0x7f3bb879bfd0>"
      ]
     },
     "execution_count": 191,
     "metadata": {},
     "output_type": "execute_result"
    },
    {
     "data": {
      "image/png": "[encoded data removed]",
      "text/plain": [
       "<Figure size 1440x576 with 1 Axes>"
      ]
     },
     "metadata": {
      "needs_background": "light"
     },
     "output_type": "display_data"
    }
   ],
   "source": [
    "plt.figure(figsize=(20,8))\n",
    "sample['min'].value_counts().plot(kind='bar')"
   ]
  },
  {
   "cell_type": "code",
   "execution_count": 169,
   "metadata": {},
   "outputs": [],
   "source": [
    "sample['browser_family']=sample['user_agent'].apply(lambda x:parse(x).browser.family)"
   ]
  },
  {
   "cell_type": "code",
   "execution_count": 170,
   "metadata": {},
   "outputs": [],
   "source": [
    "sample['browser_version']=sample['user_agent'].apply(lambda x:parse(x).browser.version_string)"
   ]
  },
  {
   "cell_type": "code",
   "execution_count": 171,
   "metadata": {},
   "outputs": [],
   "source": [
    "sample['os_family']=sample['user_agent'].apply(lambda x:parse(x).os.family)"
   ]
  },
  {
   "cell_type": "code",
   "execution_count": 172,
   "metadata": {},
   "outputs": [],
   "source": [
    "sample['os_version']=sample['user_agent'].apply(lambda x:parse(x).os.version_string)"
   ]
  },
  {
   "cell_type": "code",
   "execution_count": 173,
   "metadata": {},
   "outputs": [],
   "source": [
    "sample['device_family']=sample['user_agent'].apply(lambda x:parse(x).device.family)"
   ]
  },
  {
   "cell_type": "code",
   "execution_count": 174,
   "metadata": {},
   "outputs": [],
   "source": [
    "sample['device_brand']=sample['user_agent'].apply(lambda x:parse(x).device.brand)"
   ]
  },
  {
   "cell_type": "code",
   "execution_count": 175,
   "metadata": {},
   "outputs": [],
   "source": [
    "sample['device_model']=sample['user_agent'].apply(lambda x:parse(x).device.model)"
   ]
  },
  {
   "cell_type": "code",
   "execution_count": 176,
   "metadata": {},
   "outputs": [],
   "source": [
    "sample['is_mobile']=sample['user_agent'].apply(lambda x:parse(x).is_mobile)"
   ]
  },
  {
   "cell_type": "code",
   "execution_count": 177,
   "metadata": {},
   "outputs": [],
   "source": [
    "sample['is_tablet']=sample['user_agent'].apply(lambda x:parse(x).is_tablet)"
   ]
  },
  {
   "cell_type": "code",
   "execution_count": 178,
   "metadata": {},
   "outputs": [],
   "source": [
    "sample['is_pc']=sample['user_agent'].apply(lambda x:parse(x).is_pc)"
   ]
  },
  {
   "cell_type": "code",
   "execution_count": 179,
   "metadata": {},
   "outputs": [],
   "source": [
    "sample['is_touch_capable']=sample['user_agent'].apply(lambda x:parse(x).is_touch_capable)"
   ]
  },
  {
   "cell_type": "code",
   "execution_count": 180,
   "metadata": {},
   "outputs": [],
   "source": [
    "sample['is_bot']=sample['user_agent'].apply(lambda x:parse(x).is_bot)"
   ]
  },
  {
   "cell_type": "code",
   "execution_count": 198,
   "metadata": {},
   "outputs": [],
   "source": [
    "sample=pd.DataFrame(sample)"
   ]
  },
  {
   "cell_type": "code",
   "execution_count": 319,
   "metadata": {},
   "outputs": [
    {
     "data": {
      "text/html": [
       "<div>\n",
       "<style scoped>\n",
       "    .dataframe tbody tr th:only-of-type {\n",
       "        vertical-align: middle;\n",
       "    }\n",
       "\n",
       "    .dataframe tbody tr th {\n",
       "        vertical-align: top;\n",
       "    }\n",
       "\n",
       "    .dataframe thead th {\n",
       "        text-align: right;\n",
       "    }\n",
       "</style>\n",
       "<table border=\"1\" class=\"dataframe\">\n",
       "  <thead>\n",
       "    <tr style=\"text-align: right;\">\n",
       "      <th></th>\n",
       "      <th>index</th>\n",
       "      <th>user_agent</th>\n",
       "      <th>timestamp</th>\n",
       "      <th>timestamp_obj</th>\n",
       "      <th>min</th>\n",
       "      <th>browser_family</th>\n",
       "      <th>browser_version</th>\n",
       "      <th>os_family</th>\n",
       "      <th>os_version</th>\n",
       "      <th>device_family</th>\n",
       "      <th>device_brand</th>\n",
       "      <th>device_model</th>\n",
       "      <th>is_mobile</th>\n",
       "      <th>is_tablet</th>\n",
       "      <th>is_pc</th>\n",
       "      <th>is_touch_capable</th>\n",
       "      <th>is_bot</th>\n",
       "    </tr>\n",
       "  </thead>\n",
       "  <tbody>\n",
       "    <tr>\n",
       "      <th>0</th>\n",
       "      <td>7592</td>\n",
       "      <td>[02/Aug/2011:22:00:25 -0700] \"user_98\" 0.0.0.0...</td>\n",
       "      <td>02/Aug/2011:22:00:25 -0700</td>\n",
       "      <td>2011-08-02 22:00:25</td>\n",
       "      <td>(22, 0)</td>\n",
       "      <td>IE</td>\n",
       "      <td>8.0</td>\n",
       "      <td>Windows</td>\n",
       "      <td>7</td>\n",
       "      <td>Other</td>\n",
       "      <td>None</td>\n",
       "      <td>None</td>\n",
       "      <td>False</td>\n",
       "      <td>False</td>\n",
       "      <td>True</td>\n",
       "      <td>False</td>\n",
       "      <td>False</td>\n",
       "    </tr>\n",
       "    <tr>\n",
       "      <th>1</th>\n",
       "      <td>1424</td>\n",
       "      <td>[02/Aug/2011:22:00:05 -0700] \"user_430\" 0.0.0....</td>\n",
       "      <td>02/Aug/2011:22:00:05 -0700</td>\n",
       "      <td>2011-08-02 22:00:05</td>\n",
       "      <td>(22, 0)</td>\n",
       "      <td>IE</td>\n",
       "      <td>6.0</td>\n",
       "      <td>Windows</td>\n",
       "      <td>XP</td>\n",
       "      <td>Other</td>\n",
       "      <td>None</td>\n",
       "      <td>None</td>\n",
       "      <td>False</td>\n",
       "      <td>False</td>\n",
       "      <td>True</td>\n",
       "      <td>False</td>\n",
       "      <td>False</td>\n",
       "    </tr>\n",
       "    <tr>\n",
       "      <th>2</th>\n",
       "      <td>4280</td>\n",
       "      <td>[02/Aug/2011:22:00:15 -0700] \"user_286\" 0.0.0....</td>\n",
       "      <td>02/Aug/2011:22:00:15 -0700</td>\n",
       "      <td>2011-08-02 22:00:15</td>\n",
       "      <td>(22, 0)</td>\n",
       "      <td>IE</td>\n",
       "      <td>9.0</td>\n",
       "      <td>Windows</td>\n",
       "      <td>7</td>\n",
       "      <td>Other</td>\n",
       "      <td>None</td>\n",
       "      <td>None</td>\n",
       "      <td>False</td>\n",
       "      <td>False</td>\n",
       "      <td>True</td>\n",
       "      <td>False</td>\n",
       "      <td>False</td>\n",
       "    </tr>\n",
       "    <tr>\n",
       "      <th>3</th>\n",
       "      <td>2921</td>\n",
       "      <td>[02/Aug/2011:22:00:10 -0700] \"user_427\" 0.0.0....</td>\n",
       "      <td>02/Aug/2011:22:00:10 -0700</td>\n",
       "      <td>2011-08-02 22:00:10</td>\n",
       "      <td>(22, 0)</td>\n",
       "      <td>IE</td>\n",
       "      <td>8.0</td>\n",
       "      <td>Windows</td>\n",
       "      <td>7</td>\n",
       "      <td>Other</td>\n",
       "      <td>None</td>\n",
       "      <td>None</td>\n",
       "      <td>False</td>\n",
       "      <td>False</td>\n",
       "      <td>True</td>\n",
       "      <td>False</td>\n",
       "      <td>False</td>\n",
       "    </tr>\n",
       "    <tr>\n",
       "      <th>4</th>\n",
       "      <td>14599</td>\n",
       "      <td>[02/Aug/2011:22:00:46 -0700] \"user_105\" 0.0.0....</td>\n",
       "      <td>02/Aug/2011:22:00:46 -0700</td>\n",
       "      <td>2011-08-02 22:00:46</td>\n",
       "      <td>(22, 0)</td>\n",
       "      <td>Firefox</td>\n",
       "      <td>3.6.18</td>\n",
       "      <td>Windows</td>\n",
       "      <td>XP</td>\n",
       "      <td>Other</td>\n",
       "      <td>None</td>\n",
       "      <td>None</td>\n",
       "      <td>False</td>\n",
       "      <td>False</td>\n",
       "      <td>True</td>\n",
       "      <td>False</td>\n",
       "      <td>False</td>\n",
       "    </tr>\n",
       "    <tr>\n",
       "      <th>...</th>\n",
       "      <td>...</td>\n",
       "      <td>...</td>\n",
       "      <td>...</td>\n",
       "      <td>...</td>\n",
       "      <td>...</td>\n",
       "      <td>...</td>\n",
       "      <td>...</td>\n",
       "      <td>...</td>\n",
       "      <td>...</td>\n",
       "      <td>...</td>\n",
       "      <td>...</td>\n",
       "      <td>...</td>\n",
       "      <td>...</td>\n",
       "      <td>...</td>\n",
       "      <td>...</td>\n",
       "      <td>...</td>\n",
       "      <td>...</td>\n",
       "    </tr>\n",
       "    <tr>\n",
       "      <th>7116</th>\n",
       "      <td>1417805</td>\n",
       "      <td>[02/Aug/2011:23:27:09 -0700] \"user_450\" 0.0.0....</td>\n",
       "      <td>02/Aug/2011:23:27:09 -0700</td>\n",
       "      <td>2011-08-02 23:27:09</td>\n",
       "      <td>(23, 27)</td>\n",
       "      <td>Firefox</td>\n",
       "      <td>5.0</td>\n",
       "      <td>Windows</td>\n",
       "      <td>7</td>\n",
       "      <td>Other</td>\n",
       "      <td>None</td>\n",
       "      <td>None</td>\n",
       "      <td>False</td>\n",
       "      <td>False</td>\n",
       "      <td>True</td>\n",
       "      <td>False</td>\n",
       "      <td>False</td>\n",
       "    </tr>\n",
       "    <tr>\n",
       "      <th>7117</th>\n",
       "      <td>1416181</td>\n",
       "      <td>[02/Aug/2011:23:27:03 -0700] \"user_326\" 0.0.0....</td>\n",
       "      <td>02/Aug/2011:23:27:03 -0700</td>\n",
       "      <td>2011-08-02 23:27:03</td>\n",
       "      <td>(23, 27)</td>\n",
       "      <td>Chrome</td>\n",
       "      <td>12.0.742</td>\n",
       "      <td>Windows</td>\n",
       "      <td>7</td>\n",
       "      <td>Other</td>\n",
       "      <td>None</td>\n",
       "      <td>None</td>\n",
       "      <td>False</td>\n",
       "      <td>False</td>\n",
       "      <td>True</td>\n",
       "      <td>False</td>\n",
       "      <td>False</td>\n",
       "    </tr>\n",
       "    <tr>\n",
       "      <th>7118</th>\n",
       "      <td>1416979</td>\n",
       "      <td>[02/Aug/2011:23:27:05 -0700] \"user_124\" 0.0.0....</td>\n",
       "      <td>02/Aug/2011:23:27:05 -0700</td>\n",
       "      <td>2011-08-02 23:27:05</td>\n",
       "      <td>(23, 27)</td>\n",
       "      <td>IE</td>\n",
       "      <td>8.0</td>\n",
       "      <td>Windows</td>\n",
       "      <td>7</td>\n",
       "      <td>Other</td>\n",
       "      <td>None</td>\n",
       "      <td>None</td>\n",
       "      <td>False</td>\n",
       "      <td>False</td>\n",
       "      <td>True</td>\n",
       "      <td>False</td>\n",
       "      <td>False</td>\n",
       "    </tr>\n",
       "    <tr>\n",
       "      <th>7119</th>\n",
       "      <td>1424026</td>\n",
       "      <td>[02/Aug/2011:23:27:36 -0700] \"user_171\" 0.0.0....</td>\n",
       "      <td>02/Aug/2011:23:27:36 -0700</td>\n",
       "      <td>2011-08-02 23:27:36</td>\n",
       "      <td>(23, 27)</td>\n",
       "      <td>Chrome</td>\n",
       "      <td>12.0.742</td>\n",
       "      <td>Windows</td>\n",
       "      <td>7</td>\n",
       "      <td>Other</td>\n",
       "      <td>None</td>\n",
       "      <td>None</td>\n",
       "      <td>False</td>\n",
       "      <td>False</td>\n",
       "      <td>True</td>\n",
       "      <td>False</td>\n",
       "      <td>False</td>\n",
       "    </tr>\n",
       "    <tr>\n",
       "      <th>7120</th>\n",
       "      <td>1422393</td>\n",
       "      <td>[02/Aug/2011:23:27:29 -0700] \"user_38\" 0.0.0.0...</td>\n",
       "      <td>02/Aug/2011:23:27:29 -0700</td>\n",
       "      <td>2011-08-02 23:27:29</td>\n",
       "      <td>(23, 27)</td>\n",
       "      <td>IE</td>\n",
       "      <td>8.0</td>\n",
       "      <td>Windows</td>\n",
       "      <td>7</td>\n",
       "      <td>Other</td>\n",
       "      <td>None</td>\n",
       "      <td>None</td>\n",
       "      <td>False</td>\n",
       "      <td>False</td>\n",
       "      <td>True</td>\n",
       "      <td>False</td>\n",
       "      <td>False</td>\n",
       "    </tr>\n",
       "  </tbody>\n",
       "</table>\n",
       "<p>7121 rows × 17 columns</p>\n",
       "</div>"
      ],
      "text/plain": [
       "        index                                         user_agent  \\\n",
       "0        7592  [02/Aug/2011:22:00:25 -0700] \"user_98\" 0.0.0.0...   \n",
       "1        1424  [02/Aug/2011:22:00:05 -0700] \"user_430\" 0.0.0....   \n",
       "2        4280  [02/Aug/2011:22:00:15 -0700] \"user_286\" 0.0.0....   \n",
       "3        2921  [02/Aug/2011:22:00:10 -0700] \"user_427\" 0.0.0....   \n",
       "4       14599  [02/Aug/2011:22:00:46 -0700] \"user_105\" 0.0.0....   \n",
       "...       ...                                                ...   \n",
       "7116  1417805  [02/Aug/2011:23:27:09 -0700] \"user_450\" 0.0.0....   \n",
       "7117  1416181  [02/Aug/2011:23:27:03 -0700] \"user_326\" 0.0.0....   \n",
       "7118  1416979  [02/Aug/2011:23:27:05 -0700] \"user_124\" 0.0.0....   \n",
       "7119  1424026  [02/Aug/2011:23:27:36 -0700] \"user_171\" 0.0.0....   \n",
       "7120  1422393  [02/Aug/2011:23:27:29 -0700] \"user_38\" 0.0.0.0...   \n",
       "\n",
       "                       timestamp       timestamp_obj       min browser_family  \\\n",
       "0     02/Aug/2011:22:00:25 -0700 2011-08-02 22:00:25   (22, 0)             IE   \n",
       "1     02/Aug/2011:22:00:05 -0700 2011-08-02 22:00:05   (22, 0)             IE   \n",
       "2     02/Aug/2011:22:00:15 -0700 2011-08-02 22:00:15   (22, 0)             IE   \n",
       "3     02/Aug/2011:22:00:10 -0700 2011-08-02 22:00:10   (22, 0)             IE   \n",
       "4     02/Aug/2011:22:00:46 -0700 2011-08-02 22:00:46   (22, 0)        Firefox   \n",
       "...                          ...                 ...       ...            ...   \n",
       "7116  02/Aug/2011:23:27:09 -0700 2011-08-02 23:27:09  (23, 27)        Firefox   \n",
       "7117  02/Aug/2011:23:27:03 -0700 2011-08-02 23:27:03  (23, 27)         Chrome   \n",
       "7118  02/Aug/2011:23:27:05 -0700 2011-08-02 23:27:05  (23, 27)             IE   \n",
       "7119  02/Aug/2011:23:27:36 -0700 2011-08-02 23:27:36  (23, 27)         Chrome   \n",
       "7120  02/Aug/2011:23:27:29 -0700 2011-08-02 23:27:29  (23, 27)             IE   \n",
       "\n",
       "     browser_version os_family os_version device_family device_brand  \\\n",
       "0                8.0   Windows          7         Other         None   \n",
       "1                6.0   Windows         XP         Other         None   \n",
       "2                9.0   Windows          7         Other         None   \n",
       "3                8.0   Windows          7         Other         None   \n",
       "4             3.6.18   Windows         XP         Other         None   \n",
       "...              ...       ...        ...           ...          ...   \n",
       "7116             5.0   Windows          7         Other         None   \n",
       "7117        12.0.742   Windows          7         Other         None   \n",
       "7118             8.0   Windows          7         Other         None   \n",
       "7119        12.0.742   Windows          7         Other         None   \n",
       "7120             8.0   Windows          7         Other         None   \n",
       "\n",
       "     device_model  is_mobile  is_tablet  is_pc  is_touch_capable  is_bot  \n",
       "0            None      False      False   True             False   False  \n",
       "1            None      False      False   True             False   False  \n",
       "2            None      False      False   True             False   False  \n",
       "3            None      False      False   True             False   False  \n",
       "4            None      False      False   True             False   False  \n",
       "...           ...        ...        ...    ...               ...     ...  \n",
       "7116         None      False      False   True             False   False  \n",
       "7117         None      False      False   True             False   False  \n",
       "7118         None      False      False   True             False   False  \n",
       "7119         None      False      False   True             False   False  \n",
       "7120         None      False      False   True             False   False  \n",
       "\n",
       "[7121 rows x 17 columns]"
      ]
     },
     "execution_count": 319,
     "metadata": {},
     "output_type": "execute_result"
    }
   ],
   "source": [
    "sample"
   ]
  },
  {
   "cell_type": "code",
   "execution_count": 199,
   "metadata": {},
   "outputs": [
    {
     "name": "stdout",
     "output_type": "stream",
     "text": [
      "<class 'pandas.core.frame.DataFrame'>\n",
      "RangeIndex: 7121 entries, 0 to 7120\n",
      "Data columns (total 17 columns):\n",
      " #   Column            Non-Null Count  Dtype         \n",
      "---  ------            --------------  -----         \n",
      " 0   index             7121 non-null   int64         \n",
      " 1   user_agent        7121 non-null   object        \n",
      " 2   timestamp         7121 non-null   object        \n",
      " 3   timestamp_obj     7121 non-null   datetime64[ns]\n",
      " 4   min               7121 non-null   object        \n",
      " 5   browser_family    7121 non-null   object        \n",
      " 6   browser_version   7121 non-null   object        \n",
      " 7   os_family         7121 non-null   object        \n",
      " 8   os_version        7121 non-null   object        \n",
      " 9   device_family     7121 non-null   object        \n",
      " 10  device_brand      588 non-null    object        \n",
      " 11  device_model      588 non-null    object        \n",
      " 12  is_mobile         7121 non-null   bool          \n",
      " 13  is_tablet         7121 non-null   bool          \n",
      " 14  is_pc             7121 non-null   bool          \n",
      " 15  is_touch_capable  7121 non-null   bool          \n",
      " 16  is_bot            7121 non-null   bool          \n",
      "dtypes: bool(5), datetime64[ns](1), int64(1), object(10)\n",
      "memory usage: 702.5+ KB\n"
     ]
    }
   ],
   "source": [
    "sample.info()"
   ]
  },
  {
   "cell_type": "code",
   "execution_count": 305,
   "metadata": {},
   "outputs": [
    {
     "data": {
      "image/png": "[encoded data removed]",
      "text/plain": [
       "<Figure size 1440x1440 with 1 Axes>"
      ]
     },
     "metadata": {
      "needs_background": "light"
     },
     "output_type": "display_data"
    }
   ],
   "source": [
    "plt.figure(figsize=(20,20))\n",
    "ax=sns.countplot(y='browser_family',data=sample)\n",
    "#labels=['\\n'.join(wrap(l.get_text(),20)) for l in ax.get_yticklabels()]\n",
    "labels=[l.get_text()[:20] for l in ax.get_yticklabels()]\n",
    "ax.set_yticklabels(labels)\n",
    "plt.show()"
   ]
  },
  {
   "cell_type": "code",
   "execution_count": 215,
   "metadata": {},
   "outputs": [
    {
     "data": {
      "text/html": [
       "<div>\n",
       "<style scoped>\n",
       "    .dataframe tbody tr th:only-of-type {\n",
       "        vertical-align: middle;\n",
       "    }\n",
       "\n",
       "    .dataframe tbody tr th {\n",
       "        vertical-align: top;\n",
       "    }\n",
       "\n",
       "    .dataframe thead th {\n",
       "        text-align: right;\n",
       "    }\n",
       "</style>\n",
       "<table border=\"1\" class=\"dataframe\">\n",
       "  <thead>\n",
       "    <tr style=\"text-align: right;\">\n",
       "      <th></th>\n",
       "      <th>browser_family</th>\n",
       "      <th>counts</th>\n",
       "    </tr>\n",
       "  </thead>\n",
       "  <tbody>\n",
       "    <tr>\n",
       "      <th>0</th>\n",
       "      <td>IE</td>\n",
       "      <td>2850</td>\n",
       "    </tr>\n",
       "    <tr>\n",
       "      <th>1</th>\n",
       "      <td>Firefox</td>\n",
       "      <td>2382</td>\n",
       "    </tr>\n",
       "    <tr>\n",
       "      <th>2</th>\n",
       "      <td>Other</td>\n",
       "      <td>707</td>\n",
       "    </tr>\n",
       "    <tr>\n",
       "      <th>3</th>\n",
       "      <td>Chrome</td>\n",
       "      <td>500</td>\n",
       "    </tr>\n",
       "    <tr>\n",
       "      <th>4</th>\n",
       "      <td>Mobile Safari</td>\n",
       "      <td>130</td>\n",
       "    </tr>\n",
       "    <tr>\n",
       "      <th>5</th>\n",
       "      <td>Safari</td>\n",
       "      <td>119</td>\n",
       "    </tr>\n",
       "    <tr>\n",
       "      <th>6</th>\n",
       "      <td>Opera</td>\n",
       "      <td>90</td>\n",
       "    </tr>\n",
       "    <tr>\n",
       "      <th>7</th>\n",
       "      <td>Nokia Browser</td>\n",
       "      <td>80</td>\n",
       "    </tr>\n",
       "    <tr>\n",
       "      <th>8</th>\n",
       "      <td>Android</td>\n",
       "      <td>51</td>\n",
       "    </tr>\n",
       "    <tr>\n",
       "      <th>9</th>\n",
       "      <td>Mobile Safari UI/WKWebView</td>\n",
       "      <td>43</td>\n",
       "    </tr>\n",
       "    <tr>\n",
       "      <th>10</th>\n",
       "      <td>Firefox Beta</td>\n",
       "      <td>34</td>\n",
       "    </tr>\n",
       "    <tr>\n",
       "      <th>11</th>\n",
       "      <td>favicon</td>\n",
       "      <td>23</td>\n",
       "    </tr>\n",
       "    <tr>\n",
       "      <th>12</th>\n",
       "      <td>Nokia OSS Browser</td>\n",
       "      <td>15</td>\n",
       "    </tr>\n",
       "    <tr>\n",
       "      <th>13</th>\n",
       "      <td>Opera Mobile</td>\n",
       "      <td>12</td>\n",
       "    </tr>\n",
       "    <tr>\n",
       "      <th>14</th>\n",
       "      <td>NetFront</td>\n",
       "      <td>8</td>\n",
       "    </tr>\n",
       "    <tr>\n",
       "      <th>15</th>\n",
       "      <td>Firefox Alpha</td>\n",
       "      <td>8</td>\n",
       "    </tr>\n",
       "    <tr>\n",
       "      <th>16</th>\n",
       "      <td>Java</td>\n",
       "      <td>7</td>\n",
       "    </tr>\n",
       "    <tr>\n",
       "      <th>17</th>\n",
       "      <td>Avant</td>\n",
       "      <td>7</td>\n",
       "    </tr>\n",
       "    <tr>\n",
       "      <th>18</th>\n",
       "      <td>Flock</td>\n",
       "      <td>6</td>\n",
       "    </tr>\n",
       "    <tr>\n",
       "      <th>19</th>\n",
       "      <td>BlackBerry WebKit</td>\n",
       "      <td>5</td>\n",
       "    </tr>\n",
       "    <tr>\n",
       "      <th>20</th>\n",
       "      <td>Zune</td>\n",
       "      <td>4</td>\n",
       "    </tr>\n",
       "    <tr>\n",
       "      <th>21</th>\n",
       "      <td>Maxthon</td>\n",
       "      <td>4</td>\n",
       "    </tr>\n",
       "    <tr>\n",
       "      <th>22</th>\n",
       "      <td>SiteCon</td>\n",
       "      <td>3</td>\n",
       "    </tr>\n",
       "    <tr>\n",
       "      <th>23</th>\n",
       "      <td>Microsoft-CryptoAPI</td>\n",
       "      <td>3</td>\n",
       "    </tr>\n",
       "    <tr>\n",
       "      <th>24</th>\n",
       "      <td>Jasmine</td>\n",
       "      <td>2</td>\n",
       "    </tr>\n",
       "    <tr>\n",
       "      <th>25</th>\n",
       "      <td>Maemo Browser</td>\n",
       "      <td>2</td>\n",
       "    </tr>\n",
       "    <tr>\n",
       "      <th>26</th>\n",
       "      <td>Windows-Update-Agent</td>\n",
       "      <td>2</td>\n",
       "    </tr>\n",
       "    <tr>\n",
       "      <th>27</th>\n",
       "      <td>BlackBerry</td>\n",
       "      <td>2</td>\n",
       "    </tr>\n",
       "    <tr>\n",
       "      <th>28</th>\n",
       "      <td>Rekonq</td>\n",
       "      <td>1</td>\n",
       "    </tr>\n",
       "    <tr>\n",
       "      <th>29</th>\n",
       "      <td>Windows Live Mail</td>\n",
       "      <td>1</td>\n",
       "    </tr>\n",
       "    <tr>\n",
       "      <th>30</th>\n",
       "      <td>[02/Aug/2011:22:59:38 -0700] \"user_460\" 0.0.0....</td>\n",
       "      <td>1</td>\n",
       "    </tr>\n",
       "    <tr>\n",
       "      <th>31</th>\n",
       "      <td>[02/Aug/2011:22:53:36 -0700] \"user_216\" 0.0.0....</td>\n",
       "      <td>1</td>\n",
       "    </tr>\n",
       "    <tr>\n",
       "      <th>32</th>\n",
       "      <td>[02/Aug/2011:23:00:23 -0700] \"user_155\" 0.0.0....</td>\n",
       "      <td>1</td>\n",
       "    </tr>\n",
       "    <tr>\n",
       "      <th>33</th>\n",
       "      <td>bitchcrawler</td>\n",
       "      <td>1</td>\n",
       "    </tr>\n",
       "    <tr>\n",
       "      <th>34</th>\n",
       "      <td>divxcrawler</td>\n",
       "      <td>1</td>\n",
       "    </tr>\n",
       "    <tr>\n",
       "      <th>35</th>\n",
       "      <td>AdobeAIR</td>\n",
       "      <td>1</td>\n",
       "    </tr>\n",
       "    <tr>\n",
       "      <th>36</th>\n",
       "      <td>[02/Aug/2011:22:50:36 -0700] \"user_404\" 0.0.0....</td>\n",
       "      <td>1</td>\n",
       "    </tr>\n",
       "    <tr>\n",
       "      <th>37</th>\n",
       "      <td>[02/Aug/2011:23:23:13 -0700] \"user_307\" 0.0.0....</td>\n",
       "      <td>1</td>\n",
       "    </tr>\n",
       "    <tr>\n",
       "      <th>38</th>\n",
       "      <td>robot</td>\n",
       "      <td>1</td>\n",
       "    </tr>\n",
       "    <tr>\n",
       "      <th>39</th>\n",
       "      <td>Outlook</td>\n",
       "      <td>1</td>\n",
       "    </tr>\n",
       "    <tr>\n",
       "      <th>40</th>\n",
       "      <td>[02/Aug/2011:23:12:14 -0700] \"user_152\" 0.0.0....</td>\n",
       "      <td>1</td>\n",
       "    </tr>\n",
       "    <tr>\n",
       "      <th>41</th>\n",
       "      <td>WebKit Nightly</td>\n",
       "      <td>1</td>\n",
       "    </tr>\n",
       "    <tr>\n",
       "      <th>42</th>\n",
       "      <td>[02/Aug/2011:23:06:14 -0700] \"user_211\" 0.0.0....</td>\n",
       "      <td>1</td>\n",
       "    </tr>\n",
       "    <tr>\n",
       "      <th>43</th>\n",
       "      <td>[02/Aug/2011:23:17:29 -0700] \"user_477\" 0.0.0....</td>\n",
       "      <td>1</td>\n",
       "    </tr>\n",
       "    <tr>\n",
       "      <th>44</th>\n",
       "      <td>CFNetwork</td>\n",
       "      <td>1</td>\n",
       "    </tr>\n",
       "    <tr>\n",
       "      <th>45</th>\n",
       "      <td>pornvideospider</td>\n",
       "      <td>1</td>\n",
       "    </tr>\n",
       "    <tr>\n",
       "      <th>46</th>\n",
       "      <td>[02/Aug/2011:23:26:20 -0700] \"user_154\" 0.0.0....</td>\n",
       "      <td>1</td>\n",
       "    </tr>\n",
       "    <tr>\n",
       "      <th>47</th>\n",
       "      <td>Chromium</td>\n",
       "      <td>1</td>\n",
       "    </tr>\n",
       "    <tr>\n",
       "      <th>48</th>\n",
       "      <td>etar-bot</td>\n",
       "      <td>1</td>\n",
       "    </tr>\n",
       "    <tr>\n",
       "      <th>49</th>\n",
       "      <td>skyscraper</td>\n",
       "      <td>1</td>\n",
       "    </tr>\n",
       "  </tbody>\n",
       "</table>\n",
       "</div>"
      ],
      "text/plain": [
       "                                       browser_family  counts\n",
       "0                                                  IE    2850\n",
       "1                                             Firefox    2382\n",
       "2                                               Other     707\n",
       "3                                              Chrome     500\n",
       "4                                       Mobile Safari     130\n",
       "5                                              Safari     119\n",
       "6                                               Opera      90\n",
       "7                                       Nokia Browser      80\n",
       "8                                             Android      51\n",
       "9                          Mobile Safari UI/WKWebView      43\n",
       "10                                       Firefox Beta      34\n",
       "11                                            favicon      23\n",
       "12                                  Nokia OSS Browser      15\n",
       "13                                       Opera Mobile      12\n",
       "14                                           NetFront       8\n",
       "15                                      Firefox Alpha       8\n",
       "16                                               Java       7\n",
       "17                                              Avant       7\n",
       "18                                              Flock       6\n",
       "19                                  BlackBerry WebKit       5\n",
       "20                                               Zune       4\n",
       "21                                            Maxthon       4\n",
       "22                                            SiteCon       3\n",
       "23                                Microsoft-CryptoAPI       3\n",
       "24                                            Jasmine       2\n",
       "25                                      Maemo Browser       2\n",
       "26                               Windows-Update-Agent       2\n",
       "27                                         BlackBerry       2\n",
       "28                                             Rekonq       1\n",
       "29                                  Windows Live Mail       1\n",
       "30  [02/Aug/2011:22:59:38 -0700] \"user_460\" 0.0.0....       1\n",
       "31  [02/Aug/2011:22:53:36 -0700] \"user_216\" 0.0.0....       1\n",
       "32  [02/Aug/2011:23:00:23 -0700] \"user_155\" 0.0.0....       1\n",
       "33                                       bitchcrawler       1\n",
       "34                                        divxcrawler       1\n",
       "35                                           AdobeAIR       1\n",
       "36  [02/Aug/2011:22:50:36 -0700] \"user_404\" 0.0.0....       1\n",
       "37  [02/Aug/2011:23:23:13 -0700] \"user_307\" 0.0.0....       1\n",
       "38                                              robot       1\n",
       "39                                            Outlook       1\n",
       "40  [02/Aug/2011:23:12:14 -0700] \"user_152\" 0.0.0....       1\n",
       "41                                     WebKit Nightly       1\n",
       "42  [02/Aug/2011:23:06:14 -0700] \"user_211\" 0.0.0....       1\n",
       "43  [02/Aug/2011:23:17:29 -0700] \"user_477\" 0.0.0....       1\n",
       "44                                          CFNetwork       1\n",
       "45                                    pornvideospider       1\n",
       "46  [02/Aug/2011:23:26:20 -0700] \"user_154\" 0.0.0....       1\n",
       "47                                           Chromium       1\n",
       "48                                           etar-bot       1\n",
       "49                                         skyscraper       1"
      ]
     },
     "execution_count": 215,
     "metadata": {},
     "output_type": "execute_result"
    }
   ],
   "source": [
    "browser_cnt=pd.DataFrame(sample['browser_family'].value_counts()).reset_index()\n",
    "browser_cnt.columns=['browser_family','counts']\n",
    "browser_cnt"
   ]
  },
  {
   "cell_type": "code",
   "execution_count": 347,
   "metadata": {},
   "outputs": [
    {
     "data": {
      "image/png": "[encoded data removed]",
      "text/plain": [
       "<Figure size 1152x1152 with 1 Axes>"
      ]
     },
     "metadata": {
      "needs_background": "light"
     },
     "output_type": "display_data"
    }
   ],
   "source": [
    "plt.figure(figsize=(16,16))\n",
    "ax=sns.countplot(y='device_family', data=sample)"
   ]
  },
  {
   "cell_type": "code",
   "execution_count": 350,
   "metadata": {},
   "outputs": [
    {
     "data": {
      "image/png": "[encoded data removed]",
      "text/plain": [
       "<Figure size 1152x1152 with 1 Axes>"
      ]
     },
     "metadata": {
      "needs_background": "light"
     },
     "output_type": "display_data"
    }
   ],
   "source": [
    "plt.figure(figsize=(16,16))\n",
    "ax=sns.countplot(x='device_brand', data=sample)\n",
    "for p in ax.patches:\n",
    "    ax.annotate('{:}'.format(p.get_height()), (p.get_x()+0.15, p.get_height()+1))\n",
    "plt.show()\n"
   ]
  },
  {
   "cell_type": "code",
   "execution_count": 326,
   "metadata": {},
   "outputs": [
    {
     "data": {
      "image/png": "[encoded data removed]",
      "text/plain": [
       "<Figure size 1152x576 with 1 Axes>"
      ]
     },
     "metadata": {
      "needs_background": "light"
     },
     "output_type": "display_data"
    }
   ],
   "source": [
    "plt.figure(figsize=(16,8))\n",
    "ax=sns.countplot(x='os_family',data=sample)\n",
    "#labels=['\\n'.join(wrap(l.get_text(),20)) for l in ax.get_yticklabels()]\n",
    "labels=[l.get_text()[:20] for l in ax.get_yticklabels()]\n",
    "ax.set_yticklabels(labels)\n",
    "for p in ax.patches:\n",
    "    ax.annotate('{:}'.format(p.get_height()), (p.get_x()+0.15, p.get_height()+1))\n",
    "plt.show()"
   ]
  },
  {
   "cell_type": "code",
   "execution_count": 316,
   "metadata": {},
   "outputs": [
    {
     "data": {
      "image/png": "[encoded data removed]",
      "text/plain": [
       "<Figure size 432x288 with 1 Axes>"
      ]
     },
     "metadata": {
      "needs_background": "light"
     },
     "output_type": "display_data"
    }
   ],
   "source": [
    "ax=sns.countplot(sample['is_mobile'])\n",
    "for p in ax.patches:\n",
    "    ax.annotate('{:}'.format(p.get_height()), (p.get_x()+0.15, p.get_height()+1))"
   ]
  },
  {
   "cell_type": "code",
   "execution_count": 301,
   "metadata": {},
   "outputs": [
    {
     "data": {
      "image/png": "[encoded data removed]",
      "text/plain": [
       "<Figure size 432x288 with 1 Axes>"
      ]
     },
     "metadata": {
      "needs_background": "light"
     },
     "output_type": "display_data"
    }
   ],
   "source": [
    "ax=sns.countplot(sample['is_pc'])\n",
    "for p in ax.patches:\n",
    "    ax.annotate('{:}'.format(p.get_height()), (p.get_x()+0.15, p.get_height()+1))"
   ]
  },
  {
   "cell_type": "code",
   "execution_count": 299,
   "metadata": {},
   "outputs": [
    {
     "data": {
      "image/png": "[encoded data removed]",
      "text/plain": [
       "<Figure size 432x288 with 1 Axes>"
      ]
     },
     "metadata": {
      "needs_background": "light"
     },
     "output_type": "display_data"
    }
   ],
   "source": [
    "ax=sns.countplot(sample['is_tablet'])\n",
    "for p in ax.patches:\n",
    "    ax.annotate('{:}'.format(p.get_height()), (p.get_x()+0.15, p.get_height()+1))"
   ]
  },
  {
   "cell_type": "code",
   "execution_count": 308,
   "metadata": {},
   "outputs": [
    {
     "data": {
      "image/png": "[encoded data removed]",
      "text/plain": [
       "<Figure size 432x288 with 1 Axes>"
      ]
     },
     "metadata": {
      "needs_background": "light"
     },
     "output_type": "display_data"
    }
   ],
   "source": [
    "ax=sns.countplot(sample['is_touch_capable'])\n",
    "for p in ax.patches:\n",
    "    ax.annotate('{:}'.format(p.get_height()), (p.get_x()+0.15, p.get_height()+1))"
   ]
  },
  {
   "cell_type": "code",
   "execution_count": 318,
   "metadata": {},
   "outputs": [
    {
     "data": {
      "image/png": "[encoded data removed]",
      "text/plain": [
       "<Figure size 432x288 with 1 Axes>"
      ]
     },
     "metadata": {
      "needs_background": "light"
     },
     "output_type": "display_data"
    }
   ],
   "source": [
    "ax=sns.countplot(sample['is_bot'])\n",
    "for p in ax.patches:\n",
    "    ax.annotate('{:}'.format(p.get_height()), (p.get_x()+0.15, p.get_height()+1))"
   ]
  },
  {
   "cell_type": "code",
   "execution_count": 314,
   "metadata": {
    "scrolled": false
   },
   "outputs": [
    {
     "data": {
      "image/png": "[encoded data removed]",
      "text/plain": [
       "<Figure size 465.325x288 with 2 Axes>"
      ]
     },
     "metadata": {
      "needs_background": "light"
     },
     "output_type": "display_data"
    }
   ],
   "source": [
    "sns.catplot(x=\"is_touch_capable\", hue=\"is_pc\", col=\"is_mobile\",\n",
    "...                 data=sample, kind=\"count\",\n",
    "...                 height=4, aspect=.7);\n"
   ]
  },
  {
   "cell_type": "code",
   "execution_count": 372,
   "metadata": {},
   "outputs": [],
   "source": [
    "sample_cln=sample.drop(['index','user_agent','timestamp','timestamp_obj','min','os_version','browser_version','device_family','device_brand','device_model'],axis=1)"
   ]
  },
  {
   "cell_type": "code",
   "execution_count": 373,
   "metadata": {},
   "outputs": [],
   "source": [
    "sample_cln=pd.concat([sample_cln,pd.get_dummies(sample_cln['os_family'])],axis=1).drop(['os_family'],axis=1)\n",
    "sample_cln=pd.concat([sample_cln,pd.get_dummies(sample_cln['browser_family'])],axis=1).drop(['browser_family'],axis=1)\n",
    "#sample_cln=pd.concat([sample_cln,pd.get_dummies(sample_cln['is_mobile'],drop_first=True)],axis=1).drop(['is_mobile'],axis=1)"
   ]
  },
  {
   "cell_type": "code",
   "execution_count": null,
   "metadata": {},
   "outputs": [],
   "source": []
  }
 ],
 "metadata": {
  "kernelspec": {
   "display_name": "Python 3",
   "language": "python",
   "name": "python3"
  },
  "language_info": {
   "codemirror_mode": {
    "name": "ipython",
    "version": 3
   },
   "file_extension": ".py",
   "mimetype": "text/x-python",
   "name": "python",
   "nbconvert_exporter": "python",
   "pygments_lexer": "ipython3",
   "version": "3.7.6"
  }
 },
 "nbformat": 4,
 "nbformat_minor": 2
}
