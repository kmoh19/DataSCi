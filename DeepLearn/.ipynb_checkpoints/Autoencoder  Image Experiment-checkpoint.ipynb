{
 "cells": [
  {
   "cell_type": "code",
   "execution_count": 1,
   "metadata": {},
   "outputs": [],
   "source": [
    "import numpy as np\n",
    "import pandas as pd\n",
    "import seaborn as sns\n",
    "import matplotlib.pyplot as plt"
   ]
  },
  {
   "cell_type": "code",
   "execution_count": 3,
   "metadata": {},
   "outputs": [],
   "source": [
    "from tensorflow.keras.datasets import mnist"
   ]
  },
  {
   "cell_type": "code",
   "execution_count": 6,
   "metadata": {},
   "outputs": [],
   "source": [
    "(X_train, y_train),(X_test,y_test) = mnist.load_data()"
   ]
  },
  {
   "cell_type": "code",
   "execution_count": 7,
   "metadata": {},
   "outputs": [
    {
     "data": {
      "text/plain": [
       "<matplotlib.image.AxesImage at 0x7f478c2dded0>"
      ]
     },
     "execution_count": 7,
     "metadata": {},
     "output_type": "execute_result"
    },
    {
     "data": {
      "image/png": "[encoded data removed]",
      "text/plain": [
       "<Figure size 432x288 with 1 Axes>"
      ]
     },
     "metadata": {
      "needs_background": "light"
     },
     "output_type": "display_data"
    }
   ],
   "source": [
    "plt.imshow(X_train[0])"
   ]
  },
  {
   "cell_type": "code",
   "execution_count": 8,
   "metadata": {},
   "outputs": [],
   "source": [
    "X_train = X_train/255"
   ]
  },
  {
   "cell_type": "code",
   "execution_count": 9,
   "metadata": {},
   "outputs": [],
   "source": [
    "X_test = X_test/255"
   ]
  },
  {
   "cell_type": "code",
   "execution_count": 11,
   "metadata": {},
   "outputs": [],
   "source": [
    "from tensorflow.keras.models import Sequential\n",
    "from tensorflow.keras.layers import Dense,Flatten,Reshape\n",
    "from tensorflow.keras.optimizers import SGD"
   ]
  },
  {
   "cell_type": "code",
   "execution_count": 12,
   "metadata": {},
   "outputs": [
    {
     "data": {
      "text/plain": [
       "784"
      ]
     },
     "execution_count": 12,
     "metadata": {},
     "output_type": "execute_result"
    }
   ],
   "source": [
    "28*28"
   ]
  },
  {
   "cell_type": "code",
   "execution_count": 13,
   "metadata": {},
   "outputs": [
    {
     "data": {
      "text/plain": [
       "392.0"
      ]
     },
     "execution_count": 13,
     "metadata": {},
     "output_type": "execute_result"
    }
   ],
   "source": [
    "784/2"
   ]
  },
  {
   "cell_type": "code",
   "execution_count": 14,
   "metadata": {},
   "outputs": [],
   "source": [
    "#as there is no way to actually measure generalisation/performace of \n",
    "#autoencoders we attempt to improve learning by stacking them \n",
    "encoder = Sequential()\n",
    "encoder.add(Flatten(input_shape=[28,28]))\n",
    "encoder.add(Dense(400,activation='relu'))\n",
    "encoder.add(Dense(200,activation='relu'))\n",
    "encoder.add(Dense(100,activation='relu'))\n",
    "encoder.add(Dense(50,activation='relu'))\n",
    "encoder.add(Dense(25,activation='relu'))\n"
   ]
  },
  {
   "cell_type": "code",
   "execution_count": 15,
   "metadata": {},
   "outputs": [],
   "source": [
    "decoder = Sequential()\n",
    "decoder.add(Dense(50,input_shape=[25],activation='relu'))\n",
    "decoder.add(Dense(100,activation='relu'))\n",
    "decoder.add(Dense(200,activation='relu'))\n",
    "decoder.add(Dense(400,activation='relu'))\n",
    "decoder.add(Dense(28*28,activation='sigmoid'))#because case is binary, looks like the image or doesn't...\n",
    "decoder.add(Reshape([28,28]))# to get back original shape"
   ]
  },
  {
   "cell_type": "code",
   "execution_count": 16,
   "metadata": {},
   "outputs": [],
   "source": [
    "autoencoder=Sequential([encoder,decoder])"
   ]
  },
  {
   "cell_type": "code",
   "execution_count": 17,
   "metadata": {},
   "outputs": [],
   "source": [
    "autoencoder.compile(loss='binary_crossentropy',\n",
    "                   optimizer=SGD(lr=1.5),\n",
    "                   metrics=['accuracy'])"
   ]
  },
  {
   "cell_type": "code",
   "execution_count": 18,
   "metadata": {},
   "outputs": [
    {
     "name": "stdout",
     "output_type": "stream",
     "text": [
      "Train on 60000 samples, validate on 10000 samples\n",
      "Epoch 1/5\n",
      "60000/60000 [==============================] - 55s 919us/sample - loss: 0.2422 - accuracy: 0.7906 - val_loss: 0.2059 - val_accuracy: 0.7931\n",
      "Epoch 2/5\n",
      "60000/60000 [==============================] - 42s 708us/sample - loss: 0.1875 - accuracy: 0.7977 - val_loss: 0.1660 - val_accuracy: 0.8002\n",
      "Epoch 3/5\n",
      "60000/60000 [==============================] - 48s 799us/sample - loss: 0.1625 - accuracy: 0.8014 - val_loss: 0.1551 - val_accuracy: 0.8018\n",
      "Epoch 4/5\n",
      "60000/60000 [==============================] - 48s 806us/sample - loss: 0.1524 - accuracy: 0.8031 - val_loss: 0.1484 - val_accuracy: 0.8004\n",
      "Epoch 5/5\n",
      "60000/60000 [==============================] - 52s 869us/sample - loss: 0.1444 - accuracy: 0.8045 - val_loss: 0.1395 - val_accuracy: 0.8055\n"
     ]
    },
    {
     "data": {
      "text/plain": [
       "<tensorflow.python.keras.callbacks.History at 0x7f476855b590>"
      ]
     },
     "execution_count": 18,
     "metadata": {},
     "output_type": "execute_result"
    }
   ],
   "source": [
    "autoencoder.fit(X_train,X_train,epochs=5,\n",
    "                validation_data=(X_test,X_test))# pseudo validation because train/test split is not fundamental to this process...\n",
    "                                                #it might just give you an idea of how the model generalises i.e. performs on unseen data"
   ]
  },
  {
   "cell_type": "code",
   "execution_count": 19,
   "metadata": {},
   "outputs": [],
   "source": [
    "passed_images = autoencoder.predict(X_test[:10])"
   ]
  },
  {
   "cell_type": "code",
   "execution_count": 23,
   "metadata": {},
   "outputs": [
    {
     "name": "stdout",
     "output_type": "stream",
     "text": [
      "Original Image\n"
     ]
    },
    {
     "data": {
      "image/png": "[encoded data removed]",
      "text/plain": [
       "<Figure size 432x288 with 1 Axes>"
      ]
     },
     "metadata": {
      "needs_background": "light"
     },
     "output_type": "display_data"
    },
    {
     "name": "stdout",
     "output_type": "stream",
     "text": [
      "after passing through autoencoder\n"
     ]
    },
    {
     "data": {
      "text/plain": [
       "<matplotlib.image.AxesImage at 0x7f478f8c0610>"
      ]
     },
     "execution_count": 23,
     "metadata": {},
     "output_type": "execute_result"
    },
    {
     "data": {
      "image/png": "[encoded data removed]",
      "text/plain": [
       "<Figure size 432x288 with 1 Axes>"
      ]
     },
     "metadata": {
      "needs_background": "light"
     },
     "output_type": "display_data"
    }
   ],
   "source": [
    "n=9\n",
    "print('Original Image')\n",
    "plt.imshow(X_test[n])\n",
    "plt.show()\n",
    "print('reproduction after passing through autoencoder for 97% reduction!!!')\n",
    "plt.imshow(passed_images[n])"
   ]
  },
  {
   "cell_type": "markdown",
   "metadata": {},
   "source": [
    "### now de-noising application...of auto encoder"
   ]
  },
  {
   "cell_type": "code",
   "execution_count": 25,
   "metadata": {},
   "outputs": [],
   "source": [
    "from tensorflow.keras.layers import GaussianNoise"
   ]
  },
  {
   "cell_type": "code",
   "execution_count": 26,
   "metadata": {},
   "outputs": [],
   "source": [
    "sample = GaussianNoise(0.2)"
   ]
  },
  {
   "cell_type": "code",
   "execution_count": 27,
   "metadata": {},
   "outputs": [
    {
     "name": "stdout",
     "output_type": "stream",
     "text": [
      "WARNING:tensorflow:Layer gaussian_noise is casting an input tensor from dtype float64 to the layer's dtype of float32, which is new behavior in TensorFlow 2.  The layer has dtype float32 because it's dtype defaults to floatx.\n",
      "\n",
      "If you intended to run this layer in float32, you can safely ignore this warning. If in doubt, this warning is likely only an issue if you are porting a TensorFlow 1.X model to TensorFlow 2.\n",
      "\n",
      "To change all layers to have dtype float64 by default, call `tf.keras.backend.set_floatx('float64')`. To change just this layer, pass dtype='float64' to the layer constructor. If you are the author of this layer, you can disable autocasting by passing autocast=False to the base Layer constructor.\n",
      "\n"
     ]
    }
   ],
   "source": [
    "noisey = sample(X_test[:10],training=True)"
   ]
  },
  {
   "cell_type": "code",
   "execution_count": 29,
   "metadata": {},
   "outputs": [
    {
     "name": "stdout",
     "output_type": "stream",
     "text": [
      "original\n"
     ]
    },
    {
     "data": {
      "image/png": "[encoded data removed]",
      "text/plain": [
       "<Figure size 432x288 with 1 Axes>"
      ]
     },
     "metadata": {
      "needs_background": "light"
     },
     "output_type": "display_data"
    },
    {
     "name": "stdout",
     "output_type": "stream",
     "text": [
      "with noise added\n"
     ]
    },
    {
     "data": {
      "image/png": "[encoded data removed]",
      "text/plain": [
       "<Figure size 432x288 with 1 Axes>"
      ]
     },
     "metadata": {
      "needs_background": "light"
     },
     "output_type": "display_data"
    }
   ],
   "source": [
    "n=0\n",
    "print('original')\n",
    "plt.imshow(X_test[n])\n",
    "plt.show()\n",
    "print('with noise added')\n",
    "plt.imshow(noisey[n])\n",
    "plt.show()\n"
   ]
  },
  {
   "cell_type": "code",
   "execution_count": 30,
   "metadata": {},
   "outputs": [],
   "source": [
    "import tensorflow as tf"
   ]
  },
  {
   "cell_type": "code",
   "execution_count": 31,
   "metadata": {},
   "outputs": [],
   "source": [
    "tf.random.set_seed(101)\n",
    "np.random.seed(101)\n",
    "\n",
    "encoder = Sequential()\n",
    "encoder.add(Flatten(input_shape=[28,28]))\n",
    "\n",
    "encoder.add(GaussianNoise(0.2)) #adding noise for experiment as demonstrated earlier\n",
    "\n",
    "encoder.add(Dense(400,activation='relu'))\n",
    "encoder.add(Dense(200,activation='relu'))\n",
    "encoder.add(Dense(100,activation='relu'))\n",
    "encoder.add(Dense(50,activation='relu'))\n",
    "encoder.add(Dense(25,activation='relu'))"
   ]
  },
  {
   "cell_type": "code",
   "execution_count": 32,
   "metadata": {},
   "outputs": [],
   "source": [
    "decoder = Sequential()\n",
    "decoder.add(Dense(50,input_shape=[25],activation='relu'))\n",
    "decoder.add(Dense(100,activation='relu'))\n",
    "decoder.add(Dense(200,activation='relu'))\n",
    "decoder.add(Dense(400,activation='relu'))\n",
    "decoder.add(Dense(28*28,activation='sigmoid'))#because case is binary, looks like the image or doesn't...\n",
    "decoder.add(Reshape([28,28]))# to get back original shape"
   ]
  },
  {
   "cell_type": "code",
   "execution_count": 33,
   "metadata": {},
   "outputs": [],
   "source": [
    "noise_remover = Sequential([encoder,decoder])"
   ]
  },
  {
   "cell_type": "code",
   "execution_count": 34,
   "metadata": {},
   "outputs": [],
   "source": [
    "noise_remover.compile(loss='binary_crossentropy',\n",
    "                     optimizer='adam',metrics=['accuracy'])"
   ]
  },
  {
   "cell_type": "code",
   "execution_count": 35,
   "metadata": {},
   "outputs": [
    {
     "name": "stdout",
     "output_type": "stream",
     "text": [
      "Train on 60000 samples\n",
      "Epoch 1/8\n",
      "60000/60000 [==============================] - 72s 1ms/sample - loss: 0.1715 - accuracy: 0.8011\n",
      "Epoch 2/8\n",
      "60000/60000 [==============================] - 64s 1ms/sample - loss: 0.1297 - accuracy: 0.8080\n",
      "Epoch 3/8\n",
      "60000/60000 [==============================] - 53s 889us/sample - loss: 0.1207 - accuracy: 0.8096\n",
      "Epoch 4/8\n",
      "60000/60000 [==============================] - 54s 901us/sample - loss: 0.1157 - accuracy: 0.8104\n",
      "Epoch 5/8\n",
      "60000/60000 [==============================] - 55s 914us/sample - loss: 0.1122 - accuracy: 0.8110\n",
      "Epoch 6/8\n",
      "60000/60000 [==============================] - 53s 878us/sample - loss: 0.1099 - accuracy: 0.8114\n",
      "Epoch 7/8\n",
      "60000/60000 [==============================] - 55s 918us/sample - loss: 0.1083 - accuracy: 0.8116\n",
      "Epoch 8/8\n",
      "60000/60000 [==============================] - 50s 831us/sample - loss: 0.1067 - accuracy: 0.8118\n"
     ]
    },
    {
     "data": {
      "text/plain": [
       "<tensorflow.python.keras.callbacks.History at 0x7f478f800610>"
      ]
     },
     "execution_count": 35,
     "metadata": {},
     "output_type": "execute_result"
    }
   ],
   "source": [
    "noise_remover.fit(X_train,X_train,epochs=8)"
   ]
  },
  {
   "cell_type": "code",
   "execution_count": 36,
   "metadata": {},
   "outputs": [],
   "source": [
    "ten_noisey_images = sample(X_test[:10],training=True)"
   ]
  },
  {
   "cell_type": "code",
   "execution_count": 41,
   "metadata": {},
   "outputs": [],
   "source": [
    "denoised = noise_remover(ten_noisey_images)#same as noise_remover.predict()"
   ]
  },
  {
   "cell_type": "code",
   "execution_count": 42,
   "metadata": {},
   "outputs": [
    {
     "name": "stdout",
     "output_type": "stream",
     "text": [
      "original image\n"
     ]
    },
    {
     "data": {
      "image/png": "[encoded data removed]",
      "text/plain": [
       "<Figure size 432x288 with 1 Axes>"
      ]
     },
     "metadata": {
      "needs_background": "light"
     },
     "output_type": "display_data"
    },
    {
     "name": "stdout",
     "output_type": "stream",
     "text": [
      "..with noise\n"
     ]
    },
    {
     "data": {
      "image/png": "[encoded data removed]",
      "text/plain": [
       "<Figure size 432x288 with 1 Axes>"
      ]
     },
     "metadata": {
      "needs_background": "light"
     },
     "output_type": "display_data"
    },
    {
     "name": "stdout",
     "output_type": "stream",
     "text": [
      "...noised removed\n"
     ]
    },
    {
     "data": {
      "image/png": "[encoded data removed]",
      "text/plain": [
       "<Figure size 432x288 with 1 Axes>"
      ]
     },
     "metadata": {
      "needs_background": "light"
     },
     "output_type": "display_data"
    }
   ],
   "source": [
    "print('original image')\n",
    "plt.imshow(X_test[n])\n",
    "plt.show()\n",
    "print('..with noise')\n",
    "plt.imshow(ten_noisey_images[n])\n",
    "plt.show()\n",
    "print('...noised removed')\n",
    "plt.imshow(denoised[n])\n",
    "plt.show()"
   ]
  },
  {
   "cell_type": "code",
   "execution_count": null,
   "metadata": {},
   "outputs": [],
   "source": []
  }
 ],
 "metadata": {
  "kernelspec": {
   "display_name": "Python 3",
   "language": "python",
   "name": "python3"
  },
  "language_info": {
   "codemirror_mode": {
    "name": "ipython",
    "version": 3
   },
   "file_extension": ".py",
   "mimetype": "text/x-python",
   "name": "python",
   "nbconvert_exporter": "python",
   "pygments_lexer": "ipython3",
   "version": "3.7.4"
  }
 },
 "nbformat": 4,
 "nbformat_minor": 2
}
