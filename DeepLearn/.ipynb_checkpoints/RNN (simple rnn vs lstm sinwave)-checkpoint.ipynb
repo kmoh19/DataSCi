{
 "cells": [
  {
   "cell_type": "code",
   "execution_count": 1,
   "metadata": {},
   "outputs": [],
   "source": [
    "import pandas as pd\n",
    "import numpy as np\n",
    "%matplotlib inline\n",
    "import matplotlib.pyplot as plt"
   ]
  },
  {
   "cell_type": "code",
   "execution_count": 2,
   "metadata": {},
   "outputs": [],
   "source": [
    "x = np.linspace(0,50,501)"
   ]
  },
  {
   "cell_type": "code",
   "execution_count": 3,
   "metadata": {},
   "outputs": [
    {
     "data": {
      "text/plain": [
       "array([ 0. ,  0.1,  0.2,  0.3,  0.4,  0.5,  0.6,  0.7,  0.8,  0.9,  1. ,\n",
       "        1.1,  1.2,  1.3,  1.4,  1.5,  1.6,  1.7,  1.8,  1.9,  2. ,  2.1,\n",
       "        2.2,  2.3,  2.4,  2.5,  2.6,  2.7,  2.8,  2.9,  3. ,  3.1,  3.2,\n",
       "        3.3,  3.4,  3.5,  3.6,  3.7,  3.8,  3.9,  4. ,  4.1,  4.2,  4.3,\n",
       "        4.4,  4.5,  4.6,  4.7,  4.8,  4.9,  5. ,  5.1,  5.2,  5.3,  5.4,\n",
       "        5.5,  5.6,  5.7,  5.8,  5.9,  6. ,  6.1,  6.2,  6.3,  6.4,  6.5,\n",
       "        6.6,  6.7,  6.8,  6.9,  7. ,  7.1,  7.2,  7.3,  7.4,  7.5,  7.6,\n",
       "        7.7,  7.8,  7.9,  8. ,  8.1,  8.2,  8.3,  8.4,  8.5,  8.6,  8.7,\n",
       "        8.8,  8.9,  9. ,  9.1,  9.2,  9.3,  9.4,  9.5,  9.6,  9.7,  9.8,\n",
       "        9.9, 10. , 10.1, 10.2, 10.3, 10.4, 10.5, 10.6, 10.7, 10.8, 10.9,\n",
       "       11. , 11.1, 11.2, 11.3, 11.4, 11.5, 11.6, 11.7, 11.8, 11.9, 12. ,\n",
       "       12.1, 12.2, 12.3, 12.4, 12.5, 12.6, 12.7, 12.8, 12.9, 13. , 13.1,\n",
       "       13.2, 13.3, 13.4, 13.5, 13.6, 13.7, 13.8, 13.9, 14. , 14.1, 14.2,\n",
       "       14.3, 14.4, 14.5, 14.6, 14.7, 14.8, 14.9, 15. , 15.1, 15.2, 15.3,\n",
       "       15.4, 15.5, 15.6, 15.7, 15.8, 15.9, 16. , 16.1, 16.2, 16.3, 16.4,\n",
       "       16.5, 16.6, 16.7, 16.8, 16.9, 17. , 17.1, 17.2, 17.3, 17.4, 17.5,\n",
       "       17.6, 17.7, 17.8, 17.9, 18. , 18.1, 18.2, 18.3, 18.4, 18.5, 18.6,\n",
       "       18.7, 18.8, 18.9, 19. , 19.1, 19.2, 19.3, 19.4, 19.5, 19.6, 19.7,\n",
       "       19.8, 19.9, 20. , 20.1, 20.2, 20.3, 20.4, 20.5, 20.6, 20.7, 20.8,\n",
       "       20.9, 21. , 21.1, 21.2, 21.3, 21.4, 21.5, 21.6, 21.7, 21.8, 21.9,\n",
       "       22. , 22.1, 22.2, 22.3, 22.4, 22.5, 22.6, 22.7, 22.8, 22.9, 23. ,\n",
       "       23.1, 23.2, 23.3, 23.4, 23.5, 23.6, 23.7, 23.8, 23.9, 24. , 24.1,\n",
       "       24.2, 24.3, 24.4, 24.5, 24.6, 24.7, 24.8, 24.9, 25. , 25.1, 25.2,\n",
       "       25.3, 25.4, 25.5, 25.6, 25.7, 25.8, 25.9, 26. , 26.1, 26.2, 26.3,\n",
       "       26.4, 26.5, 26.6, 26.7, 26.8, 26.9, 27. , 27.1, 27.2, 27.3, 27.4,\n",
       "       27.5, 27.6, 27.7, 27.8, 27.9, 28. , 28.1, 28.2, 28.3, 28.4, 28.5,\n",
       "       28.6, 28.7, 28.8, 28.9, 29. , 29.1, 29.2, 29.3, 29.4, 29.5, 29.6,\n",
       "       29.7, 29.8, 29.9, 30. , 30.1, 30.2, 30.3, 30.4, 30.5, 30.6, 30.7,\n",
       "       30.8, 30.9, 31. , 31.1, 31.2, 31.3, 31.4, 31.5, 31.6, 31.7, 31.8,\n",
       "       31.9, 32. , 32.1, 32.2, 32.3, 32.4, 32.5, 32.6, 32.7, 32.8, 32.9,\n",
       "       33. , 33.1, 33.2, 33.3, 33.4, 33.5, 33.6, 33.7, 33.8, 33.9, 34. ,\n",
       "       34.1, 34.2, 34.3, 34.4, 34.5, 34.6, 34.7, 34.8, 34.9, 35. , 35.1,\n",
       "       35.2, 35.3, 35.4, 35.5, 35.6, 35.7, 35.8, 35.9, 36. , 36.1, 36.2,\n",
       "       36.3, 36.4, 36.5, 36.6, 36.7, 36.8, 36.9, 37. , 37.1, 37.2, 37.3,\n",
       "       37.4, 37.5, 37.6, 37.7, 37.8, 37.9, 38. , 38.1, 38.2, 38.3, 38.4,\n",
       "       38.5, 38.6, 38.7, 38.8, 38.9, 39. , 39.1, 39.2, 39.3, 39.4, 39.5,\n",
       "       39.6, 39.7, 39.8, 39.9, 40. , 40.1, 40.2, 40.3, 40.4, 40.5, 40.6,\n",
       "       40.7, 40.8, 40.9, 41. , 41.1, 41.2, 41.3, 41.4, 41.5, 41.6, 41.7,\n",
       "       41.8, 41.9, 42. , 42.1, 42.2, 42.3, 42.4, 42.5, 42.6, 42.7, 42.8,\n",
       "       42.9, 43. , 43.1, 43.2, 43.3, 43.4, 43.5, 43.6, 43.7, 43.8, 43.9,\n",
       "       44. , 44.1, 44.2, 44.3, 44.4, 44.5, 44.6, 44.7, 44.8, 44.9, 45. ,\n",
       "       45.1, 45.2, 45.3, 45.4, 45.5, 45.6, 45.7, 45.8, 45.9, 46. , 46.1,\n",
       "       46.2, 46.3, 46.4, 46.5, 46.6, 46.7, 46.8, 46.9, 47. , 47.1, 47.2,\n",
       "       47.3, 47.4, 47.5, 47.6, 47.7, 47.8, 47.9, 48. , 48.1, 48.2, 48.3,\n",
       "       48.4, 48.5, 48.6, 48.7, 48.8, 48.9, 49. , 49.1, 49.2, 49.3, 49.4,\n",
       "       49.5, 49.6, 49.7, 49.8, 49.9, 50. ])"
      ]
     },
     "execution_count": 3,
     "metadata": {},
     "output_type": "execute_result"
    }
   ],
   "source": [
    "x"
   ]
  },
  {
   "cell_type": "code",
   "execution_count": 4,
   "metadata": {},
   "outputs": [],
   "source": [
    "y=np.sin(x)"
   ]
  },
  {
   "cell_type": "code",
   "execution_count": 5,
   "metadata": {},
   "outputs": [
    {
     "data": {
      "text/plain": [
       "[<matplotlib.lines.Line2D at 0x7f9a5cec1a90>]"
      ]
     },
     "execution_count": 5,
     "metadata": {},
     "output_type": "execute_result"
    },
    {
     "data": {
      "image/png": "[encoded data removed]",
      "text/plain": [
       "<Figure size 432x288 with 1 Axes>"
      ]
     },
     "metadata": {
      "needs_background": "light"
     },
     "output_type": "display_data"
    }
   ],
   "source": [
    "plt.plot(x,y)"
   ]
  },
  {
   "cell_type": "code",
   "execution_count": 6,
   "metadata": {},
   "outputs": [],
   "source": [
    "df =pd.DataFrame(data=y,index=x,columns=['sine'])"
   ]
  },
  {
   "cell_type": "code",
   "execution_count": 7,
   "metadata": {},
   "outputs": [
    {
     "data": {
      "text/html": [
       "<div>\n",
       "<style scoped>\n",
       "    .dataframe tbody tr th:only-of-type {\n",
       "        vertical-align: middle;\n",
       "    }\n",
       "\n",
       "    .dataframe tbody tr th {\n",
       "        vertical-align: top;\n",
       "    }\n",
       "\n",
       "    .dataframe thead th {\n",
       "        text-align: right;\n",
       "    }\n",
       "</style>\n",
       "<table border=\"1\" class=\"dataframe\">\n",
       "  <thead>\n",
       "    <tr style=\"text-align: right;\">\n",
       "      <th></th>\n",
       "      <th>sine</th>\n",
       "    </tr>\n",
       "  </thead>\n",
       "  <tbody>\n",
       "    <tr>\n",
       "      <td>0.0</td>\n",
       "      <td>0.000000</td>\n",
       "    </tr>\n",
       "    <tr>\n",
       "      <td>0.1</td>\n",
       "      <td>0.099833</td>\n",
       "    </tr>\n",
       "    <tr>\n",
       "      <td>0.2</td>\n",
       "      <td>0.198669</td>\n",
       "    </tr>\n",
       "    <tr>\n",
       "      <td>0.3</td>\n",
       "      <td>0.295520</td>\n",
       "    </tr>\n",
       "    <tr>\n",
       "      <td>0.4</td>\n",
       "      <td>0.389418</td>\n",
       "    </tr>\n",
       "    <tr>\n",
       "      <td>...</td>\n",
       "      <td>...</td>\n",
       "    </tr>\n",
       "    <tr>\n",
       "      <td>49.6</td>\n",
       "      <td>-0.617439</td>\n",
       "    </tr>\n",
       "    <tr>\n",
       "      <td>49.7</td>\n",
       "      <td>-0.535823</td>\n",
       "    </tr>\n",
       "    <tr>\n",
       "      <td>49.8</td>\n",
       "      <td>-0.448854</td>\n",
       "    </tr>\n",
       "    <tr>\n",
       "      <td>49.9</td>\n",
       "      <td>-0.357400</td>\n",
       "    </tr>\n",
       "    <tr>\n",
       "      <td>50.0</td>\n",
       "      <td>-0.262375</td>\n",
       "    </tr>\n",
       "  </tbody>\n",
       "</table>\n",
       "<p>501 rows × 1 columns</p>\n",
       "</div>"
      ],
      "text/plain": [
       "          sine\n",
       "0.0   0.000000\n",
       "0.1   0.099833\n",
       "0.2   0.198669\n",
       "0.3   0.295520\n",
       "0.4   0.389418\n",
       "...        ...\n",
       "49.6 -0.617439\n",
       "49.7 -0.535823\n",
       "49.8 -0.448854\n",
       "49.9 -0.357400\n",
       "50.0 -0.262375\n",
       "\n",
       "[501 rows x 1 columns]"
      ]
     },
     "execution_count": 7,
     "metadata": {},
     "output_type": "execute_result"
    }
   ],
   "source": [
    "df"
   ]
  },
  {
   "cell_type": "code",
   "execution_count": 8,
   "metadata": {},
   "outputs": [
    {
     "data": {
      "text/plain": [
       "501"
      ]
     },
     "execution_count": 8,
     "metadata": {},
     "output_type": "execute_result"
    }
   ],
   "source": [
    "len(df)"
   ]
  },
  {
   "cell_type": "code",
   "execution_count": 9,
   "metadata": {},
   "outputs": [],
   "source": [
    "test_percent = 0.1"
   ]
  },
  {
   "cell_type": "code",
   "execution_count": 10,
   "metadata": {},
   "outputs": [
    {
     "data": {
      "text/plain": [
       "50.1"
      ]
     },
     "execution_count": 10,
     "metadata": {},
     "output_type": "execute_result"
    }
   ],
   "source": [
    "len(df)*test_percent"
   ]
  },
  {
   "cell_type": "code",
   "execution_count": 11,
   "metadata": {},
   "outputs": [],
   "source": [
    "test_point =np.round(len(df)*test_percent)"
   ]
  },
  {
   "cell_type": "code",
   "execution_count": 12,
   "metadata": {},
   "outputs": [
    {
     "data": {
      "text/plain": [
       "50.0"
      ]
     },
     "execution_count": 12,
     "metadata": {},
     "output_type": "execute_result"
    }
   ],
   "source": [
    "test_point"
   ]
  },
  {
   "cell_type": "code",
   "execution_count": 14,
   "metadata": {},
   "outputs": [],
   "source": [
    "test_ind = int(len(df)-test_point)"
   ]
  },
  {
   "cell_type": "code",
   "execution_count": 15,
   "metadata": {},
   "outputs": [
    {
     "data": {
      "text/plain": [
       "451"
      ]
     },
     "execution_count": 15,
     "metadata": {},
     "output_type": "execute_result"
    }
   ],
   "source": [
    "test_ind"
   ]
  },
  {
   "cell_type": "code",
   "execution_count": 16,
   "metadata": {},
   "outputs": [],
   "source": [
    "train =df.iloc[:test_ind]"
   ]
  },
  {
   "cell_type": "code",
   "execution_count": 17,
   "metadata": {},
   "outputs": [],
   "source": [
    "test=df.iloc[test_ind:]"
   ]
  },
  {
   "cell_type": "code",
   "execution_count": 18,
   "metadata": {},
   "outputs": [
    {
     "data": {
      "text/html": [
       "<div>\n",
       "<style scoped>\n",
       "    .dataframe tbody tr th:only-of-type {\n",
       "        vertical-align: middle;\n",
       "    }\n",
       "\n",
       "    .dataframe tbody tr th {\n",
       "        vertical-align: top;\n",
       "    }\n",
       "\n",
       "    .dataframe thead th {\n",
       "        text-align: right;\n",
       "    }\n",
       "</style>\n",
       "<table border=\"1\" class=\"dataframe\">\n",
       "  <thead>\n",
       "    <tr style=\"text-align: right;\">\n",
       "      <th></th>\n",
       "      <th>sine</th>\n",
       "    </tr>\n",
       "  </thead>\n",
       "  <tbody>\n",
       "    <tr>\n",
       "      <td>0.0</td>\n",
       "      <td>0.000000</td>\n",
       "    </tr>\n",
       "    <tr>\n",
       "      <td>0.1</td>\n",
       "      <td>0.099833</td>\n",
       "    </tr>\n",
       "    <tr>\n",
       "      <td>0.2</td>\n",
       "      <td>0.198669</td>\n",
       "    </tr>\n",
       "    <tr>\n",
       "      <td>0.3</td>\n",
       "      <td>0.295520</td>\n",
       "    </tr>\n",
       "    <tr>\n",
       "      <td>0.4</td>\n",
       "      <td>0.389418</td>\n",
       "    </tr>\n",
       "    <tr>\n",
       "      <td>...</td>\n",
       "      <td>...</td>\n",
       "    </tr>\n",
       "    <tr>\n",
       "      <td>44.6</td>\n",
       "      <td>0.579164</td>\n",
       "    </tr>\n",
       "    <tr>\n",
       "      <td>44.7</td>\n",
       "      <td>0.657656</td>\n",
       "    </tr>\n",
       "    <tr>\n",
       "      <td>44.8</td>\n",
       "      <td>0.729577</td>\n",
       "    </tr>\n",
       "    <tr>\n",
       "      <td>44.9</td>\n",
       "      <td>0.794208</td>\n",
       "    </tr>\n",
       "    <tr>\n",
       "      <td>45.0</td>\n",
       "      <td>0.850904</td>\n",
       "    </tr>\n",
       "  </tbody>\n",
       "</table>\n",
       "<p>451 rows × 1 columns</p>\n",
       "</div>"
      ],
      "text/plain": [
       "          sine\n",
       "0.0   0.000000\n",
       "0.1   0.099833\n",
       "0.2   0.198669\n",
       "0.3   0.295520\n",
       "0.4   0.389418\n",
       "...        ...\n",
       "44.6  0.579164\n",
       "44.7  0.657656\n",
       "44.8  0.729577\n",
       "44.9  0.794208\n",
       "45.0  0.850904\n",
       "\n",
       "[451 rows x 1 columns]"
      ]
     },
     "execution_count": 18,
     "metadata": {},
     "output_type": "execute_result"
    }
   ],
   "source": [
    "train"
   ]
  },
  {
   "cell_type": "code",
   "execution_count": 19,
   "metadata": {
    "scrolled": true
   },
   "outputs": [
    {
     "data": {
      "text/html": [
       "<div>\n",
       "<style scoped>\n",
       "    .dataframe tbody tr th:only-of-type {\n",
       "        vertical-align: middle;\n",
       "    }\n",
       "\n",
       "    .dataframe tbody tr th {\n",
       "        vertical-align: top;\n",
       "    }\n",
       "\n",
       "    .dataframe thead th {\n",
       "        text-align: right;\n",
       "    }\n",
       "</style>\n",
       "<table border=\"1\" class=\"dataframe\">\n",
       "  <thead>\n",
       "    <tr style=\"text-align: right;\">\n",
       "      <th></th>\n",
       "      <th>sine</th>\n",
       "    </tr>\n",
       "  </thead>\n",
       "  <tbody>\n",
       "    <tr>\n",
       "      <td>45.1</td>\n",
       "      <td>0.899097</td>\n",
       "    </tr>\n",
       "    <tr>\n",
       "      <td>45.2</td>\n",
       "      <td>0.938307</td>\n",
       "    </tr>\n",
       "    <tr>\n",
       "      <td>45.3</td>\n",
       "      <td>0.968142</td>\n",
       "    </tr>\n",
       "    <tr>\n",
       "      <td>45.4</td>\n",
       "      <td>0.988304</td>\n",
       "    </tr>\n",
       "    <tr>\n",
       "      <td>45.5</td>\n",
       "      <td>0.998591</td>\n",
       "    </tr>\n",
       "    <tr>\n",
       "      <td>45.6</td>\n",
       "      <td>0.998900</td>\n",
       "    </tr>\n",
       "    <tr>\n",
       "      <td>45.7</td>\n",
       "      <td>0.989229</td>\n",
       "    </tr>\n",
       "    <tr>\n",
       "      <td>45.8</td>\n",
       "      <td>0.969673</td>\n",
       "    </tr>\n",
       "    <tr>\n",
       "      <td>45.9</td>\n",
       "      <td>0.940429</td>\n",
       "    </tr>\n",
       "    <tr>\n",
       "      <td>46.0</td>\n",
       "      <td>0.901788</td>\n",
       "    </tr>\n",
       "    <tr>\n",
       "      <td>46.1</td>\n",
       "      <td>0.854137</td>\n",
       "    </tr>\n",
       "    <tr>\n",
       "      <td>46.2</td>\n",
       "      <td>0.797952</td>\n",
       "    </tr>\n",
       "    <tr>\n",
       "      <td>46.3</td>\n",
       "      <td>0.733794</td>\n",
       "    </tr>\n",
       "    <tr>\n",
       "      <td>46.4</td>\n",
       "      <td>0.662304</td>\n",
       "    </tr>\n",
       "    <tr>\n",
       "      <td>46.5</td>\n",
       "      <td>0.584197</td>\n",
       "    </tr>\n",
       "    <tr>\n",
       "      <td>46.6</td>\n",
       "      <td>0.500252</td>\n",
       "    </tr>\n",
       "    <tr>\n",
       "      <td>46.7</td>\n",
       "      <td>0.411309</td>\n",
       "    </tr>\n",
       "    <tr>\n",
       "      <td>46.8</td>\n",
       "      <td>0.318257</td>\n",
       "    </tr>\n",
       "    <tr>\n",
       "      <td>46.9</td>\n",
       "      <td>0.222024</td>\n",
       "    </tr>\n",
       "    <tr>\n",
       "      <td>47.0</td>\n",
       "      <td>0.123573</td>\n",
       "    </tr>\n",
       "    <tr>\n",
       "      <td>47.1</td>\n",
       "      <td>0.023888</td>\n",
       "    </tr>\n",
       "    <tr>\n",
       "      <td>47.2</td>\n",
       "      <td>-0.076037</td>\n",
       "    </tr>\n",
       "    <tr>\n",
       "      <td>47.3</td>\n",
       "      <td>-0.175201</td>\n",
       "    </tr>\n",
       "    <tr>\n",
       "      <td>47.4</td>\n",
       "      <td>-0.272615</td>\n",
       "    </tr>\n",
       "    <tr>\n",
       "      <td>47.5</td>\n",
       "      <td>-0.367305</td>\n",
       "    </tr>\n",
       "    <tr>\n",
       "      <td>47.6</td>\n",
       "      <td>-0.458325</td>\n",
       "    </tr>\n",
       "    <tr>\n",
       "      <td>47.7</td>\n",
       "      <td>-0.544766</td>\n",
       "    </tr>\n",
       "    <tr>\n",
       "      <td>47.8</td>\n",
       "      <td>-0.625764</td>\n",
       "    </tr>\n",
       "    <tr>\n",
       "      <td>47.9</td>\n",
       "      <td>-0.700509</td>\n",
       "    </tr>\n",
       "    <tr>\n",
       "      <td>48.0</td>\n",
       "      <td>-0.768255</td>\n",
       "    </tr>\n",
       "    <tr>\n",
       "      <td>48.1</td>\n",
       "      <td>-0.828324</td>\n",
       "    </tr>\n",
       "    <tr>\n",
       "      <td>48.2</td>\n",
       "      <td>-0.880118</td>\n",
       "    </tr>\n",
       "    <tr>\n",
       "      <td>48.3</td>\n",
       "      <td>-0.923117</td>\n",
       "    </tr>\n",
       "    <tr>\n",
       "      <td>48.4</td>\n",
       "      <td>-0.956893</td>\n",
       "    </tr>\n",
       "    <tr>\n",
       "      <td>48.5</td>\n",
       "      <td>-0.981108</td>\n",
       "    </tr>\n",
       "    <tr>\n",
       "      <td>48.6</td>\n",
       "      <td>-0.995521</td>\n",
       "    </tr>\n",
       "    <tr>\n",
       "      <td>48.7</td>\n",
       "      <td>-0.999986</td>\n",
       "    </tr>\n",
       "    <tr>\n",
       "      <td>48.8</td>\n",
       "      <td>-0.994460</td>\n",
       "    </tr>\n",
       "    <tr>\n",
       "      <td>48.9</td>\n",
       "      <td>-0.978997</td>\n",
       "    </tr>\n",
       "    <tr>\n",
       "      <td>49.0</td>\n",
       "      <td>-0.953753</td>\n",
       "    </tr>\n",
       "    <tr>\n",
       "      <td>49.1</td>\n",
       "      <td>-0.918979</td>\n",
       "    </tr>\n",
       "    <tr>\n",
       "      <td>49.2</td>\n",
       "      <td>-0.875023</td>\n",
       "    </tr>\n",
       "    <tr>\n",
       "      <td>49.3</td>\n",
       "      <td>-0.822324</td>\n",
       "    </tr>\n",
       "    <tr>\n",
       "      <td>49.4</td>\n",
       "      <td>-0.761408</td>\n",
       "    </tr>\n",
       "    <tr>\n",
       "      <td>49.5</td>\n",
       "      <td>-0.692885</td>\n",
       "    </tr>\n",
       "    <tr>\n",
       "      <td>49.6</td>\n",
       "      <td>-0.617439</td>\n",
       "    </tr>\n",
       "    <tr>\n",
       "      <td>49.7</td>\n",
       "      <td>-0.535823</td>\n",
       "    </tr>\n",
       "    <tr>\n",
       "      <td>49.8</td>\n",
       "      <td>-0.448854</td>\n",
       "    </tr>\n",
       "    <tr>\n",
       "      <td>49.9</td>\n",
       "      <td>-0.357400</td>\n",
       "    </tr>\n",
       "    <tr>\n",
       "      <td>50.0</td>\n",
       "      <td>-0.262375</td>\n",
       "    </tr>\n",
       "  </tbody>\n",
       "</table>\n",
       "</div>"
      ],
      "text/plain": [
       "          sine\n",
       "45.1  0.899097\n",
       "45.2  0.938307\n",
       "45.3  0.968142\n",
       "45.4  0.988304\n",
       "45.5  0.998591\n",
       "45.6  0.998900\n",
       "45.7  0.989229\n",
       "45.8  0.969673\n",
       "45.9  0.940429\n",
       "46.0  0.901788\n",
       "46.1  0.854137\n",
       "46.2  0.797952\n",
       "46.3  0.733794\n",
       "46.4  0.662304\n",
       "46.5  0.584197\n",
       "46.6  0.500252\n",
       "46.7  0.411309\n",
       "46.8  0.318257\n",
       "46.9  0.222024\n",
       "47.0  0.123573\n",
       "47.1  0.023888\n",
       "47.2 -0.076037\n",
       "47.3 -0.175201\n",
       "47.4 -0.272615\n",
       "47.5 -0.367305\n",
       "47.6 -0.458325\n",
       "47.7 -0.544766\n",
       "47.8 -0.625764\n",
       "47.9 -0.700509\n",
       "48.0 -0.768255\n",
       "48.1 -0.828324\n",
       "48.2 -0.880118\n",
       "48.3 -0.923117\n",
       "48.4 -0.956893\n",
       "48.5 -0.981108\n",
       "48.6 -0.995521\n",
       "48.7 -0.999986\n",
       "48.8 -0.994460\n",
       "48.9 -0.978997\n",
       "49.0 -0.953753\n",
       "49.1 -0.918979\n",
       "49.2 -0.875023\n",
       "49.3 -0.822324\n",
       "49.4 -0.761408\n",
       "49.5 -0.692885\n",
       "49.6 -0.617439\n",
       "49.7 -0.535823\n",
       "49.8 -0.448854\n",
       "49.9 -0.357400\n",
       "50.0 -0.262375"
      ]
     },
     "execution_count": 19,
     "metadata": {},
     "output_type": "execute_result"
    }
   ],
   "source": [
    "test"
   ]
  },
  {
   "cell_type": "code",
   "execution_count": 20,
   "metadata": {},
   "outputs": [],
   "source": [
    "from sklearn.preprocessing import MinMaxScaler"
   ]
  },
  {
   "cell_type": "code",
   "execution_count": 21,
   "metadata": {},
   "outputs": [],
   "source": [
    "scaler = MinMaxScaler()"
   ]
  },
  {
   "cell_type": "code",
   "execution_count": 22,
   "metadata": {},
   "outputs": [
    {
     "data": {
      "text/plain": [
       "MinMaxScaler(copy=True, feature_range=(0, 1))"
      ]
     },
     "execution_count": 22,
     "metadata": {},
     "output_type": "execute_result"
    }
   ],
   "source": [
    "scaler.fit(train)"
   ]
  },
  {
   "cell_type": "code",
   "execution_count": 24,
   "metadata": {},
   "outputs": [],
   "source": [
    "scaled_train =scaler.transform(train)"
   ]
  },
  {
   "cell_type": "code",
   "execution_count": 25,
   "metadata": {},
   "outputs": [],
   "source": [
    "scaled_test = scaler.transform(test)"
   ]
  },
  {
   "cell_type": "code",
   "execution_count": 26,
   "metadata": {},
   "outputs": [],
   "source": [
    "from tensorflow.keras.preprocessing.sequence import TimeseriesGenerator"
   ]
  },
  {
   "cell_type": "code",
   "execution_count": 27,
   "metadata": {},
   "outputs": [
    {
     "name": "stdout",
     "output_type": "stream",
     "text": [
      "Help on class TimeseriesGenerator in module tensorflow.python.keras.preprocessing.sequence:\n",
      "\n",
      "class TimeseriesGenerator(keras_preprocessing.sequence.TimeseriesGenerator, tensorflow.python.keras.utils.data_utils.Sequence)\n",
      " |  TimeseriesGenerator(data, targets, length, sampling_rate=1, stride=1, start_index=0, end_index=None, shuffle=False, reverse=False, batch_size=128)\n",
      " |  \n",
      " |  Utility class for generating batches of temporal data.\n",
      " |  This class takes in a sequence of data-points gathered at\n",
      " |  equal intervals, along with time series parameters such as\n",
      " |  stride, length of history, etc., to produce batches for\n",
      " |  training/validation.\n",
      " |  # Arguments\n",
      " |      data: Indexable generator (such as list or Numpy array)\n",
      " |          containing consecutive data points (timesteps).\n",
      " |          The data should be at 2D, and axis 0 is expected\n",
      " |          to be the time dimension.\n",
      " |      targets: Targets corresponding to timesteps in `data`.\n",
      " |          It should have same length as `data`.\n",
      " |      length: Length of the output sequences (in number of timesteps).\n",
      " |      sampling_rate: Period between successive individual timesteps\n",
      " |          within sequences. For rate `r`, timesteps\n",
      " |          `data[i]`, `data[i-r]`, ... `data[i - length]`\n",
      " |          are used for create a sample sequence.\n",
      " |      stride: Period between successive output sequences.\n",
      " |          For stride `s`, consecutive output samples would\n",
      " |          be centered around `data[i]`, `data[i+s]`, `data[i+2*s]`, etc.\n",
      " |      start_index: Data points earlier than `start_index` will not be used\n",
      " |          in the output sequences. This is useful to reserve part of the\n",
      " |          data for test or validation.\n",
      " |      end_index: Data points later than `end_index` will not be used\n",
      " |          in the output sequences. This is useful to reserve part of the\n",
      " |          data for test or validation.\n",
      " |      shuffle: Whether to shuffle output samples,\n",
      " |          or instead draw them in chronological order.\n",
      " |      reverse: Boolean: if `true`, timesteps in each output sample will be\n",
      " |          in reverse chronological order.\n",
      " |      batch_size: Number of timeseries samples in each batch\n",
      " |          (except maybe the last one).\n",
      " |  # Returns\n",
      " |      A [Sequence](/utils/#sequence) instance.\n",
      " |  # Examples\n",
      " |  ```python\n",
      " |  from keras.preprocessing.sequence import TimeseriesGenerator\n",
      " |  import numpy as np\n",
      " |  data = np.array([[i] for i in range(50)])\n",
      " |  targets = np.array([[i] for i in range(50)])\n",
      " |  data_gen = TimeseriesGenerator(data, targets,\n",
      " |                                 length=10, sampling_rate=2,\n",
      " |                                 batch_size=2)\n",
      " |  assert len(data_gen) == 20\n",
      " |  batch_0 = data_gen[0]\n",
      " |  x, y = batch_0\n",
      " |  assert np.array_equal(x,\n",
      " |                        np.array([[[0], [2], [4], [6], [8]],\n",
      " |                                  [[1], [3], [5], [7], [9]]]))\n",
      " |  assert np.array_equal(y,\n",
      " |                        np.array([[10], [11]]))\n",
      " |  ```\n",
      " |  \n",
      " |  Method resolution order:\n",
      " |      TimeseriesGenerator\n",
      " |      keras_preprocessing.sequence.TimeseriesGenerator\n",
      " |      tensorflow.python.keras.utils.data_utils.Sequence\n",
      " |      builtins.object\n",
      " |  \n",
      " |  Methods inherited from keras_preprocessing.sequence.TimeseriesGenerator:\n",
      " |  \n",
      " |  __getitem__(self, index)\n",
      " |  \n",
      " |  __init__(self, data, targets, length, sampling_rate=1, stride=1, start_index=0, end_index=None, shuffle=False, reverse=False, batch_size=128)\n",
      " |      Initialize self.  See help(type(self)) for accurate signature.\n",
      " |  \n",
      " |  __len__(self)\n",
      " |  \n",
      " |  get_config(self)\n",
      " |      Returns the TimeseriesGenerator configuration as Python dictionary.\n",
      " |      \n",
      " |      # Returns\n",
      " |          A Python dictionary with the TimeseriesGenerator configuration.\n",
      " |  \n",
      " |  to_json(self, **kwargs)\n",
      " |      Returns a JSON string containing the timeseries generator\n",
      " |      configuration. To load a generator from a JSON string, use\n",
      " |      `keras.preprocessing.sequence.timeseries_generator_from_json(json_string)`.\n",
      " |      \n",
      " |      # Arguments\n",
      " |          **kwargs: Additional keyword arguments\n",
      " |              to be passed to `json.dumps()`.\n",
      " |      \n",
      " |      # Returns\n",
      " |          A JSON string containing the tokenizer configuration.\n",
      " |  \n",
      " |  ----------------------------------------------------------------------\n",
      " |  Data descriptors inherited from keras_preprocessing.sequence.TimeseriesGenerator:\n",
      " |  \n",
      " |  __dict__\n",
      " |      dictionary for instance variables (if defined)\n",
      " |  \n",
      " |  __weakref__\n",
      " |      list of weak references to the object (if defined)\n",
      " |  \n",
      " |  ----------------------------------------------------------------------\n",
      " |  Methods inherited from tensorflow.python.keras.utils.data_utils.Sequence:\n",
      " |  \n",
      " |  __iter__(self)\n",
      " |      Create a generator that iterate over the Sequence.\n",
      " |  \n",
      " |  on_epoch_end(self)\n",
      " |      Method called at the end of every epoch.\n",
      "\n"
     ]
    }
   ],
   "source": [
    "help(TimeseriesGenerator)"
   ]
  },
  {
   "cell_type": "code",
   "execution_count": 36,
   "metadata": {},
   "outputs": [],
   "source": [
    "length = 50 # output seq in terms of time steps it should be long enough to pick up on any seasonality or trend\n",
    "batch_size = 1 # number of samples in batch\n",
    "\n",
    "generator = TimeseriesGenerator(scaled_train,scaled_train,\n",
    "                                length=length,batch_size=batch_size)"
   ]
  },
  {
   "cell_type": "code",
   "execution_count": 37,
   "metadata": {},
   "outputs": [
    {
     "data": {
      "text/plain": [
       "451"
      ]
     },
     "execution_count": 37,
     "metadata": {},
     "output_type": "execute_result"
    }
   ],
   "source": [
    "len(scaled_train)"
   ]
  },
  {
   "cell_type": "code",
   "execution_count": 38,
   "metadata": {},
   "outputs": [
    {
     "data": {
      "text/plain": [
       "401"
      ]
     },
     "execution_count": 38,
     "metadata": {},
     "output_type": "execute_result"
    }
   ],
   "source": [
    "len(generator)"
   ]
  },
  {
   "cell_type": "code",
   "execution_count": 39,
   "metadata": {},
   "outputs": [],
   "source": [
    "X,y =generator[0]"
   ]
  },
  {
   "cell_type": "code",
   "execution_count": 40,
   "metadata": {},
   "outputs": [
    {
     "data": {
      "text/plain": [
       "array([[[4.99999116e-01],\n",
       "        [5.49916225e-01],\n",
       "        [5.99334579e-01],\n",
       "        [6.47760405e-01],\n",
       "        [6.94709850e-01],\n",
       "        [7.39713809e-01],\n",
       "        [7.82322618e-01],\n",
       "        [8.22110545e-01],\n",
       "        [8.58680040e-01],\n",
       "        [8.91665714e-01],\n",
       "        [9.20737985e-01],\n",
       "        [9.45606372e-01],\n",
       "        [9.66022399e-01],\n",
       "        [9.81782075e-01],\n",
       "        [9.92727935e-01],\n",
       "        [9.98750612e-01],\n",
       "        [9.99789928e-01],\n",
       "        [9.95835500e-01],\n",
       "        [9.86926839e-01],\n",
       "        [9.73152957e-01],\n",
       "        [9.54651478e-01],\n",
       "        [9.31607263e-01],\n",
       "        [9.04250562e-01],\n",
       "        [8.72854714e-01],\n",
       "        [8.37733417e-01],\n",
       "        [7.99237589e-01],\n",
       "        [7.57751870e-01],\n",
       "        [7.13690771e-01],\n",
       "        [6.67494535e-01],\n",
       "        [6.19624741e-01],\n",
       "        [5.70559686e-01],\n",
       "        [5.20789614e-01],\n",
       "        [4.70811810e-01],\n",
       "        [4.21125636e-01],\n",
       "        [3.72227539e-01],\n",
       "        [3.24606094e-01],\n",
       "        [2.78737119e-01],\n",
       "        [2.35078919e-01],\n",
       "        [1.94067715e-01],\n",
       "        [1.56113277e-01],\n",
       "        [1.21594831e-01],\n",
       "        [9.08572769e-02],\n",
       "        [6.42077324e-02],\n",
       "        [4.19124713e-02],\n",
       "        [2.41942605e-02],\n",
       "        [1.12301346e-02],\n",
       "        [3.14962674e-03],\n",
       "        [3.34747619e-05],\n",
       "        [1.91281421e-03],\n",
       "        [8.76886734e-03]]])"
      ]
     },
     "execution_count": 40,
     "metadata": {},
     "output_type": "execute_result"
    }
   ],
   "source": [
    "X"
   ]
  },
  {
   "cell_type": "code",
   "execution_count": 41,
   "metadata": {},
   "outputs": [
    {
     "data": {
      "text/plain": [
       "array([[0.02053313]])"
      ]
     },
     "execution_count": 41,
     "metadata": {},
     "output_type": "execute_result"
    }
   ],
   "source": [
    "y"
   ]
  },
  {
   "cell_type": "code",
   "execution_count": 42,
   "metadata": {},
   "outputs": [
    {
     "data": {
      "text/plain": [
       "array([[4.99999116e-01],\n",
       "       [5.49916225e-01],\n",
       "       [5.99334579e-01],\n",
       "       [6.47760405e-01],\n",
       "       [6.94709850e-01],\n",
       "       [7.39713809e-01],\n",
       "       [7.82322618e-01],\n",
       "       [8.22110545e-01],\n",
       "       [8.58680040e-01],\n",
       "       [8.91665714e-01],\n",
       "       [9.20737985e-01],\n",
       "       [9.45606372e-01],\n",
       "       [9.66022399e-01],\n",
       "       [9.81782075e-01],\n",
       "       [9.92727935e-01],\n",
       "       [9.98750612e-01],\n",
       "       [9.99789928e-01],\n",
       "       [9.95835500e-01],\n",
       "       [9.86926839e-01],\n",
       "       [9.73152957e-01],\n",
       "       [9.54651478e-01],\n",
       "       [9.31607263e-01],\n",
       "       [9.04250562e-01],\n",
       "       [8.72854714e-01],\n",
       "       [8.37733417e-01],\n",
       "       [7.99237589e-01],\n",
       "       [7.57751870e-01],\n",
       "       [7.13690771e-01],\n",
       "       [6.67494535e-01],\n",
       "       [6.19624741e-01],\n",
       "       [5.70559686e-01],\n",
       "       [5.20789614e-01],\n",
       "       [4.70811810e-01],\n",
       "       [4.21125636e-01],\n",
       "       [3.72227539e-01],\n",
       "       [3.24606094e-01],\n",
       "       [2.78737119e-01],\n",
       "       [2.35078919e-01],\n",
       "       [1.94067715e-01],\n",
       "       [1.56113277e-01],\n",
       "       [1.21594831e-01],\n",
       "       [9.08572769e-02],\n",
       "       [6.42077324e-02],\n",
       "       [4.19124713e-02],\n",
       "       [2.41942605e-02],\n",
       "       [1.12301346e-02],\n",
       "       [3.14962674e-03],\n",
       "       [3.34747619e-05],\n",
       "       [1.91281421e-03],\n",
       "       [8.76886734e-03],\n",
       "       [2.05331307e-02],\n",
       "       [3.70880598e-02],\n",
       "       [5.82682430e-02],\n",
       "       [8.38620552e-02],\n",
       "       [1.13613771e-01],\n",
       "       [1.47226122e-01],\n",
       "       [1.84363264e-01],\n",
       "       [2.24654135e-01],\n",
       "       [2.67696162e-01],\n",
       "       [3.13059283e-01],\n",
       "       [3.60290246e-01],\n",
       "       [4.08917133e-01],\n",
       "       [4.58454081e-01],\n",
       "       [5.08406134e-01],\n",
       "       [5.58274186e-01],\n",
       "       [6.07559973e-01],\n",
       "       [6.55771048e-01],\n",
       "       [7.02425701e-01],\n",
       "       [7.47057774e-01],\n",
       "       [7.89221319e-01],\n",
       "       [8.28495052e-01],\n",
       "       [8.64486561e-01],\n",
       "       [8.96836233e-01],\n",
       "       [9.25220839e-01],\n",
       "       [9.49356770e-01],\n",
       "       [9.69002868e-01],\n",
       "       [9.83962836e-01],\n",
       "       [9.94087198e-01],\n",
       "       [9.99274795e-01],\n",
       "       [9.99473795e-01],\n",
       "       [9.94682209e-01],\n",
       "       [9.84947913e-01],\n",
       "       [9.70368169e-01],\n",
       "       [9.51088653e-01],\n",
       "       [9.27301999e-01],\n",
       "       [8.99245876e-01],\n",
       "       [8.67200612e-01],\n",
       "       [8.31486391e-01],\n",
       "       [7.92460059e-01],\n",
       "       [7.50511555e-01],\n",
       "       [7.06060012e-01],\n",
       "       [6.59549578e-01],\n",
       "       [6.11444967e-01],\n",
       "       [5.62226827e-01],\n",
       "       [5.12386928e-01],\n",
       "       [4.62423254e-01],\n",
       "       [4.12835026e-01],\n",
       "       [3.64117712e-01],\n",
       "       [3.16758081e-01],\n",
       "       [2.71229333e-01],\n",
       "       [2.27986377e-01],\n",
       "       [1.87461283e-01],\n",
       "       [1.50058964e-01],\n",
       "       [1.16153131e-01],\n",
       "       [8.60825596e-02],\n",
       "       [6.01477060e-02],\n",
       "       [3.86077023e-02],\n",
       "       [2.16777691e-02],\n",
       "       [9.52706470e-03],\n",
       "       [2.27699490e-03],\n",
       "       [0.00000000e+00],\n",
       "       [2.71883099e-03],\n",
       "       [1.04063222e-02],\n",
       "       [2.29856628e-02],\n",
       "       [4.03311641e-02],\n",
       "       [6.22695157e-02],\n",
       "       [8.85815167e-02],\n",
       "       [1.19004266e-01],\n",
       "       [1.53233791e-01],\n",
       "       [1.90928079e-01],\n",
       "       [2.31710504e-01],\n",
       "       [2.75173579e-01],\n",
       "       [3.20883037e-01],\n",
       "       [3.68382164e-01],\n",
       "       [4.17196364e-01],\n",
       "       [4.66837901e-01],\n",
       "       [5.16810774e-01],\n",
       "       [5.66615671e-01],\n",
       "       [6.15754957e-01],\n",
       "       [6.63737650e-01],\n",
       "       [7.10084320e-01],\n",
       "       [7.54331889e-01],\n",
       "       [7.96038249e-01],\n",
       "       [8.34786684e-01],\n",
       "       [8.70190032e-01],\n",
       "       [9.01894555e-01],\n",
       "       [9.29583471e-01],\n",
       "       [9.52980122e-01],\n",
       "       [9.71850737e-01],\n",
       "       [9.86006767e-01],\n",
       "       [9.95306769e-01],\n",
       "       [9.99657820e-01],\n",
       "       [9.99016447e-01],\n",
       "       [9.93389058e-01],\n",
       "       [9.82831879e-01],\n",
       "       [9.67450395e-01],\n",
       "       [9.47398292e-01],\n",
       "       [9.22875925e-01],\n",
       "       [8.94128313e-01],\n",
       "       [8.61442691e-01],\n",
       "       [8.25145645e-01],\n",
       "       [7.85599843e-01],\n",
       "       [7.43200412e-01],\n",
       "       [6.98370994e-01],\n",
       "       [6.51559511e-01],\n",
       "       [6.03233685e-01],\n",
       "       [5.53876374e-01],\n",
       "       [5.03980740e-01],\n",
       "       [4.54045322e-01],\n",
       "       [4.04569059e-01],\n",
       "       [3.56046302e-01],\n",
       "       [3.08961874e-01],\n",
       "       [2.63786227e-01],\n",
       "       [2.20970741e-01],\n",
       "       [1.80943214e-01],\n",
       "       [1.44103589e-01],\n",
       "       [1.10819953e-01],\n",
       "       [8.14248677e-02],\n",
       "       [5.62120376e-02],\n",
       "       [3.54333813e-02],\n",
       "       [1.92965122e-02],\n",
       "       [7.96266464e-03],\n",
       "       [1.54508265e-03],\n",
       "       [1.07888605e-04],\n",
       "       [3.66544246e-03],\n",
       "       [1.21821983e-02],\n",
       "       [2.55730595e-02],\n",
       "       [4.37042291e-02],\n",
       "       [6.63945464e-02],\n",
       "       [9.34172971e-02],\n",
       "       [1.24502479e-01],\n",
       "       [1.59339499e-01],\n",
       "       [1.97580278e-01],\n",
       "       [2.38842725e-01],\n",
       "       [2.82714561e-01],\n",
       "       [3.28757432e-01],\n",
       "       [3.76511294e-01],\n",
       "       [4.25499005e-01],\n",
       "       [4.75231097e-01],\n",
       "       [5.25210662e-01],\n",
       "       [5.74938322e-01],\n",
       "       [6.23917214e-01],\n",
       "       [6.71657958e-01],\n",
       "       [7.17683543e-01],\n",
       "       [7.61534097e-01],\n",
       "       [8.02771481e-01],\n",
       "       [8.40983662e-01],\n",
       "       [8.75788839e-01],\n",
       "       [9.06839250e-01],\n",
       "       [9.33824648e-01],\n",
       "       [9.56475405e-01],\n",
       "       [9.74565201e-01],\n",
       "       [9.87913290e-01],\n",
       "       [9.96386302e-01],\n",
       "       [9.99899578e-01],\n",
       "       [9.98418013e-01],\n",
       "       [9.91956411e-01],\n",
       "       [9.80579335e-01],\n",
       "       [9.64400460e-01],\n",
       "       [9.43581440e-01],\n",
       "       [9.18330292e-01],\n",
       "       [8.88899318e-01],\n",
       "       [8.55582581e-01],\n",
       "       [8.18712972e-01],\n",
       "       [7.78658879e-01],\n",
       "       [7.35820510e-01],\n",
       "       [6.90625892e-01],\n",
       "       [6.43526593e-01],\n",
       "       [5.94993216e-01],\n",
       "       [5.45510689e-01],\n",
       "       [4.95573426e-01],\n",
       "       [4.45680382e-01],\n",
       "       [3.96330074e-01],\n",
       "       [3.48015592e-01],\n",
       "       [3.01219679e-01],\n",
       "       [2.56409905e-01],\n",
       "       [2.14033993e-01],\n",
       "       [1.74515351e-01],\n",
       "       [1.38248835e-01],\n",
       "       [1.05596808e-01],\n",
       "       [7.68855182e-02],\n",
       "       [5.24018399e-02],\n",
       "       [3.23904056e-02],\n",
       "       [1.70511630e-02],\n",
       "       [6.53737668e-03],\n",
       "       [9.54096943e-04],\n",
       "       [3.57110073e-04],\n",
       "       [4.75238097e-03],\n",
       "       [1.40959935e-02],\n",
       "       [2.82945895e-02],\n",
       "       [4.72063011e-02],\n",
       "       [7.06421689e-02],\n",
       "       [9.83680294e-02],\n",
       "       [1.30106855e-01],\n",
       "       [1.65541522e-01],\n",
       "       [2.04317978e-01],\n",
       "       [2.46048783e-01],\n",
       "       [2.90316975e-01],\n",
       "       [3.36680242e-01],\n",
       "       [3.84675337e-01],\n",
       "       [4.33822710e-01],\n",
       "       [4.83631295e-01],\n",
       "       [5.33603422e-01],\n",
       "       [5.83239786e-01],\n",
       "       [6.32044436e-01],\n",
       "       [6.79529734e-01],\n",
       "       [7.25221221e-01],\n",
       "       [7.68662363e-01],\n",
       "       [8.09419110e-01],\n",
       "       [8.47084236e-01],\n",
       "       [8.81281401e-01],\n",
       "       [9.11668920e-01],\n",
       "       [9.37943170e-01],\n",
       "       [9.59841629e-01],\n",
       "       [9.77145492e-01],\n",
       "       [9.89681867e-01],\n",
       "       [9.97325494e-01],\n",
       "       [1.00000000e+00],\n",
       "       [9.97678662e-01],\n",
       "       [9.90384675e-01],\n",
       "       [9.78190918e-01],\n",
       "       [9.61219226e-01],\n",
       "       [9.39639175e-01],\n",
       "       [9.13666386e-01],\n",
       "       [8.83560370e-01],\n",
       "       [8.49621938e-01],\n",
       "       [8.12190189e-01],\n",
       "       [7.71639131e-01],\n",
       "       [7.28373935e-01],\n",
       "       [6.82826893e-01],\n",
       "       [6.35453097e-01],\n",
       "       [5.86725890e-01],\n",
       "       [5.37132137e-01],\n",
       "       [4.87167363e-01],\n",
       "       [4.37330800e-01],\n",
       "       [3.88120398e-01],\n",
       "       [3.40027851e-01],\n",
       "       [2.93533684e-01],\n",
       "       [2.49102452e-01],\n",
       "       [2.07178096e-01],\n",
       "       [1.68179511e-01],\n",
       "       [1.32496358e-01],\n",
       "       [1.00485170e-01],\n",
       "       [7.24657944e-02],\n",
       "       [4.87181901e-02],\n",
       "       [2.94796357e-02],\n",
       "       [1.49423563e-02],\n",
       "       [5.25160379e-03],\n",
       "       [5.04204848e-04],\n",
       "       [7.47593943e-04],\n",
       "       [5.97933921e-03],\n",
       "       [1.61471668e-02],\n",
       "       [3.11494831e-02],\n",
       "       [5.08363900e-02],\n",
       "       [7.50111823e-02],\n",
       "       [1.03432314e-01],\n",
       "       [1.35815809e-01],\n",
       "       [1.71838104e-01],\n",
       "       [2.11139276e-01],\n",
       "       [2.53326639e-01],\n",
       "       [2.97978672e-01],\n",
       "       [3.44649227e-01],\n",
       "       [3.92871986e-01],\n",
       "       [4.42165124e-01],\n",
       "       [4.92036121e-01],\n",
       "       [5.41986681e-01],\n",
       "       [5.91517715e-01],\n",
       "       [6.40134325e-01],\n",
       "       [6.87350751e-01],\n",
       "       [7.32695222e-01],\n",
       "       [7.75714669e-01],\n",
       "       [8.15979258e-01],\n",
       "       [8.53086678e-01],\n",
       "       [8.86666164e-01],\n",
       "       [9.16382200e-01],\n",
       "       [9.41937874e-01],\n",
       "       [9.63077843e-01],\n",
       "       [9.79590881e-01],\n",
       "       [9.91311998e-01],\n",
       "       [9.98124078e-01],\n",
       "       [9.99959058e-01],\n",
       "       [9.96798604e-01],\n",
       "       [9.88674294e-01],\n",
       "       [9.75667303e-01],\n",
       "       [9.57907592e-01],\n",
       "       [9.35572612e-01],\n",
       "       [9.08885525e-01],\n",
       "       [8.78112980e-01],\n",
       "       [8.43562446e-01],\n",
       "       [8.05579141e-01],\n",
       "       [7.64542582e-01],\n",
       "       [7.20862792e-01],\n",
       "       [6.74976205e-01],\n",
       "       [6.27341304e-01],\n",
       "       [5.78434043e-01],\n",
       "       [5.28743086e-01],\n",
       "       [4.78764928e-01],\n",
       "       [4.28998936e-01],\n",
       "       [3.79942353e-01],\n",
       "       [3.32085339e-01],\n",
       "       [2.85906063e-01],\n",
       "       [2.41865934e-01],\n",
       "       [2.00404987e-01],\n",
       "       [1.61937485e-01],\n",
       "       [1.26847783e-01],\n",
       "       [9.54864865e-02],\n",
       "       [6.81669460e-02],\n",
       "       [4.51621298e-02],\n",
       "       [2.67018944e-02],\n",
       "       [1.29706884e-02],\n",
       "       [4.10570950e-03],\n",
       "       [1.95533568e-04],\n",
       "       [1.27922981e-03],\n",
       "       [7.34597031e-03],\n",
       "       [1.83351382e-02],\n",
       "       [3.41369333e-02],\n",
       "       [5.45934694e-02],\n",
       "       [7.95003514e-02],\n",
       "       [1.08608718e-01],\n",
       "       [1.41627728e-01],\n",
       "       [1.78227467e-01],\n",
       "       [2.18042242e-01],\n",
       "       [2.60674236e-01],\n",
       "       [3.05697486e-01],\n",
       "       [3.52662133e-01],\n",
       "       [4.01098922e-01],\n",
       "       [4.50523890e-01],\n",
       "       [5.00443198e-01],\n",
       "       [5.50358069e-01],\n",
       "       [5.99769769e-01],\n",
       "       [6.48184595e-01],\n",
       "       [6.95118799e-01],\n",
       "       [7.40103433e-01],\n",
       "       [7.82689024e-01],\n",
       "       [8.22450070e-01],\n",
       "       [8.58989293e-01],\n",
       "       [8.91941605e-01],\n",
       "       [9.20977757e-01],\n",
       "       [9.45807630e-01],\n",
       "       [9.66183132e-01],\n",
       "       [9.81900676e-01],\n",
       "       [9.92803220e-01],\n",
       "       [9.98781828e-01],\n",
       "       [9.99776764e-01],\n",
       "       [9.95778087e-01],\n",
       "       [9.86825751e-01],\n",
       "       [9.73009203e-01],\n",
       "       [9.54466495e-01],\n",
       "       [9.31382900e-01],\n",
       "       [9.03989060e-01],\n",
       "       [8.72558686e-01],\n",
       "       [8.37405820e-01],\n",
       "       [7.98881698e-01],\n",
       "       [7.57371240e-01],\n",
       "       [7.13289205e-01],\n",
       "       [6.67076045e-01],\n",
       "       [6.19193508e-01],\n",
       "       [5.70120021e-01],\n",
       "       [5.20345908e-01],\n",
       "       [4.70368497e-01],\n",
       "       [4.20687145e-01],\n",
       "       [3.71798252e-01],\n",
       "       [3.24190300e-01],\n",
       "       [2.78338972e-01],\n",
       "       [2.34702398e-01],\n",
       "       [1.93716581e-01],\n",
       "       [1.55791039e-01],\n",
       "       [1.21304709e-01],\n",
       "       [9.06021693e-02],\n",
       "       [6.39901882e-02],\n",
       "       [4.17346643e-02],\n",
       "       [2.40579672e-02],\n",
       "       [1.11367167e-02],\n",
       "       [3.10001778e-03],\n",
       "       [2.81703720e-05],\n",
       "       [1.95186738e-03],\n",
       "       [8.85188786e-03],\n",
       "       [2.06592891e-02],\n",
       "       [3.72560954e-02],\n",
       "       [5.84764771e-02],\n",
       "       [8.41084070e-02],\n",
       "       [1.13895779e-01],\n",
       "       [1.47540969e-01],\n",
       "       [1.84707803e-01],\n",
       "       [2.25024924e-01],\n",
       "       [2.68089497e-01],\n",
       "       [3.13471233e-01],\n",
       "       [3.60716695e-01],\n",
       "       [4.09353821e-01],\n",
       "       [4.58896644e-01],\n",
       "       [5.08850150e-01],\n",
       "       [5.58715219e-01],\n",
       "       [6.07993616e-01],\n",
       "       [6.56192968e-01],\n",
       "       [7.02831682e-01],\n",
       "       [7.47443761e-01],\n",
       "       [7.89583454e-01],\n",
       "       [8.28829716e-01],\n",
       "       [8.64790412e-01],\n",
       "       [8.97106234e-01],\n",
       "       [9.25454293e-01]])"
      ]
     },
     "execution_count": 42,
     "metadata": {},
     "output_type": "execute_result"
    }
   ],
   "source": [
    "scaled_train"
   ]
  },
  {
   "cell_type": "code",
   "execution_count": 43,
   "metadata": {},
   "outputs": [],
   "source": [
    "from tensorflow.keras.models import Sequential"
   ]
  },
  {
   "cell_type": "code",
   "execution_count": 44,
   "metadata": {},
   "outputs": [],
   "source": [
    "from tensorflow.keras.layers import Dense, SimpleRNN, LSTM"
   ]
  },
  {
   "cell_type": "code",
   "execution_count": 45,
   "metadata": {},
   "outputs": [],
   "source": [
    "n_features = 1 # no of features we are training on"
   ]
  },
  {
   "cell_type": "code",
   "execution_count": 46,
   "metadata": {},
   "outputs": [],
   "source": [
    "model = Sequential()"
   ]
  },
  {
   "cell_type": "code",
   "execution_count": 47,
   "metadata": {},
   "outputs": [],
   "source": [
    "model.add(SimpleRNN(50,input_shape=(length,n_features)))\n",
    "model.add(Dense(1))\n",
    "model.compile(optimizer='adam',loss='mse')"
   ]
  },
  {
   "cell_type": "code",
   "execution_count": 48,
   "metadata": {},
   "outputs": [
    {
     "name": "stdout",
     "output_type": "stream",
     "text": [
      "Model: \"sequential\"\n",
      "_________________________________________________________________\n",
      "Layer (type)                 Output Shape              Param #   \n",
      "=================================================================\n",
      "simple_rnn (SimpleRNN)       (None, 50)                2600      \n",
      "_________________________________________________________________\n",
      "dense (Dense)                (None, 1)                 51        \n",
      "=================================================================\n",
      "Total params: 2,651\n",
      "Trainable params: 2,651\n",
      "Non-trainable params: 0\n",
      "_________________________________________________________________\n"
     ]
    }
   ],
   "source": [
    "model.summary()"
   ]
  },
  {
   "cell_type": "code",
   "execution_count": 49,
   "metadata": {},
   "outputs": [
    {
     "name": "stdout",
     "output_type": "stream",
     "text": [
      "Epoch 1/5\n",
      "401/401 [==============================] - 53s 133ms/step - loss: 0.0019\n",
      "Epoch 2/5\n",
      "401/401 [==============================] - 44s 109ms/step - loss: 1.5832e-04\n",
      "Epoch 3/5\n",
      "401/401 [==============================] - 44s 110ms/step - loss: 4.0327e-04\n",
      "Epoch 4/5\n",
      "401/401 [==============================] - 43s 108ms/step - loss: 4.9308e-06\n",
      "Epoch 5/5\n",
      "401/401 [==============================] - 48s 118ms/step - loss: 3.4566e-05\n"
     ]
    },
    {
     "data": {
      "text/plain": [
       "<tensorflow.python.keras.callbacks.History at 0x7f9a0b5bdad0>"
      ]
     },
     "execution_count": 49,
     "metadata": {},
     "output_type": "execute_result"
    }
   ],
   "source": [
    "model.fit_generator(generator,epochs=5)"
   ]
  },
  {
   "cell_type": "code",
   "execution_count": 50,
   "metadata": {},
   "outputs": [],
   "source": [
    "losses=pd.DataFrame(model.history.history)"
   ]
  },
  {
   "cell_type": "code",
   "execution_count": 51,
   "metadata": {},
   "outputs": [
    {
     "data": {
      "text/plain": [
       "<matplotlib.axes._subplots.AxesSubplot at 0x7f99f167d610>"
      ]
     },
     "execution_count": 51,
     "metadata": {},
     "output_type": "execute_result"
    },
    {
     "data": {
      "image/png": "[encoded data removed]",
      "text/plain": [
       "<Figure size 432x288 with 1 Axes>"
      ]
     },
     "metadata": {
      "needs_background": "light"
     },
     "output_type": "display_data"
    }
   ],
   "source": [
    "losses.plot()"
   ]
  },
  {
   "cell_type": "code",
   "execution_count": 52,
   "metadata": {},
   "outputs": [],
   "source": [
    "first_eval_batch = scaled_train[-length:]"
   ]
  },
  {
   "cell_type": "code",
   "execution_count": 53,
   "metadata": {},
   "outputs": [
    {
     "data": {
      "text/plain": [
       "(50, 1)"
      ]
     },
     "execution_count": 53,
     "metadata": {},
     "output_type": "execute_result"
    }
   ],
   "source": [
    "first_eval_batch.shape"
   ]
  },
  {
   "cell_type": "code",
   "execution_count": 54,
   "metadata": {},
   "outputs": [],
   "source": [
    "first_eval_batch = first_eval_batch.reshape(1,length,n_features)"
   ]
  },
  {
   "cell_type": "code",
   "execution_count": 55,
   "metadata": {},
   "outputs": [
    {
     "data": {
      "text/plain": [
       "(1, 50, 1)"
      ]
     },
     "execution_count": 55,
     "metadata": {},
     "output_type": "execute_result"
    }
   ],
   "source": [
    "first_eval_batch.shape"
   ]
  },
  {
   "cell_type": "code",
   "execution_count": 59,
   "metadata": {},
   "outputs": [
    {
     "data": {
      "text/plain": [
       "(array([[0.9415534]], dtype=float32), array([0.94955134]))"
      ]
     },
     "execution_count": 59,
     "metadata": {},
     "output_type": "execute_result"
    }
   ],
   "source": [
    "model.predict(first_eval_batch), scaled_test[0] # comparing scaled vs scaled...prediction is close"
   ]
  },
  {
   "cell_type": "code",
   "execution_count": 60,
   "metadata": {},
   "outputs": [],
   "source": [
    "test_predictions =[]\n",
    "first_eval_batch = scaled_train[-length:]\n",
    "current_batch = first_eval_batch.reshape(1,length,n_features)\n",
    "\n",
    "for i in range (len(test)):\n",
    "    current_pred = model.predict(current_batch)[0]\n",
    "    test_predictions.append(current_pred)\n",
    "    current_batch = np.append(current_batch[:,1:,:],[[current_pred]],axis=1)"
   ]
  },
  {
   "cell_type": "code",
   "execution_count": 61,
   "metadata": {
    "scrolled": true
   },
   "outputs": [
    {
     "data": {
      "text/plain": [
       "[array([0.9415534], dtype=float32),\n",
       " array([0.9588352], dtype=float32),\n",
       " array([0.9693801], dtype=float32),\n",
       " array([0.9737635], dtype=float32),\n",
       " array([0.9722821], dtype=float32),\n",
       " array([0.967895], dtype=float32),\n",
       " array([0.9562729], dtype=float32),\n",
       " array([0.93998575], dtype=float32),\n",
       " array([0.9201606], dtype=float32),\n",
       " array([0.89302105], dtype=float32),\n",
       " array([0.8634979], dtype=float32),\n",
       " array([0.829534], dtype=float32),\n",
       " array([0.7900142], dtype=float32),\n",
       " array([0.74764663], dtype=float32),\n",
       " array([0.70376444], dtype=float32),\n",
       " array([0.6555123], dtype=float32),\n",
       " array([0.6042969], dtype=float32),\n",
       " array([0.5538219], dtype=float32),\n",
       " array([0.49903235], dtype=float32),\n",
       " array([0.4440218], dtype=float32),\n",
       " array([0.38983864], dtype=float32),\n",
       " array([0.33496967], dtype=float32),\n",
       " array([0.27982044], dtype=float32),\n",
       " array([0.22860569], dtype=float32),\n",
       " array([0.17936803], dtype=float32),\n",
       " array([0.13060239], dtype=float32),\n",
       " array([0.08924522], dtype=float32),\n",
       " array([0.05058287], dtype=float32),\n",
       " array([0.01540324], dtype=float32),\n",
       " array([-0.01320933], dtype=float32),\n",
       " array([-0.03519822], dtype=float32),\n",
       " array([-0.05531063], dtype=float32),\n",
       " array([-0.06680096], dtype=float32),\n",
       " array([-0.07128879], dtype=float32),\n",
       " array([-0.07472909], dtype=float32),\n",
       " array([-0.0694591], dtype=float32),\n",
       " array([-0.05750888], dtype=float32),\n",
       " array([-0.04392392], dtype=float32),\n",
       " array([-0.02494059], dtype=float32),\n",
       " array([0.00281478], dtype=float32),\n",
       " array([0.02906984], dtype=float32),\n",
       " array([0.06002729], dtype=float32),\n",
       " array([0.09935644], dtype=float32),\n",
       " array([0.13541986], dtype=float32),\n",
       " array([0.1743658], dtype=float32),\n",
       " array([0.22056793], dtype=float32),\n",
       " array([0.26440316], dtype=float32),\n",
       " array([0.3061504], dtype=float32),\n",
       " array([0.35745817], dtype=float32),\n",
       " array([0.40455747], dtype=float32)]"
      ]
     },
     "execution_count": 61,
     "metadata": {},
     "output_type": "execute_result"
    }
   ],
   "source": [
    "test_predictions"
   ]
  },
  {
   "cell_type": "code",
   "execution_count": 62,
   "metadata": {},
   "outputs": [],
   "source": [
    "true_predictions =scaler.inverse_transform(test_predictions)"
   ]
  },
  {
   "cell_type": "code",
   "execution_count": 63,
   "metadata": {},
   "outputs": [
    {
     "name": "stderr",
     "output_type": "stream",
     "text": [
      "/root/anaconda3/lib/python3.7/site-packages/ipykernel_launcher.py:1: SettingWithCopyWarning: \n",
      "A value is trying to be set on a copy of a slice from a DataFrame.\n",
      "Try using .loc[row_indexer,col_indexer] = value instead\n",
      "\n",
      "See the caveats in the documentation: http://pandas.pydata.org/pandas-docs/stable/user_guide/indexing.html#returning-a-view-versus-a-copy\n",
      "  \"\"\"Entry point for launching an IPython kernel.\n"
     ]
    }
   ],
   "source": [
    "test['predictions']=true_predictions"
   ]
  },
  {
   "cell_type": "code",
   "execution_count": 64,
   "metadata": {
    "scrolled": true
   },
   "outputs": [
    {
     "data": {
      "text/html": [
       "<div>\n",
       "<style scoped>\n",
       "    .dataframe tbody tr th:only-of-type {\n",
       "        vertical-align: middle;\n",
       "    }\n",
       "\n",
       "    .dataframe tbody tr th {\n",
       "        vertical-align: top;\n",
       "    }\n",
       "\n",
       "    .dataframe thead th {\n",
       "        text-align: right;\n",
       "    }\n",
       "</style>\n",
       "<table border=\"1\" class=\"dataframe\">\n",
       "  <thead>\n",
       "    <tr style=\"text-align: right;\">\n",
       "      <th></th>\n",
       "      <th>sine</th>\n",
       "      <th>predictions</th>\n",
       "    </tr>\n",
       "  </thead>\n",
       "  <tbody>\n",
       "    <tr>\n",
       "      <td>45.1</td>\n",
       "      <td>0.899097</td>\n",
       "      <td>0.883102</td>\n",
       "    </tr>\n",
       "    <tr>\n",
       "      <td>45.2</td>\n",
       "      <td>0.938307</td>\n",
       "      <td>0.917665</td>\n",
       "    </tr>\n",
       "    <tr>\n",
       "      <td>45.3</td>\n",
       "      <td>0.968142</td>\n",
       "      <td>0.938754</td>\n",
       "    </tr>\n",
       "    <tr>\n",
       "      <td>45.4</td>\n",
       "      <td>0.988304</td>\n",
       "      <td>0.947521</td>\n",
       "    </tr>\n",
       "    <tr>\n",
       "      <td>45.5</td>\n",
       "      <td>0.998591</td>\n",
       "      <td>0.944558</td>\n",
       "    </tr>\n",
       "    <tr>\n",
       "      <td>45.6</td>\n",
       "      <td>0.998900</td>\n",
       "      <td>0.935784</td>\n",
       "    </tr>\n",
       "    <tr>\n",
       "      <td>45.7</td>\n",
       "      <td>0.989229</td>\n",
       "      <td>0.912540</td>\n",
       "    </tr>\n",
       "    <tr>\n",
       "      <td>45.8</td>\n",
       "      <td>0.969673</td>\n",
       "      <td>0.879966</td>\n",
       "    </tr>\n",
       "    <tr>\n",
       "      <td>45.9</td>\n",
       "      <td>0.940429</td>\n",
       "      <td>0.840316</td>\n",
       "    </tr>\n",
       "    <tr>\n",
       "      <td>46.0</td>\n",
       "      <td>0.901788</td>\n",
       "      <td>0.786038</td>\n",
       "    </tr>\n",
       "    <tr>\n",
       "      <td>46.1</td>\n",
       "      <td>0.854137</td>\n",
       "      <td>0.726992</td>\n",
       "    </tr>\n",
       "    <tr>\n",
       "      <td>46.2</td>\n",
       "      <td>0.797952</td>\n",
       "      <td>0.659064</td>\n",
       "    </tr>\n",
       "    <tr>\n",
       "      <td>46.3</td>\n",
       "      <td>0.733794</td>\n",
       "      <td>0.580026</td>\n",
       "    </tr>\n",
       "    <tr>\n",
       "      <td>46.4</td>\n",
       "      <td>0.662304</td>\n",
       "      <td>0.495291</td>\n",
       "    </tr>\n",
       "    <tr>\n",
       "      <td>46.5</td>\n",
       "      <td>0.584197</td>\n",
       "      <td>0.407527</td>\n",
       "    </tr>\n",
       "    <tr>\n",
       "      <td>46.6</td>\n",
       "      <td>0.500252</td>\n",
       "      <td>0.311024</td>\n",
       "    </tr>\n",
       "    <tr>\n",
       "      <td>46.7</td>\n",
       "      <td>0.411309</td>\n",
       "      <td>0.208594</td>\n",
       "    </tr>\n",
       "    <tr>\n",
       "      <td>46.8</td>\n",
       "      <td>0.318257</td>\n",
       "      <td>0.107645</td>\n",
       "    </tr>\n",
       "    <tr>\n",
       "      <td>46.9</td>\n",
       "      <td>0.222024</td>\n",
       "      <td>-0.001934</td>\n",
       "    </tr>\n",
       "    <tr>\n",
       "      <td>47.0</td>\n",
       "      <td>0.123573</td>\n",
       "      <td>-0.111954</td>\n",
       "    </tr>\n",
       "    <tr>\n",
       "      <td>47.1</td>\n",
       "      <td>0.023888</td>\n",
       "      <td>-0.220319</td>\n",
       "    </tr>\n",
       "    <tr>\n",
       "      <td>47.2</td>\n",
       "      <td>-0.076037</td>\n",
       "      <td>-0.330056</td>\n",
       "    </tr>\n",
       "    <tr>\n",
       "      <td>47.3</td>\n",
       "      <td>-0.175201</td>\n",
       "      <td>-0.440354</td>\n",
       "    </tr>\n",
       "    <tr>\n",
       "      <td>47.4</td>\n",
       "      <td>-0.272615</td>\n",
       "      <td>-0.542783</td>\n",
       "    </tr>\n",
       "    <tr>\n",
       "      <td>47.5</td>\n",
       "      <td>-0.367305</td>\n",
       "      <td>-0.641257</td>\n",
       "    </tr>\n",
       "    <tr>\n",
       "      <td>47.6</td>\n",
       "      <td>-0.458325</td>\n",
       "      <td>-0.738788</td>\n",
       "    </tr>\n",
       "    <tr>\n",
       "      <td>47.7</td>\n",
       "      <td>-0.544766</td>\n",
       "      <td>-0.821501</td>\n",
       "    </tr>\n",
       "    <tr>\n",
       "      <td>47.8</td>\n",
       "      <td>-0.625764</td>\n",
       "      <td>-0.898825</td>\n",
       "    </tr>\n",
       "    <tr>\n",
       "      <td>47.9</td>\n",
       "      <td>-0.700509</td>\n",
       "      <td>-0.969184</td>\n",
       "    </tr>\n",
       "    <tr>\n",
       "      <td>48.0</td>\n",
       "      <td>-0.768255</td>\n",
       "      <td>-1.026409</td>\n",
       "    </tr>\n",
       "    <tr>\n",
       "      <td>48.1</td>\n",
       "      <td>-0.828324</td>\n",
       "      <td>-1.070386</td>\n",
       "    </tr>\n",
       "    <tr>\n",
       "      <td>48.2</td>\n",
       "      <td>-0.880118</td>\n",
       "      <td>-1.110611</td>\n",
       "    </tr>\n",
       "    <tr>\n",
       "      <td>48.3</td>\n",
       "      <td>-0.923117</td>\n",
       "      <td>-1.133591</td>\n",
       "    </tr>\n",
       "    <tr>\n",
       "      <td>48.4</td>\n",
       "      <td>-0.956893</td>\n",
       "      <td>-1.142567</td>\n",
       "    </tr>\n",
       "    <tr>\n",
       "      <td>48.5</td>\n",
       "      <td>-0.981108</td>\n",
       "      <td>-1.149447</td>\n",
       "    </tr>\n",
       "    <tr>\n",
       "      <td>48.6</td>\n",
       "      <td>-0.995521</td>\n",
       "      <td>-1.138907</td>\n",
       "    </tr>\n",
       "    <tr>\n",
       "      <td>48.7</td>\n",
       "      <td>-0.999986</td>\n",
       "      <td>-1.115007</td>\n",
       "    </tr>\n",
       "    <tr>\n",
       "      <td>48.8</td>\n",
       "      <td>-0.994460</td>\n",
       "      <td>-1.087837</td>\n",
       "    </tr>\n",
       "    <tr>\n",
       "      <td>48.9</td>\n",
       "      <td>-0.978997</td>\n",
       "      <td>-1.049871</td>\n",
       "    </tr>\n",
       "    <tr>\n",
       "      <td>49.0</td>\n",
       "      <td>-0.953753</td>\n",
       "      <td>-0.994361</td>\n",
       "    </tr>\n",
       "    <tr>\n",
       "      <td>49.1</td>\n",
       "      <td>-0.918979</td>\n",
       "      <td>-0.941851</td>\n",
       "    </tr>\n",
       "    <tr>\n",
       "      <td>49.2</td>\n",
       "      <td>-0.875023</td>\n",
       "      <td>-0.879937</td>\n",
       "    </tr>\n",
       "    <tr>\n",
       "      <td>49.3</td>\n",
       "      <td>-0.822324</td>\n",
       "      <td>-0.801279</td>\n",
       "    </tr>\n",
       "    <tr>\n",
       "      <td>49.4</td>\n",
       "      <td>-0.761408</td>\n",
       "      <td>-0.729153</td>\n",
       "    </tr>\n",
       "    <tr>\n",
       "      <td>49.5</td>\n",
       "      <td>-0.692885</td>\n",
       "      <td>-0.651261</td>\n",
       "    </tr>\n",
       "    <tr>\n",
       "      <td>49.6</td>\n",
       "      <td>-0.617439</td>\n",
       "      <td>-0.558858</td>\n",
       "    </tr>\n",
       "    <tr>\n",
       "      <td>49.7</td>\n",
       "      <td>-0.535823</td>\n",
       "      <td>-0.471188</td>\n",
       "    </tr>\n",
       "    <tr>\n",
       "      <td>49.8</td>\n",
       "      <td>-0.448854</td>\n",
       "      <td>-0.387694</td>\n",
       "    </tr>\n",
       "    <tr>\n",
       "      <td>49.9</td>\n",
       "      <td>-0.357400</td>\n",
       "      <td>-0.285080</td>\n",
       "    </tr>\n",
       "    <tr>\n",
       "      <td>50.0</td>\n",
       "      <td>-0.262375</td>\n",
       "      <td>-0.190882</td>\n",
       "    </tr>\n",
       "  </tbody>\n",
       "</table>\n",
       "</div>"
      ],
      "text/plain": [
       "          sine  predictions\n",
       "45.1  0.899097     0.883102\n",
       "45.2  0.938307     0.917665\n",
       "45.3  0.968142     0.938754\n",
       "45.4  0.988304     0.947521\n",
       "45.5  0.998591     0.944558\n",
       "45.6  0.998900     0.935784\n",
       "45.7  0.989229     0.912540\n",
       "45.8  0.969673     0.879966\n",
       "45.9  0.940429     0.840316\n",
       "46.0  0.901788     0.786038\n",
       "46.1  0.854137     0.726992\n",
       "46.2  0.797952     0.659064\n",
       "46.3  0.733794     0.580026\n",
       "46.4  0.662304     0.495291\n",
       "46.5  0.584197     0.407527\n",
       "46.6  0.500252     0.311024\n",
       "46.7  0.411309     0.208594\n",
       "46.8  0.318257     0.107645\n",
       "46.9  0.222024    -0.001934\n",
       "47.0  0.123573    -0.111954\n",
       "47.1  0.023888    -0.220319\n",
       "47.2 -0.076037    -0.330056\n",
       "47.3 -0.175201    -0.440354\n",
       "47.4 -0.272615    -0.542783\n",
       "47.5 -0.367305    -0.641257\n",
       "47.6 -0.458325    -0.738788\n",
       "47.7 -0.544766    -0.821501\n",
       "47.8 -0.625764    -0.898825\n",
       "47.9 -0.700509    -0.969184\n",
       "48.0 -0.768255    -1.026409\n",
       "48.1 -0.828324    -1.070386\n",
       "48.2 -0.880118    -1.110611\n",
       "48.3 -0.923117    -1.133591\n",
       "48.4 -0.956893    -1.142567\n",
       "48.5 -0.981108    -1.149447\n",
       "48.6 -0.995521    -1.138907\n",
       "48.7 -0.999986    -1.115007\n",
       "48.8 -0.994460    -1.087837\n",
       "48.9 -0.978997    -1.049871\n",
       "49.0 -0.953753    -0.994361\n",
       "49.1 -0.918979    -0.941851\n",
       "49.2 -0.875023    -0.879937\n",
       "49.3 -0.822324    -0.801279\n",
       "49.4 -0.761408    -0.729153\n",
       "49.5 -0.692885    -0.651261\n",
       "49.6 -0.617439    -0.558858\n",
       "49.7 -0.535823    -0.471188\n",
       "49.8 -0.448854    -0.387694\n",
       "49.9 -0.357400    -0.285080\n",
       "50.0 -0.262375    -0.190882"
      ]
     },
     "execution_count": 64,
     "metadata": {},
     "output_type": "execute_result"
    }
   ],
   "source": [
    "test"
   ]
  },
  {
   "cell_type": "code",
   "execution_count": 65,
   "metadata": {},
   "outputs": [
    {
     "data": {
      "text/plain": [
       "<matplotlib.axes._subplots.AxesSubplot at 0x7f99d94672d0>"
      ]
     },
     "execution_count": 65,
     "metadata": {},
     "output_type": "execute_result"
    },
    {
     "data": {
      "image/png": "[encoded data removed]",
      "text/plain": [
       "<Figure size 864x576 with 1 Axes>"
      ]
     },
     "metadata": {
      "needs_background": "light"
     },
     "output_type": "display_data"
    }
   ],
   "source": [
    "test.plot(figsize=(12,8))"
   ]
  },
  {
   "cell_type": "markdown",
   "metadata": {},
   "source": [
    "### lstm"
   ]
  },
  {
   "cell_type": "code",
   "execution_count": 66,
   "metadata": {},
   "outputs": [],
   "source": [
    "from tensorflow.keras.callbacks import EarlyStopping"
   ]
  },
  {
   "cell_type": "code",
   "execution_count": 67,
   "metadata": {},
   "outputs": [],
   "source": [
    "early_stop =EarlyStopping(monitor='val_loss',patience=2)"
   ]
  },
  {
   "cell_type": "code",
   "execution_count": 69,
   "metadata": {},
   "outputs": [],
   "source": [
    "length=49 # redefining to be less than the length of the test set to prevent overflow error\n",
    "\n",
    "generator =TimeseriesGenerator(scaled_train,scaled_train,length=length,batch_size=1)\n",
    "validation_generator = TimeseriesGenerator(scaled_test,scaled_test,length=length,batch_size=1)"
   ]
  },
  {
   "cell_type": "code",
   "execution_count": 70,
   "metadata": {},
   "outputs": [],
   "source": [
    "model = Sequential()\n",
    "model.add(LSTM(50,input_shape=(length,n_features)))\n",
    "model.add(Dense(1))\n",
    "model.compile(optimizer='adam',loss='mse')"
   ]
  },
  {
   "cell_type": "code",
   "execution_count": 71,
   "metadata": {},
   "outputs": [
    {
     "name": "stdout",
     "output_type": "stream",
     "text": [
      "Epoch 1/20\n",
      "402/402 [==============================] - 85s 211ms/step - loss: 0.0095 - val_loss: 4.5784e-06\n",
      "Epoch 2/20\n",
      "402/402 [==============================] - 84s 210ms/step - loss: 3.8589e-04 - val_loss: 1.5107e-05\n",
      "Epoch 3/20\n",
      "402/402 [==============================] - 92s 230ms/step - loss: 4.0219e-04 - val_loss: 7.2591e-05\n"
     ]
    },
    {
     "data": {
      "text/plain": [
       "<tensorflow.python.keras.callbacks.History at 0x7f99d8d98fd0>"
      ]
     },
     "execution_count": 71,
     "metadata": {},
     "output_type": "execute_result"
    }
   ],
   "source": [
    "model.fit_generator(generator,epochs=20,validation_data=validation_generator,\n",
    "                   callbacks=[early_stop])"
   ]
  },
  {
   "cell_type": "code",
   "execution_count": 72,
   "metadata": {},
   "outputs": [],
   "source": [
    "test_predictions =[]\n",
    "first_eval_batch = scaled_train[-length:]\n",
    "current_batch = first_eval_batch.reshape(1,length,n_features)\n",
    "\n",
    "for i in range (len(test)):\n",
    "    current_pred = model.predict(current_batch)[0]\n",
    "    test_predictions.append(current_pred)\n",
    "    current_batch = np.append(current_batch[:,1:,:],[[current_pred]],axis=1)"
   ]
  },
  {
   "cell_type": "code",
   "execution_count": 73,
   "metadata": {},
   "outputs": [
    {
     "name": "stderr",
     "output_type": "stream",
     "text": [
      "/root/anaconda3/lib/python3.7/site-packages/ipykernel_launcher.py:2: SettingWithCopyWarning: \n",
      "A value is trying to be set on a copy of a slice from a DataFrame.\n",
      "Try using .loc[row_indexer,col_indexer] = value instead\n",
      "\n",
      "See the caveats in the documentation: http://pandas.pydata.org/pandas-docs/stable/user_guide/indexing.html#returning-a-view-versus-a-copy\n",
      "  \n"
     ]
    },
    {
     "data": {
      "text/plain": [
       "<matplotlib.axes._subplots.AxesSubplot at 0x7f99e269dc90>"
      ]
     },
     "execution_count": 73,
     "metadata": {},
     "output_type": "execute_result"
    },
    {
     "data": {
      "image/png": "[encoded data removed]",
      "text/plain": [
       "<Figure size 864x576 with 1 Axes>"
      ]
     },
     "metadata": {
      "needs_background": "light"
     },
     "output_type": "display_data"
    }
   ],
   "source": [
    "true_predictions =scaler.inverse_transform(test_predictions)\n",
    "test['LSTM_predictions']=true_predictions\n",
    "test.plot(figsize=(12,8))\n"
   ]
  },
  {
   "cell_type": "markdown",
   "metadata": {},
   "source": [
    "### forecasting into future"
   ]
  },
  {
   "cell_type": "code",
   "execution_count": 74,
   "metadata": {},
   "outputs": [
    {
     "data": {
      "text/plain": [
       "<matplotlib.axes._subplots.AxesSubplot at 0x7f99e2612e50>"
      ]
     },
     "execution_count": 74,
     "metadata": {},
     "output_type": "execute_result"
    },
    {
     "data": {
      "image/png": "[encoded data removed]",
      "text/plain": [
       "<Figure size 432x288 with 1 Axes>"
      ]
     },
     "metadata": {
      "needs_background": "light"
     },
     "output_type": "display_data"
    }
   ],
   "source": [
    "df.plot()"
   ]
  },
  {
   "cell_type": "code",
   "execution_count": 76,
   "metadata": {},
   "outputs": [],
   "source": [
    "# now modelling on full data to forecast into the future\n",
    "full_scaler =MinMaxScaler()\n",
    "scaled_full_data =full_scaler.fit_transform(df)"
   ]
  },
  {
   "cell_type": "code",
   "execution_count": 77,
   "metadata": {},
   "outputs": [],
   "source": [
    "generator =TimeseriesGenerator(scaled_full_data,scaled_full_data,length=length,batch_size=1)"
   ]
  },
  {
   "cell_type": "code",
   "execution_count": 78,
   "metadata": {},
   "outputs": [],
   "source": [
    "model = Sequential()\n",
    "model.add(LSTM(50,input_shape=(length,n_features)))\n",
    "model.add(Dense(1))\n",
    "model.compile(optimizer='adam',loss='mse')"
   ]
  },
  {
   "cell_type": "code",
   "execution_count": 79,
   "metadata": {},
   "outputs": [
    {
     "name": "stdout",
     "output_type": "stream",
     "text": [
      "Epoch 1/6\n",
      "452/452 [==============================] - 98s 216ms/step - loss: 0.0123\n",
      "Epoch 2/6\n",
      "452/452 [==============================] - 86s 190ms/step - loss: 1.6563e-04\n",
      "Epoch 3/6\n",
      "452/452 [==============================] - 87s 192ms/step - loss: 1.5777e-04\n",
      "Epoch 4/6\n",
      "452/452 [==============================] - 88s 194ms/step - loss: 8.5385e-04\n",
      "Epoch 5/6\n",
      "452/452 [==============================] - 80s 176ms/step - loss: 4.5358e-05\n",
      "Epoch 6/6\n",
      "452/452 [==============================] - 78s 172ms/step - loss: 7.1055e-05\n"
     ]
    },
    {
     "data": {
      "text/plain": [
       "<tensorflow.python.keras.callbacks.History at 0x7f99e22d4750>"
      ]
     },
     "execution_count": 79,
     "metadata": {},
     "output_type": "execute_result"
    }
   ],
   "source": [
    "model.fit_generator(generator,epochs=6)"
   ]
  },
  {
   "cell_type": "code",
   "execution_count": 80,
   "metadata": {},
   "outputs": [],
   "source": [
    "forecast =[]\n",
    "first_eval_batch = scaled_train[-length:]\n",
    "current_batch = first_eval_batch.reshape(1,length,n_features)\n",
    "\n",
    "for i in range (25): # forecast 25 timesteps into the future\n",
    "    current_pred = model.predict(current_batch)[0]\n",
    "    forecast.append(current_pred)\n",
    "    current_batch = np.append(current_batch[:,1:,:],[[current_pred]],axis=1)"
   ]
  },
  {
   "cell_type": "code",
   "execution_count": 81,
   "metadata": {},
   "outputs": [],
   "source": [
    "forecast=scaler.inverse_transform(forecast)"
   ]
  },
  {
   "cell_type": "code",
   "execution_count": 82,
   "metadata": {
    "scrolled": true
   },
   "outputs": [
    {
     "data": {
      "text/html": [
       "<div>\n",
       "<style scoped>\n",
       "    .dataframe tbody tr th:only-of-type {\n",
       "        vertical-align: middle;\n",
       "    }\n",
       "\n",
       "    .dataframe tbody tr th {\n",
       "        vertical-align: top;\n",
       "    }\n",
       "\n",
       "    .dataframe thead th {\n",
       "        text-align: right;\n",
       "    }\n",
       "</style>\n",
       "<table border=\"1\" class=\"dataframe\">\n",
       "  <thead>\n",
       "    <tr style=\"text-align: right;\">\n",
       "      <th></th>\n",
       "      <th>sine</th>\n",
       "    </tr>\n",
       "  </thead>\n",
       "  <tbody>\n",
       "    <tr>\n",
       "      <td>0.0</td>\n",
       "      <td>0.000000</td>\n",
       "    </tr>\n",
       "    <tr>\n",
       "      <td>0.1</td>\n",
       "      <td>0.099833</td>\n",
       "    </tr>\n",
       "    <tr>\n",
       "      <td>0.2</td>\n",
       "      <td>0.198669</td>\n",
       "    </tr>\n",
       "    <tr>\n",
       "      <td>0.3</td>\n",
       "      <td>0.295520</td>\n",
       "    </tr>\n",
       "    <tr>\n",
       "      <td>0.4</td>\n",
       "      <td>0.389418</td>\n",
       "    </tr>\n",
       "    <tr>\n",
       "      <td>...</td>\n",
       "      <td>...</td>\n",
       "    </tr>\n",
       "    <tr>\n",
       "      <td>49.6</td>\n",
       "      <td>-0.617439</td>\n",
       "    </tr>\n",
       "    <tr>\n",
       "      <td>49.7</td>\n",
       "      <td>-0.535823</td>\n",
       "    </tr>\n",
       "    <tr>\n",
       "      <td>49.8</td>\n",
       "      <td>-0.448854</td>\n",
       "    </tr>\n",
       "    <tr>\n",
       "      <td>49.9</td>\n",
       "      <td>-0.357400</td>\n",
       "    </tr>\n",
       "    <tr>\n",
       "      <td>50.0</td>\n",
       "      <td>-0.262375</td>\n",
       "    </tr>\n",
       "  </tbody>\n",
       "</table>\n",
       "<p>501 rows × 1 columns</p>\n",
       "</div>"
      ],
      "text/plain": [
       "          sine\n",
       "0.0   0.000000\n",
       "0.1   0.099833\n",
       "0.2   0.198669\n",
       "0.3   0.295520\n",
       "0.4   0.389418\n",
       "...        ...\n",
       "49.6 -0.617439\n",
       "49.7 -0.535823\n",
       "49.8 -0.448854\n",
       "49.9 -0.357400\n",
       "50.0 -0.262375\n",
       "\n",
       "[501 rows x 1 columns]"
      ]
     },
     "execution_count": 82,
     "metadata": {},
     "output_type": "execute_result"
    }
   ],
   "source": [
    "df"
   ]
  },
  {
   "cell_type": "code",
   "execution_count": 83,
   "metadata": {},
   "outputs": [],
   "source": [
    "forecast_index = np.arange(50.1,52.6,step=0.1)"
   ]
  },
  {
   "cell_type": "code",
   "execution_count": 84,
   "metadata": {},
   "outputs": [
    {
     "data": {
      "text/plain": [
       "(25, 25)"
      ]
     },
     "execution_count": 84,
     "metadata": {},
     "output_type": "execute_result"
    }
   ],
   "source": [
    "len(forecast_index),len(forecast)"
   ]
  },
  {
   "cell_type": "code",
   "execution_count": 87,
   "metadata": {},
   "outputs": [
    {
     "data": {
      "text/plain": [
       "[<matplotlib.lines.Line2D at 0x7f99d78a88d0>]"
      ]
     },
     "execution_count": 87,
     "metadata": {},
     "output_type": "execute_result"
    },
    {
     "data": {
      "image/png": "[encoded data removed]",
      "text/plain": [
       "<Figure size 432x288 with 1 Axes>"
      ]
     },
     "metadata": {
      "needs_background": "light"
     },
     "output_type": "display_data"
    }
   ],
   "source": [
    "plt.plot(df.index,df['sine']) # gap in graph is just due to the series being seperate..\n",
    "plt.plot(forecast_index,forecast)"
   ]
  },
  {
   "cell_type": "code",
   "execution_count": null,
   "metadata": {},
   "outputs": [],
   "source": []
  }
 ],
 "metadata": {
  "kernelspec": {
   "display_name": "Python 3",
   "language": "python",
   "name": "python3"
  },
  "language_info": {
   "codemirror_mode": {
    "name": "ipython",
    "version": 3
   },
   "file_extension": ".py",
   "mimetype": "text/x-python",
   "name": "python",
   "nbconvert_exporter": "python",
   "pygments_lexer": "ipython3",
   "version": "3.7.4"
  }
 },
 "nbformat": 4,
 "nbformat_minor": 2
}
