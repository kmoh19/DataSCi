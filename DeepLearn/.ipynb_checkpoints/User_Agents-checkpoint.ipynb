{
 "cells": [
  {
   "cell_type": "code",
   "execution_count": null,
   "metadata": {
    "scrolled": true
   },
   "outputs": [],
   "source": [
    "!pip install pandas numpy matplotlib"
   ]
  },
  {
   "cell_type": "code",
   "execution_count": null,
   "metadata": {},
   "outputs": [],
   "source": [
    "!pip install -U scikit-learn\n",
    "!pip install --upgrade tensorflow"
   ]
  },
  {
   "cell_type": "code",
   "execution_count": 135,
   "metadata": {
    "scrolled": true
   },
   "outputs": [
    {
     "name": "stdout",
     "output_type": "stream",
     "text": [
      "Collecting seaborn\n",
      "  Downloading seaborn-0.10.0-py3-none-any.whl (215 kB)\n",
      "\u001b[K     |████████████████████████████████| 215 kB 1.5 MB/s eta 0:00:01\n",
      "\u001b[?25hRequirement already satisfied: numpy>=1.13.3 in /root/anaconda3/envs/barclays3/lib/python3.7/site-packages (from seaborn) (1.18.1)\n",
      "Requirement already satisfied: scipy>=1.0.1 in /root/anaconda3/envs/barclays3/lib/python3.7/site-packages (from seaborn) (1.4.1)\n",
      "Requirement already satisfied: pandas>=0.22.0 in /root/anaconda3/envs/barclays3/lib/python3.7/site-packages (from seaborn) (1.0.1)\n",
      "Requirement already satisfied: matplotlib>=2.1.2 in /root/anaconda3/envs/barclays3/lib/python3.7/site-packages (from seaborn) (3.1.3)\n",
      "Requirement already satisfied: pytz>=2017.2 in /root/anaconda3/envs/barclays3/lib/python3.7/site-packages (from pandas>=0.22.0->seaborn) (2019.3)\n",
      "Requirement already satisfied: python-dateutil>=2.6.1 in /root/anaconda3/envs/barclays3/lib/python3.7/site-packages (from pandas>=0.22.0->seaborn) (2.8.1)\n",
      "Requirement already satisfied: kiwisolver>=1.0.1 in /root/anaconda3/envs/barclays3/lib/python3.7/site-packages (from matplotlib>=2.1.2->seaborn) (1.1.0)\n",
      "Requirement already satisfied: pyparsing!=2.0.4,!=2.1.2,!=2.1.6,>=2.0.1 in /root/anaconda3/envs/barclays3/lib/python3.7/site-packages (from matplotlib>=2.1.2->seaborn) (2.4.6)\n",
      "Requirement already satisfied: cycler>=0.10 in /root/anaconda3/envs/barclays3/lib/python3.7/site-packages (from matplotlib>=2.1.2->seaborn) (0.10.0)\n",
      "Requirement already satisfied: six>=1.5 in /root/anaconda3/envs/barclays3/lib/python3.7/site-packages (from python-dateutil>=2.6.1->pandas>=0.22.0->seaborn) (1.14.0)\n",
      "Requirement already satisfied: setuptools in /root/anaconda3/envs/barclays3/lib/python3.7/site-packages (from kiwisolver>=1.0.1->matplotlib>=2.1.2->seaborn) (45.2.0.post20200210)\n",
      "Installing collected packages: seaborn\n",
      "Successfully installed seaborn-0.10.0\n"
     ]
    }
   ],
   "source": [
    "!pip install seaborn"
   ]
  },
  {
   "cell_type": "code",
   "execution_count": 136,
   "metadata": {},
   "outputs": [],
   "source": [
    "from user_agents import parse\n",
    "import pandas as pd\n",
    "import numpy as np\n",
    "import matplotlib.pyplot as plt\n",
    "import re\n",
    "import seaborn as sns"
   ]
  },
  {
   "cell_type": "code",
   "execution_count": null,
   "metadata": {},
   "outputs": [],
   "source": [
    "f=open('../../../Downloads/benign/BlueCoat_Large.webgateway')"
   ]
  },
  {
   "cell_type": "code",
   "execution_count": null,
   "metadata": {},
   "outputs": [],
   "source": [
    "print(f.readline())"
   ]
  },
  {
   "cell_type": "code",
   "execution_count": null,
   "metadata": {},
   "outputs": [],
   "source": [
    "data =[]\n",
    "for x in f:\n",
    "    data.append(x)"
   ]
  },
  {
   "cell_type": "code",
   "execution_count": null,
   "metadata": {},
   "outputs": [],
   "source": [
    "f.close()"
   ]
  },
  {
   "cell_type": "code",
   "execution_count": null,
   "metadata": {},
   "outputs": [],
   "source": [
    "benign=pd.DataFrame(data)"
   ]
  },
  {
   "cell_type": "code",
   "execution_count": null,
   "metadata": {},
   "outputs": [],
   "source": [
    "benign.columns=['user_agent']"
   ]
  },
  {
   "cell_type": "code",
   "execution_count": 142,
   "metadata": {
    "scrolled": true
   },
   "outputs": [
    {
     "data": {
      "text/html": [
       "<div>\n",
       "<style scoped>\n",
       "    .dataframe tbody tr th:only-of-type {\n",
       "        vertical-align: middle;\n",
       "    }\n",
       "\n",
       "    .dataframe tbody tr th {\n",
       "        vertical-align: top;\n",
       "    }\n",
       "\n",
       "    .dataframe thead th {\n",
       "        text-align: right;\n",
       "    }\n",
       "</style>\n",
       "<table border=\"1\" class=\"dataframe\">\n",
       "  <thead>\n",
       "    <tr style=\"text-align: right;\">\n",
       "      <th></th>\n",
       "      <th>user_agent</th>\n",
       "      <th>timestamp</th>\n",
       "      <th>timestamp_obj</th>\n",
       "      <th>min</th>\n",
       "    </tr>\n",
       "  </thead>\n",
       "  <tbody>\n",
       "    <tr>\n",
       "      <th>0</th>\n",
       "      <td>[02/Aug/2011:22:00:00 -0700] \"user_6\" 0.0.0.0 ...</td>\n",
       "      <td>02/Aug/2011:22:00:00 -0700</td>\n",
       "      <td>2011-08-02 22:00:00</td>\n",
       "      <td>(22, 0)</td>\n",
       "    </tr>\n",
       "    <tr>\n",
       "      <th>1</th>\n",
       "      <td>[02/Aug/2011:22:00:00 -0700] \"user_7\" 0.0.0.0 ...</td>\n",
       "      <td>02/Aug/2011:22:00:00 -0700</td>\n",
       "      <td>2011-08-02 22:00:00</td>\n",
       "      <td>(22, 0)</td>\n",
       "    </tr>\n",
       "    <tr>\n",
       "      <th>2</th>\n",
       "      <td>[02/Aug/2011:22:00:00 -0700] \"user_8\" 0.0.0.0 ...</td>\n",
       "      <td>02/Aug/2011:22:00:00 -0700</td>\n",
       "      <td>2011-08-02 22:00:00</td>\n",
       "      <td>(22, 0)</td>\n",
       "    </tr>\n",
       "    <tr>\n",
       "      <th>3</th>\n",
       "      <td>[02/Aug/2011:22:00:00 -0700] \"user_9\" 0.0.0.0 ...</td>\n",
       "      <td>02/Aug/2011:22:00:00 -0700</td>\n",
       "      <td>2011-08-02 22:00:00</td>\n",
       "      <td>(22, 0)</td>\n",
       "    </tr>\n",
       "    <tr>\n",
       "      <th>4</th>\n",
       "      <td>[02/Aug/2011:22:00:00 -0700] \"user_10\" 0.0.0.0...</td>\n",
       "      <td>02/Aug/2011:22:00:00 -0700</td>\n",
       "      <td>2011-08-02 22:00:00</td>\n",
       "      <td>(22, 0)</td>\n",
       "    </tr>\n",
       "  </tbody>\n",
       "</table>\n",
       "</div>"
      ],
      "text/plain": [
       "                                          user_agent  \\\n",
       "0  [02/Aug/2011:22:00:00 -0700] \"user_6\" 0.0.0.0 ...   \n",
       "1  [02/Aug/2011:22:00:00 -0700] \"user_7\" 0.0.0.0 ...   \n",
       "2  [02/Aug/2011:22:00:00 -0700] \"user_8\" 0.0.0.0 ...   \n",
       "3  [02/Aug/2011:22:00:00 -0700] \"user_9\" 0.0.0.0 ...   \n",
       "4  [02/Aug/2011:22:00:00 -0700] \"user_10\" 0.0.0.0...   \n",
       "\n",
       "                    timestamp       timestamp_obj      min  \n",
       "0  02/Aug/2011:22:00:00 -0700 2011-08-02 22:00:00  (22, 0)  \n",
       "1  02/Aug/2011:22:00:00 -0700 2011-08-02 22:00:00  (22, 0)  \n",
       "2  02/Aug/2011:22:00:00 -0700 2011-08-02 22:00:00  (22, 0)  \n",
       "3  02/Aug/2011:22:00:00 -0700 2011-08-02 22:00:00  (22, 0)  \n",
       "4  02/Aug/2011:22:00:00 -0700 2011-08-02 22:00:00  (22, 0)  "
      ]
     },
     "execution_count": 142,
     "metadata": {},
     "output_type": "execute_result"
    }
   ],
   "source": [
    "benign.head()"
   ]
  },
  {
   "cell_type": "code",
   "execution_count": 143,
   "metadata": {},
   "outputs": [
    {
     "data": {
      "text/html": [
       "<div>\n",
       "<style scoped>\n",
       "    .dataframe tbody tr th:only-of-type {\n",
       "        vertical-align: middle;\n",
       "    }\n",
       "\n",
       "    .dataframe tbody tr th {\n",
       "        vertical-align: top;\n",
       "    }\n",
       "\n",
       "    .dataframe thead th {\n",
       "        text-align: right;\n",
       "    }\n",
       "</style>\n",
       "<table border=\"1\" class=\"dataframe\">\n",
       "  <thead>\n",
       "    <tr style=\"text-align: right;\">\n",
       "      <th></th>\n",
       "      <th>user_agent</th>\n",
       "      <th>timestamp</th>\n",
       "      <th>timestamp_obj</th>\n",
       "      <th>min</th>\n",
       "    </tr>\n",
       "  </thead>\n",
       "  <tbody>\n",
       "    <tr>\n",
       "      <th>1424280</th>\n",
       "      <td>[02/Aug/2011:23:27:37 -0700] \"user_425\" 0.0.0....</td>\n",
       "      <td>02/Aug/2011:23:27:37 -0700</td>\n",
       "      <td>2011-08-02 23:27:37</td>\n",
       "      <td>(23, 27)</td>\n",
       "    </tr>\n",
       "    <tr>\n",
       "      <th>1424281</th>\n",
       "      <td>[02/Aug/2011:23:27:37 -0700] \"user_426\" 0.0.0....</td>\n",
       "      <td>02/Aug/2011:23:27:37 -0700</td>\n",
       "      <td>2011-08-02 23:27:37</td>\n",
       "      <td>(23, 27)</td>\n",
       "    </tr>\n",
       "    <tr>\n",
       "      <th>1424282</th>\n",
       "      <td>[02/Aug/2011:23:27:37 -0700] \"user_427\" 0.0.0....</td>\n",
       "      <td>02/Aug/2011:23:27:37 -0700</td>\n",
       "      <td>2011-08-02 23:27:37</td>\n",
       "      <td>(23, 27)</td>\n",
       "    </tr>\n",
       "    <tr>\n",
       "      <th>1424283</th>\n",
       "      <td>[02/Aug/2011:23:27:37 -0700] \"user_428\" 0.0.0....</td>\n",
       "      <td>02/Aug/2011:23:27:37 -0700</td>\n",
       "      <td>2011-08-02 23:27:37</td>\n",
       "      <td>(23, 27)</td>\n",
       "    </tr>\n",
       "    <tr>\n",
       "      <th>1424284</th>\n",
       "      <td>[02/Aug/2011:23:27:37 -0700] \"user_429\" 0.0.0....</td>\n",
       "      <td>02/Aug/2011:23:27:37 -0700</td>\n",
       "      <td>2011-08-02 23:27:37</td>\n",
       "      <td>(23, 27)</td>\n",
       "    </tr>\n",
       "  </tbody>\n",
       "</table>\n",
       "</div>"
      ],
      "text/plain": [
       "                                                user_agent  \\\n",
       "1424280  [02/Aug/2011:23:27:37 -0700] \"user_425\" 0.0.0....   \n",
       "1424281  [02/Aug/2011:23:27:37 -0700] \"user_426\" 0.0.0....   \n",
       "1424282  [02/Aug/2011:23:27:37 -0700] \"user_427\" 0.0.0....   \n",
       "1424283  [02/Aug/2011:23:27:37 -0700] \"user_428\" 0.0.0....   \n",
       "1424284  [02/Aug/2011:23:27:37 -0700] \"user_429\" 0.0.0....   \n",
       "\n",
       "                          timestamp       timestamp_obj       min  \n",
       "1424280  02/Aug/2011:23:27:37 -0700 2011-08-02 23:27:37  (23, 27)  \n",
       "1424281  02/Aug/2011:23:27:37 -0700 2011-08-02 23:27:37  (23, 27)  \n",
       "1424282  02/Aug/2011:23:27:37 -0700 2011-08-02 23:27:37  (23, 27)  \n",
       "1424283  02/Aug/2011:23:27:37 -0700 2011-08-02 23:27:37  (23, 27)  \n",
       "1424284  02/Aug/2011:23:27:37 -0700 2011-08-02 23:27:37  (23, 27)  "
      ]
     },
     "execution_count": 143,
     "metadata": {},
     "output_type": "execute_result"
    }
   ],
   "source": [
    "benign.tail()"
   ]
  },
  {
   "cell_type": "code",
   "execution_count": 144,
   "metadata": {},
   "outputs": [],
   "source": [
    "a=parse(benign['user_agent'][3])"
   ]
  },
  {
   "cell_type": "code",
   "execution_count": 145,
   "metadata": {},
   "outputs": [
    {
     "data": {
      "text/plain": [
       "'PC / Windows 7 / IE 9.0'"
      ]
     },
     "execution_count": 145,
     "metadata": {},
     "output_type": "execute_result"
    }
   ],
   "source": [
    "str(a)"
   ]
  },
  {
   "cell_type": "code",
   "execution_count": 146,
   "metadata": {},
   "outputs": [
    {
     "data": {
      "text/plain": [
       "'IE'"
      ]
     },
     "execution_count": 146,
     "metadata": {},
     "output_type": "execute_result"
    }
   ],
   "source": [
    "a.browser.family"
   ]
  },
  {
   "cell_type": "code",
   "execution_count": 147,
   "metadata": {},
   "outputs": [
    {
     "data": {
      "text/plain": [
       "'[02/Aug/2011:22:00:00 -0700] \"user_9\" 0.0.0.0 0.0.0.0  9080 302 TCP_NC_MISS \"GET http://gamezer.com/billiards//imp HTTP/1.0\" \"unknown\"  \"low risk\" \"-\" 511 375 \"Mozilla/5.0 (compatible; MSIE 9.0; Windows NT 6.1; Trident/5.0)\" \"ad.yieldmanager.com\" \"-\" \"0\" \"\" \"-\"\\n'"
      ]
     },
     "execution_count": 147,
     "metadata": {},
     "output_type": "execute_result"
    }
   ],
   "source": [
    "a.ua_string"
   ]
  },
  {
   "cell_type": "code",
   "execution_count": 107,
   "metadata": {},
   "outputs": [],
   "source": [
    "benign['timestamp_obj']=benign['timestamp'].apply(lambda x:pd.to_datetime(x,format='%d/%b/%Y:%H:%M:%S -0700',errors='coerce'))"
   ]
  },
  {
   "cell_type": "code",
   "execution_count": 106,
   "metadata": {},
   "outputs": [],
   "source": [
    "benign['timestamp']=benign['user_agent'].apply(lambda x: re.findall(r'^\\[(.+?)\\]',x)[0])"
   ]
  },
  {
   "cell_type": "code",
   "execution_count": 108,
   "metadata": {},
   "outputs": [
    {
     "data": {
      "text/plain": [
       "user_agent       0\n",
       "timestamp        0\n",
       "timestamp_obj    0\n",
       "dtype: int64"
      ]
     },
     "execution_count": 108,
     "metadata": {},
     "output_type": "execute_result"
    }
   ],
   "source": [
    "benign.isnull().sum()"
   ]
  },
  {
   "cell_type": "code",
   "execution_count": 110,
   "metadata": {},
   "outputs": [
    {
     "data": {
      "text/plain": [
       "(Timestamp('2011-08-02 23:27:37'), Timestamp('2011-08-02 22:00:00'))"
      ]
     },
     "execution_count": 110,
     "metadata": {},
     "output_type": "execute_result"
    }
   ],
   "source": [
    "benign['timestamp_obj'].max(),benign['timestamp_obj'].min()"
   ]
  },
  {
   "cell_type": "code",
   "execution_count": 126,
   "metadata": {},
   "outputs": [],
   "source": [
    "benign['min']=benign['timestamp_obj'].apply(lambda x:(x.hour,x.minute))"
   ]
  },
  {
   "cell_type": "code",
   "execution_count": 128,
   "metadata": {},
   "outputs": [
    {
     "data": {
      "text/html": [
       "<div>\n",
       "<style scoped>\n",
       "    .dataframe tbody tr th:only-of-type {\n",
       "        vertical-align: middle;\n",
       "    }\n",
       "\n",
       "    .dataframe tbody tr th {\n",
       "        vertical-align: top;\n",
       "    }\n",
       "\n",
       "    .dataframe thead th {\n",
       "        text-align: right;\n",
       "    }\n",
       "</style>\n",
       "<table border=\"1\" class=\"dataframe\">\n",
       "  <thead>\n",
       "    <tr style=\"text-align: right;\">\n",
       "      <th></th>\n",
       "      <th>user_agent</th>\n",
       "      <th>timestamp</th>\n",
       "      <th>timestamp_obj</th>\n",
       "      <th>min</th>\n",
       "    </tr>\n",
       "  </thead>\n",
       "  <tbody>\n",
       "    <tr>\n",
       "      <th>0</th>\n",
       "      <td>[02/Aug/2011:22:00:00 -0700] \"user_6\" 0.0.0.0 ...</td>\n",
       "      <td>02/Aug/2011:22:00:00 -0700</td>\n",
       "      <td>2011-08-02 22:00:00</td>\n",
       "      <td>(22, 0)</td>\n",
       "    </tr>\n",
       "    <tr>\n",
       "      <th>1</th>\n",
       "      <td>[02/Aug/2011:22:00:00 -0700] \"user_7\" 0.0.0.0 ...</td>\n",
       "      <td>02/Aug/2011:22:00:00 -0700</td>\n",
       "      <td>2011-08-02 22:00:00</td>\n",
       "      <td>(22, 0)</td>\n",
       "    </tr>\n",
       "    <tr>\n",
       "      <th>2</th>\n",
       "      <td>[02/Aug/2011:22:00:00 -0700] \"user_8\" 0.0.0.0 ...</td>\n",
       "      <td>02/Aug/2011:22:00:00 -0700</td>\n",
       "      <td>2011-08-02 22:00:00</td>\n",
       "      <td>(22, 0)</td>\n",
       "    </tr>\n",
       "    <tr>\n",
       "      <th>3</th>\n",
       "      <td>[02/Aug/2011:22:00:00 -0700] \"user_9\" 0.0.0.0 ...</td>\n",
       "      <td>02/Aug/2011:22:00:00 -0700</td>\n",
       "      <td>2011-08-02 22:00:00</td>\n",
       "      <td>(22, 0)</td>\n",
       "    </tr>\n",
       "    <tr>\n",
       "      <th>4</th>\n",
       "      <td>[02/Aug/2011:22:00:00 -0700] \"user_10\" 0.0.0.0...</td>\n",
       "      <td>02/Aug/2011:22:00:00 -0700</td>\n",
       "      <td>2011-08-02 22:00:00</td>\n",
       "      <td>(22, 0)</td>\n",
       "    </tr>\n",
       "  </tbody>\n",
       "</table>\n",
       "</div>"
      ],
      "text/plain": [
       "                                          user_agent  \\\n",
       "0  [02/Aug/2011:22:00:00 -0700] \"user_6\" 0.0.0.0 ...   \n",
       "1  [02/Aug/2011:22:00:00 -0700] \"user_7\" 0.0.0.0 ...   \n",
       "2  [02/Aug/2011:22:00:00 -0700] \"user_8\" 0.0.0.0 ...   \n",
       "3  [02/Aug/2011:22:00:00 -0700] \"user_9\" 0.0.0.0 ...   \n",
       "4  [02/Aug/2011:22:00:00 -0700] \"user_10\" 0.0.0.0...   \n",
       "\n",
       "                    timestamp       timestamp_obj      min  \n",
       "0  02/Aug/2011:22:00:00 -0700 2011-08-02 22:00:00  (22, 0)  \n",
       "1  02/Aug/2011:22:00:00 -0700 2011-08-02 22:00:00  (22, 0)  \n",
       "2  02/Aug/2011:22:00:00 -0700 2011-08-02 22:00:00  (22, 0)  \n",
       "3  02/Aug/2011:22:00:00 -0700 2011-08-02 22:00:00  (22, 0)  \n",
       "4  02/Aug/2011:22:00:00 -0700 2011-08-02 22:00:00  (22, 0)  "
      ]
     },
     "execution_count": 128,
     "metadata": {},
     "output_type": "execute_result"
    }
   ],
   "source": [
    "benign.head()"
   ]
  },
  {
   "cell_type": "code",
   "execution_count": 152,
   "metadata": {},
   "outputs": [],
   "source": [
    "grouped_benign=benign.groupby('min', group_keys=False)"
   ]
  },
  {
   "cell_type": "code",
   "execution_count": 153,
   "metadata": {},
   "outputs": [
    {
     "data": {
      "text/plain": [
       "<matplotlib.axes._subplots.AxesSubplot at 0x7f3bb8d92ed0>"
      ]
     },
     "execution_count": 153,
     "metadata": {},
     "output_type": "execute_result"
    },
    {
     "data": {
      "image/png": "[encoded data removed]",
      "text/plain": [
       "<Figure size 1440x576 with 1 Axes>"
      ]
     },
     "metadata": {
      "needs_background": "light"
     },
     "output_type": "display_data"
    }
   ],
   "source": [
    "plt.figure(figsize=(20,8))\n",
    "grouped_benign['min'].value_counts().plot(kind='bar')"
   ]
  },
  {
   "cell_type": "code",
   "execution_count": 156,
   "metadata": {},
   "outputs": [],
   "source": [
    "sample=grouped_benign.apply(lambda x: x.sample(frac=0.1)).reset_index()"
   ]
  },
  {
   "cell_type": "code",
   "execution_count": 158,
   "metadata": {},
   "outputs": [
    {
     "data": {
      "text/html": [
       "<div>\n",
       "<style scoped>\n",
       "    .dataframe tbody tr th:only-of-type {\n",
       "        vertical-align: middle;\n",
       "    }\n",
       "\n",
       "    .dataframe tbody tr th {\n",
       "        vertical-align: top;\n",
       "    }\n",
       "\n",
       "    .dataframe thead th {\n",
       "        text-align: right;\n",
       "    }\n",
       "</style>\n",
       "<table border=\"1\" class=\"dataframe\">\n",
       "  <thead>\n",
       "    <tr style=\"text-align: right;\">\n",
       "      <th></th>\n",
       "      <th>index</th>\n",
       "      <th>user_agent</th>\n",
       "      <th>timestamp</th>\n",
       "      <th>timestamp_obj</th>\n",
       "      <th>min</th>\n",
       "    </tr>\n",
       "  </thead>\n",
       "  <tbody>\n",
       "    <tr>\n",
       "      <th>0</th>\n",
       "      <td>5026</td>\n",
       "      <td>[02/Aug/2011:22:00:18 -0700] \"user_32\" 0.0.0.0...</td>\n",
       "      <td>02/Aug/2011:22:00:18 -0700</td>\n",
       "      <td>2011-08-02 22:00:18</td>\n",
       "      <td>(22, 0)</td>\n",
       "    </tr>\n",
       "    <tr>\n",
       "      <th>1</th>\n",
       "      <td>7471</td>\n",
       "      <td>[02/Aug/2011:22:00:25 -0700] \"user_477\" 0.0.0....</td>\n",
       "      <td>02/Aug/2011:22:00:25 -0700</td>\n",
       "      <td>2011-08-02 22:00:25</td>\n",
       "      <td>(22, 0)</td>\n",
       "    </tr>\n",
       "    <tr>\n",
       "      <th>2</th>\n",
       "      <td>17323</td>\n",
       "      <td>[02/Aug/2011:22:00:55 -0700] \"user_329\" 0.0.0....</td>\n",
       "      <td>02/Aug/2011:22:00:55 -0700</td>\n",
       "      <td>2011-08-02 22:00:55</td>\n",
       "      <td>(22, 0)</td>\n",
       "    </tr>\n",
       "    <tr>\n",
       "      <th>3</th>\n",
       "      <td>8249</td>\n",
       "      <td>[02/Aug/2011:22:00:27 -0700] \"user_255\" 0.0.0....</td>\n",
       "      <td>02/Aug/2011:22:00:27 -0700</td>\n",
       "      <td>2011-08-02 22:00:27</td>\n",
       "      <td>(22, 0)</td>\n",
       "    </tr>\n",
       "    <tr>\n",
       "      <th>4</th>\n",
       "      <td>14047</td>\n",
       "      <td>[02/Aug/2011:22:00:45 -0700] \"user_53\" 0.0.0.0...</td>\n",
       "      <td>02/Aug/2011:22:00:45 -0700</td>\n",
       "      <td>2011-08-02 22:00:45</td>\n",
       "      <td>(22, 0)</td>\n",
       "    </tr>\n",
       "  </tbody>\n",
       "</table>\n",
       "</div>"
      ],
      "text/plain": [
       "   index                                         user_agent  \\\n",
       "0   5026  [02/Aug/2011:22:00:18 -0700] \"user_32\" 0.0.0.0...   \n",
       "1   7471  [02/Aug/2011:22:00:25 -0700] \"user_477\" 0.0.0....   \n",
       "2  17323  [02/Aug/2011:22:00:55 -0700] \"user_329\" 0.0.0....   \n",
       "3   8249  [02/Aug/2011:22:00:27 -0700] \"user_255\" 0.0.0....   \n",
       "4  14047  [02/Aug/2011:22:00:45 -0700] \"user_53\" 0.0.0.0...   \n",
       "\n",
       "                    timestamp       timestamp_obj      min  \n",
       "0  02/Aug/2011:22:00:18 -0700 2011-08-02 22:00:18  (22, 0)  \n",
       "1  02/Aug/2011:22:00:25 -0700 2011-08-02 22:00:25  (22, 0)  \n",
       "2  02/Aug/2011:22:00:55 -0700 2011-08-02 22:00:55  (22, 0)  \n",
       "3  02/Aug/2011:22:00:27 -0700 2011-08-02 22:00:27  (22, 0)  \n",
       "4  02/Aug/2011:22:00:45 -0700 2011-08-02 22:00:45  (22, 0)  "
      ]
     },
     "execution_count": 158,
     "metadata": {},
     "output_type": "execute_result"
    }
   ],
   "source": [
    "sample.head()"
   ]
  },
  {
   "cell_type": "code",
   "execution_count": null,
   "metadata": {},
   "outputs": [],
   "source": [
    "sample['browser_family']=sample['user_agent'].apply(lambda x:parse(x).browser.family)"
   ]
  },
  {
   "cell_type": "code",
   "execution_count": null,
   "metadata": {},
   "outputs": [],
   "source": [
    "sample['browser_version']=sample['user_agent'].apply(lambda x:parse(x).browser.version_string)"
   ]
  },
  {
   "cell_type": "code",
   "execution_count": null,
   "metadata": {},
   "outputs": [],
   "source": [
    "sample['os_family']=sample['user_agent'].apply(lambda x:parse(x).os.family)"
   ]
  },
  {
   "cell_type": "code",
   "execution_count": null,
   "metadata": {},
   "outputs": [],
   "source": [
    "sample['os_version']=sample['user_agent'].apply(lambda x:parse(x).os.version_string)"
   ]
  },
  {
   "cell_type": "code",
   "execution_count": null,
   "metadata": {},
   "outputs": [],
   "source": [
    "sample['device_family']=sample['user_agent'].apply(lambda x:parse(x).device.family)"
   ]
  },
  {
   "cell_type": "code",
   "execution_count": null,
   "metadata": {},
   "outputs": [],
   "source": [
    "sample['device_brand']=sample['user_agent'].apply(lambda x:parse(x).device.brand)"
   ]
  },
  {
   "cell_type": "code",
   "execution_count": null,
   "metadata": {},
   "outputs": [],
   "source": [
    "sample['device_model']=sample['user_agent'].apply(lambda x:parse(x).device.model)"
   ]
  },
  {
   "cell_type": "code",
   "execution_count": null,
   "metadata": {},
   "outputs": [],
   "source": [
    "sample['is_mobile']=sample['user_agent'].apply(lambda x:parse(x).is_mobile)"
   ]
  },
  {
   "cell_type": "code",
   "execution_count": null,
   "metadata": {},
   "outputs": [],
   "source": [
    "sample['is_tablet']=sample['user_agent'].apply(lambda x:parse(x).is_tablet)"
   ]
  },
  {
   "cell_type": "code",
   "execution_count": null,
   "metadata": {},
   "outputs": [],
   "source": [
    "sample['is_pc']=sample['user_agent'].apply(lambda x:parse(x).is_pc)"
   ]
  },
  {
   "cell_type": "code",
   "execution_count": null,
   "metadata": {},
   "outputs": [],
   "source": [
    "sample['is_touch_capable']=sample['user_agent'].apply(lambda x:parse(x).is_touch_capable)"
   ]
  },
  {
   "cell_type": "code",
   "execution_count": null,
   "metadata": {},
   "outputs": [],
   "source": [
    "sample['is_bot']=sample['user_agent'].apply(lambda x:parse(x).is_bot)"
   ]
  },
  {
   "cell_type": "code",
   "execution_count": null,
   "metadata": {},
   "outputs": [],
   "source": []
  }
 ],
 "metadata": {
  "kernelspec": {
   "display_name": "Python 3",
   "language": "python",
   "name": "python3"
  },
  "language_info": {
   "codemirror_mode": {
    "name": "ipython",
    "version": 3
   },
   "file_extension": ".py",
   "mimetype": "text/x-python",
   "name": "python",
   "nbconvert_exporter": "python",
   "pygments_lexer": "ipython3",
   "version": "3.7.6"
  }
 },
 "nbformat": 4,
 "nbformat_minor": 2
}
