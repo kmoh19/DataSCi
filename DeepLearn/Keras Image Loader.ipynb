{
 "cells": [
  {
   "cell_type": "code",
   "execution_count": 1,
   "metadata": {},
   "outputs": [],
   "source": [
    "#malaria datasets https://lhncbc.nlm.nih.gov/publication/pub9932\n",
    "import os\n",
    "data_dir='/media/sf_SharedVm/cell_images/cell_images'"
   ]
  },
  {
   "cell_type": "code",
   "execution_count": 2,
   "metadata": {},
   "outputs": [
    {
     "data": {
      "text/plain": [
       "['test', 'train']"
      ]
     },
     "execution_count": 2,
     "metadata": {},
     "output_type": "execute_result"
    }
   ],
   "source": [
    "os.listdir(data_dir)"
   ]
  },
  {
   "cell_type": "code",
   "execution_count": 3,
   "metadata": {},
   "outputs": [],
   "source": [
    "import pandas as pd\n",
    "import numpy as np\n",
    "import seaborn as sns\n",
    "import matplotlib.pyplot as plt\n",
    "from matplotlib.image import imread"
   ]
  },
  {
   "cell_type": "code",
   "execution_count": 10,
   "metadata": {},
   "outputs": [],
   "source": [
    "test_path =data_dir+'/test/'\n",
    "train_path =data_dir+'/train/'"
   ]
  },
  {
   "cell_type": "code",
   "execution_count": 11,
   "metadata": {},
   "outputs": [
    {
     "data": {
      "text/plain": [
       "'/media/sf_SharedVm/cell_images/cell_images/test/'"
      ]
     },
     "execution_count": 11,
     "metadata": {},
     "output_type": "execute_result"
    }
   ],
   "source": [
    "test_path"
   ]
  },
  {
   "cell_type": "code",
   "execution_count": 12,
   "metadata": {},
   "outputs": [
    {
     "data": {
      "text/plain": [
       "['parasitized', 'uninfected']"
      ]
     },
     "execution_count": 12,
     "metadata": {},
     "output_type": "execute_result"
    }
   ],
   "source": [
    "os.listdir(test_path)"
   ]
  },
  {
   "cell_type": "code",
   "execution_count": 13,
   "metadata": {},
   "outputs": [
    {
     "data": {
      "text/plain": [
       "['parasitized', 'uninfected']"
      ]
     },
     "execution_count": 13,
     "metadata": {},
     "output_type": "execute_result"
    }
   ],
   "source": [
    "os.listdir(train_path)"
   ]
  },
  {
   "cell_type": "code",
   "execution_count": 24,
   "metadata": {},
   "outputs": [
    {
     "data": {
      "text/plain": [
       "'C99P60ThinF_IMG_20150918_142128_cell_102.png'"
      ]
     },
     "execution_count": 24,
     "metadata": {},
     "output_type": "execute_result"
    }
   ],
   "source": [
    "os.listdir(train_path+'parasitized')[0]"
   ]
  },
  {
   "cell_type": "code",
   "execution_count": 25,
   "metadata": {
    "scrolled": true
   },
   "outputs": [
    {
     "data": {
      "text/plain": [
       "array([[[0., 0., 0.],\n",
       "        [0., 0., 0.],\n",
       "        [0., 0., 0.],\n",
       "        ...,\n",
       "        [0., 0., 0.],\n",
       "        [0., 0., 0.],\n",
       "        [0., 0., 0.]],\n",
       "\n",
       "       [[0., 0., 0.],\n",
       "        [0., 0., 0.],\n",
       "        [0., 0., 0.],\n",
       "        ...,\n",
       "        [0., 0., 0.],\n",
       "        [0., 0., 0.],\n",
       "        [0., 0., 0.]],\n",
       "\n",
       "       [[0., 0., 0.],\n",
       "        [0., 0., 0.],\n",
       "        [0., 0., 0.],\n",
       "        ...,\n",
       "        [0., 0., 0.],\n",
       "        [0., 0., 0.],\n",
       "        [0., 0., 0.]],\n",
       "\n",
       "       ...,\n",
       "\n",
       "       [[0., 0., 0.],\n",
       "        [0., 0., 0.],\n",
       "        [0., 0., 0.],\n",
       "        ...,\n",
       "        [0., 0., 0.],\n",
       "        [0., 0., 0.],\n",
       "        [0., 0., 0.]],\n",
       "\n",
       "       [[0., 0., 0.],\n",
       "        [0., 0., 0.],\n",
       "        [0., 0., 0.],\n",
       "        ...,\n",
       "        [0., 0., 0.],\n",
       "        [0., 0., 0.],\n",
       "        [0., 0., 0.]],\n",
       "\n",
       "       [[0., 0., 0.],\n",
       "        [0., 0., 0.],\n",
       "        [0., 0., 0.],\n",
       "        ...,\n",
       "        [0., 0., 0.],\n",
       "        [0., 0., 0.],\n",
       "        [0., 0., 0.]]], dtype=float32)"
      ]
     },
     "execution_count": 25,
     "metadata": {},
     "output_type": "execute_result"
    }
   ],
   "source": [
    "para_cell=train_path+'parasitized'+'/C99P60ThinF_IMG_20150918_142128_cell_102.png'\n",
    "imread(para_cell)"
   ]
  },
  {
   "cell_type": "code",
   "execution_count": 26,
   "metadata": {},
   "outputs": [
    {
     "data": {
      "text/plain": [
       "(148, 139, 3)"
      ]
     },
     "execution_count": 26,
     "metadata": {},
     "output_type": "execute_result"
    }
   ],
   "source": [
    "imread(para_cell).shape"
   ]
  },
  {
   "cell_type": "code",
   "execution_count": 27,
   "metadata": {},
   "outputs": [
    {
     "data": {
      "text/plain": [
       "<matplotlib.image.AxesImage at 0x7f1f4bbcf2d0>"
      ]
     },
     "execution_count": 27,
     "metadata": {},
     "output_type": "execute_result"
    },
    {
     "data": {
      "image/png": "[encoded data removed]",
      "text/plain": [
       "<Figure size 432x288 with 1 Axes>"
      ]
     },
     "metadata": {
      "needs_background": "light"
     },
     "output_type": "display_data"
    }
   ],
   "source": [
    "plt.imshow(imread(para_cell))"
   ]
  },
  {
   "cell_type": "code",
   "execution_count": 28,
   "metadata": {},
   "outputs": [],
   "source": [
    "uninfected_cell=train_path+'uninfected'"
   ]
  },
  {
   "cell_type": "code",
   "execution_count": 29,
   "metadata": {},
   "outputs": [
    {
     "data": {
      "text/plain": [
       "['C98P59ThinF_IMG_20150917_153938_cell_111.png',\n",
       " 'C98P59ThinF_IMG_20150917_153938_cell_117.png',\n",
       " 'C98P59ThinF_IMG_20150917_153938_cell_130.png',\n",
       " 'C98P59ThinF_IMG_20150917_153938_cell_170.png',\n",
       " 'C98P59ThinF_IMG_20150917_153938_cell_26.png',\n",
       " 'C98P59ThinF_IMG_20150917_153938_cell_44.png',\n",
       " 'C98P59ThinF_IMG_20150917_153938_cell_6.png',\n",
       " 'C98P59ThinF_IMG_20150917_154235_cell_125.png',\n",
       " 'C98P59ThinF_IMG_20150917_154235_cell_128.png',\n",
       " 'C98P59ThinF_IMG_20150917_154235_cell_135.png',\n",
       " 'C98P59ThinF_IMG_20150917_154235_cell_143.png',\n",
       " 'C98P59ThinF_IMG_20150917_154235_cell_157.png',\n",
       " 'C98P59ThinF_IMG_20150917_154235_cell_171.png',\n",
       " 'C98P59ThinF_IMG_20150917_154235_cell_30.png',\n",
       " 'C98P59ThinF_IMG_20150917_154235_cell_85.png',\n",
       " 'C98P59ThinF_IMG_20150917_154235_cell_86.png',\n",
       " 'C98P59ThinF_IMG_20150917_154452_cell_102.png',\n",
       " 'C98P59ThinF_IMG_20150917_154452_cell_108.png',\n",
       " 'C98P59ThinF_IMG_20150917_154452_cell_144.png',\n",
       " 'C98P59ThinF_IMG_20150917_154452_cell_19.png',\n",
       " 'C98P59ThinF_IMG_20150917_154452_cell_199.png',\n",
       " 'C98P59ThinF_IMG_20150917_154452_cell_33.png',\n",
       " 'C98P59ThinF_IMG_20150917_154452_cell_44.png',\n",
       " 'C98P59ThinF_IMG_20150917_154452_cell_70.png',\n",
       " 'C98P59ThinF_IMG_20150917_154452_cell_99.png',\n",
       " 'C99P60ThinF_IMG_20150918_140900_cell_24.png',\n",
       " 'C99P60ThinF_IMG_20150918_140900_cell_34.png',\n",
       " 'C99P60ThinF_IMG_20150918_140900_cell_41.png',\n",
       " 'C99P60ThinF_IMG_20150918_140900_cell_44.png',\n",
       " 'C99P60ThinF_IMG_20150918_140900_cell_52.png',\n",
       " 'C99P60ThinF_IMG_20150918_140900_cell_59.png',\n",
       " 'C99P60ThinF_IMG_20150918_140900_cell_6.png',\n",
       " 'C99P60ThinF_IMG_20150918_140900_cell_66.png',\n",
       " 'C99P60ThinF_IMG_20150918_140900_cell_69.png',\n",
       " 'C99P60ThinF_IMG_20150918_140900_cell_91.png',\n",
       " 'C99P60ThinF_IMG_20150918_141001_cell_24.png',\n",
       " 'C99P60ThinF_IMG_20150918_141001_cell_26.png',\n",
       " 'C99P60ThinF_IMG_20150918_141001_cell_4.png',\n",
       " 'C99P60ThinF_IMG_20150918_141001_cell_46.png',\n",
       " 'C99P60ThinF_IMG_20150918_141001_cell_50.png',\n",
       " 'C99P60ThinF_IMG_20150918_141001_cell_60.png',\n",
       " 'C99P60ThinF_IMG_20150918_141001_cell_61.png',\n",
       " 'C99P60ThinF_IMG_20150918_141001_cell_66.png',\n",
       " 'C99P60ThinF_IMG_20150918_141001_cell_69.png',\n",
       " 'C99P60ThinF_IMG_20150918_141001_cell_89.png',\n",
       " 'C99P60ThinF_IMG_20150918_141129_cell_15.png',\n",
       " 'C99P60ThinF_IMG_20150918_141129_cell_20.png',\n",
       " 'C99P60ThinF_IMG_20150918_141129_cell_21.png',\n",
       " 'C99P60ThinF_IMG_20150918_141129_cell_38.png',\n",
       " 'C99P60ThinF_IMG_20150918_141129_cell_77.png',\n",
       " 'C99P60ThinF_IMG_20150918_141129_cell_84.png',\n",
       " 'C99P60ThinF_IMG_20150918_141314_cell_11.png',\n",
       " 'C99P60ThinF_IMG_20150918_141314_cell_16.png',\n",
       " 'C99P60ThinF_IMG_20150918_141314_cell_31.png',\n",
       " 'C99P60ThinF_IMG_20150918_141314_cell_39.png',\n",
       " 'C99P60ThinF_IMG_20150918_141314_cell_46.png',\n",
       " 'C99P60ThinF_IMG_20150918_141314_cell_57.png',\n",
       " 'C99P60ThinF_IMG_20150918_141314_cell_65.png',\n",
       " 'C99P60ThinF_IMG_20150918_141314_cell_77.png',\n",
       " 'C99P60ThinF_IMG_20150918_141314_cell_79.png',\n",
       " 'C99P60ThinF_IMG_20150918_141314_cell_81.png',\n",
       " 'C99P60ThinF_IMG_20150918_141351_cell_26.png',\n",
       " 'C99P60ThinF_IMG_20150918_141351_cell_53.png',\n",
       " 'C99P60ThinF_IMG_20150918_141351_cell_56.png',\n",
       " 'C99P60ThinF_IMG_20150918_141351_cell_75.png',\n",
       " 'C99P60ThinF_IMG_20150918_141351_cell_83.png',\n",
       " 'C99P60ThinF_IMG_20150918_141351_cell_92.png',\n",
       " 'C99P60ThinF_IMG_20150918_141520_cell_1.png',\n",
       " 'C99P60ThinF_IMG_20150918_141520_cell_16.png',\n",
       " 'C99P60ThinF_IMG_20150918_141520_cell_22.png',\n",
       " 'C99P60ThinF_IMG_20150918_141520_cell_31.png',\n",
       " 'C99P60ThinF_IMG_20150918_141520_cell_38.png',\n",
       " 'C99P60ThinF_IMG_20150918_141520_cell_42.png',\n",
       " 'C99P60ThinF_IMG_20150918_141520_cell_45.png',\n",
       " 'C99P60ThinF_IMG_20150918_141520_cell_64.png',\n",
       " 'C99P60ThinF_IMG_20150918_141520_cell_73.png',\n",
       " 'C99P60ThinF_IMG_20150918_142128_cell_11.png',\n",
       " 'C99P60ThinF_IMG_20150918_142128_cell_14.png',\n",
       " 'C99P60ThinF_IMG_20150918_142128_cell_15.png',\n",
       " 'C99P60ThinF_IMG_20150918_142128_cell_3.png',\n",
       " 'C99P60ThinF_IMG_20150918_142128_cell_45.png',\n",
       " 'C99P60ThinF_IMG_20150918_142128_cell_47.png',\n",
       " 'C99P60ThinF_IMG_20150918_142128_cell_52.png',\n",
       " 'C99P60ThinF_IMG_20150918_142128_cell_53.png',\n",
       " 'C99P60ThinF_IMG_20150918_142128_cell_56.png',\n",
       " 'Thumbs.db',\n",
       " 'C96P57ThinF_IMG_20150824_112442_cell_9.png',\n",
       " 'C97P58ThinF_IMG_20150917_145555_cell_103.png',\n",
       " 'C97P58ThinF_IMG_20150917_145555_cell_122.png',\n",
       " 'C97P58ThinF_IMG_20150917_145555_cell_149.png',\n",
       " 'C97P58ThinF_IMG_20150917_145555_cell_157.png',\n",
       " 'C97P58ThinF_IMG_20150917_145555_cell_36.png',\n",
       " 'C97P58ThinF_IMG_20150917_145555_cell_40.png',\n",
       " 'C97P58ThinF_IMG_20150917_145555_cell_74.png',\n",
       " 'C97P58ThinF_IMG_20150917_145555_cell_88.png',\n",
       " 'C97P58ThinF_IMG_20150917_145555_cell_94.png',\n",
       " 'C97P58ThinF_IMG_20150917_150838_cell_108.png',\n",
       " 'C97P58ThinF_IMG_20150917_150838_cell_118.png',\n",
       " 'C97P58ThinF_IMG_20150917_150838_cell_13.png',\n",
       " 'C97P58ThinF_IMG_20150917_150838_cell_145.png',\n",
       " 'C97P58ThinF_IMG_20150917_150838_cell_47.png',\n",
       " 'C97P58ThinF_IMG_20150917_150838_cell_57.png',\n",
       " 'C97P58ThinF_IMG_20150917_150838_cell_82.png',\n",
       " 'C97P58ThinF_IMG_20150917_151320_cell_102.png',\n",
       " 'C97P58ThinF_IMG_20150917_151320_cell_11.png',\n",
       " 'C97P58ThinF_IMG_20150917_151320_cell_113.png',\n",
       " 'C97P58ThinF_IMG_20150917_151320_cell_119.png',\n",
       " 'C97P58ThinF_IMG_20150917_151320_cell_142.png',\n",
       " 'C97P58ThinF_IMG_20150917_151320_cell_26.png',\n",
       " 'C97P58ThinF_IMG_20150917_151320_cell_51.png',\n",
       " 'C97P58ThinF_IMG_20150917_151320_cell_54.png',\n",
       " 'C97P58ThinF_IMG_20150917_151437_cell_113.png',\n",
       " 'C97P58ThinF_IMG_20150917_151437_cell_18.png',\n",
       " 'C97P58ThinF_IMG_20150917_151437_cell_29.png',\n",
       " 'C97P58ThinF_IMG_20150917_151437_cell_32.png',\n",
       " 'C97P58ThinF_IMG_20150917_151437_cell_63.png',\n",
       " 'C97P58ThinF_IMG_20150917_151437_cell_67.png',\n",
       " 'C97P58ThinF_IMG_20150917_151437_cell_71.png',\n",
       " 'C97P58ThinF_IMG_20150917_151437_cell_77.png',\n",
       " 'C97P58ThinF_IMG_20150917_151512_cell_110.png',\n",
       " 'C97P58ThinF_IMG_20150917_151512_cell_112.png',\n",
       " 'C97P58ThinF_IMG_20150917_151512_cell_117.png',\n",
       " 'C97P58ThinF_IMG_20150917_151512_cell_133.png',\n",
       " 'C97P58ThinF_IMG_20150917_151512_cell_134.png',\n",
       " 'C97P58ThinF_IMG_20150917_151512_cell_146.png',\n",
       " 'C97P58ThinF_IMG_20150917_151512_cell_16.png',\n",
       " 'C97P58ThinF_IMG_20150917_151512_cell_26.png',\n",
       " 'C97P58ThinF_IMG_20150917_151551_cell_105.png',\n",
       " 'C97P58ThinF_IMG_20150917_151551_cell_134.png',\n",
       " 'C97P58ThinF_IMG_20150917_151551_cell_142.png',\n",
       " 'C97P58ThinF_IMG_20150917_151551_cell_147.png',\n",
       " 'C97P58ThinF_IMG_20150917_151551_cell_2.png',\n",
       " 'C97P58ThinF_IMG_20150917_151551_cell_41.png',\n",
       " 'C97P58ThinF_IMG_20150917_151551_cell_47.png',\n",
       " 'C97P58ThinF_IMG_20150917_151551_cell_56.png',\n",
       " 'C97P58ThinF_IMG_20150917_151551_cell_57.png',\n",
       " 'C97P58ThinF_IMG_20150917_151551_cell_99.png',\n",
       " 'C97P58ThinF_IMG_20150917_152032_cell_1.png',\n",
       " 'C97P58ThinF_IMG_20150917_152032_cell_101.png',\n",
       " 'C97P58ThinF_IMG_20150917_152032_cell_104.png',\n",
       " 'C97P58ThinF_IMG_20150917_152032_cell_128.png',\n",
       " 'C97P58ThinF_IMG_20150917_152032_cell_143.png',\n",
       " 'C97P58ThinF_IMG_20150917_152032_cell_42.png',\n",
       " 'C97P58ThinF_IMG_20150917_152032_cell_44.png',\n",
       " 'C97P58ThinF_IMG_20150917_152032_cell_6.png',\n",
       " 'C97P58ThinF_IMG_20150917_152032_cell_62.png',\n",
       " 'C97P58ThinF_IMG_20150917_152032_cell_93.png',\n",
       " 'C98P59ThinF_IMG_20150917_153030_cell_120.png',\n",
       " 'C98P59ThinF_IMG_20150917_153030_cell_136.png',\n",
       " 'C98P59ThinF_IMG_20150917_153030_cell_144.png',\n",
       " 'C98P59ThinF_IMG_20150917_153030_cell_28.png',\n",
       " 'C98P59ThinF_IMG_20150917_153030_cell_62.png',\n",
       " 'C98P59ThinF_IMG_20150917_153030_cell_74.png',\n",
       " 'C98P59ThinF_IMG_20150917_153030_cell_8.png',\n",
       " 'C98P59ThinF_IMG_20150917_153030_cell_95.png',\n",
       " 'C98P59ThinF_IMG_20150917_153311_cell_118.png',\n",
       " 'C98P59ThinF_IMG_20150917_153311_cell_143.png',\n",
       " 'C98P59ThinF_IMG_20150917_153311_cell_149.png',\n",
       " 'C98P59ThinF_IMG_20150917_153311_cell_16.png',\n",
       " 'C98P59ThinF_IMG_20150917_153311_cell_27.png',\n",
       " 'C98P59ThinF_IMG_20150917_153311_cell_32.png',\n",
       " 'C98P59ThinF_IMG_20150917_153311_cell_49.png',\n",
       " 'C98P59ThinF_IMG_20150917_153311_cell_61.png',\n",
       " 'C98P59ThinF_IMG_20150917_153311_cell_73.png',\n",
       " 'C98P59ThinF_IMG_20150917_153600_cell_1.png',\n",
       " 'C98P59ThinF_IMG_20150917_153600_cell_116.png',\n",
       " 'C98P59ThinF_IMG_20150917_153600_cell_125.png',\n",
       " 'C98P59ThinF_IMG_20150917_153600_cell_130.png',\n",
       " 'C98P59ThinF_IMG_20150917_153600_cell_152.png',\n",
       " 'C98P59ThinF_IMG_20150917_153600_cell_160.png',\n",
       " 'C98P59ThinF_IMG_20150917_153600_cell_184.png',\n",
       " 'C98P59ThinF_IMG_20150917_153600_cell_83.png',\n",
       " 'C98P59ThinF_IMG_20150917_153801_cell_1.png',\n",
       " 'C98P59ThinF_IMG_20150917_153801_cell_127.png',\n",
       " 'C98P59ThinF_IMG_20150917_153801_cell_141.png',\n",
       " 'C98P59ThinF_IMG_20150917_153801_cell_176.png',\n",
       " 'C98P59ThinF_IMG_20150917_153801_cell_178.png',\n",
       " 'C98P59ThinF_IMG_20150917_153801_cell_58.png',\n",
       " 'C98P59ThinF_IMG_20150917_153801_cell_79.png',\n",
       " 'C98P59ThinF_IMG_20150917_153801_cell_83.png',\n",
       " 'C98P59ThinF_IMG_20150917_153938_cell_10.png',\n",
       " 'C98P59ThinF_IMG_20150917_153938_cell_100.png',\n",
       " 'C95P56ThinF_IMG_20150821_171701_cell_65.png',\n",
       " 'C95P56ThinF_IMG_20150821_171701_cell_79.png',\n",
       " 'C95P56ThinF_IMG_20150821_171701_cell_90.png',\n",
       " 'C95P56ThinF_IMG_20150821_171751_cell_33.png',\n",
       " 'C95P56ThinF_IMG_20150821_171751_cell_36.png',\n",
       " 'C95P56ThinF_IMG_20150821_171751_cell_63.png',\n",
       " 'C95P56ThinF_IMG_20150821_172222_cell_1.png',\n",
       " 'C95P56ThinF_IMG_20150821_172222_cell_15.png',\n",
       " 'C95P56ThinF_IMG_20150821_172222_cell_22.png',\n",
       " 'C95P56ThinF_IMG_20150821_172222_cell_26.png',\n",
       " 'C95P56ThinF_IMG_20150821_172222_cell_33.png',\n",
       " 'C95P56ThinF_IMG_20150821_172222_cell_64.png',\n",
       " 'C95P56ThinF_IMG_20150821_172222_cell_78.png',\n",
       " 'C95P56ThinF_IMG_20150821_172319_cell_100.png',\n",
       " 'C95P56ThinF_IMG_20150821_172319_cell_4.png',\n",
       " 'C95P56ThinF_IMG_20150821_172319_cell_57.png',\n",
       " 'C95P56ThinF_IMG_20150821_172319_cell_62.png',\n",
       " 'C95P56ThinF_IMG_20150821_172319_cell_7.png',\n",
       " 'C95P56ThinF_IMG_20150821_172319_cell_96.png',\n",
       " 'C95P56ThinF_IMG_20150821_172319_cell_98.png',\n",
       " 'C95P56ThinF_IMG_20150821_172351_cell_13.png',\n",
       " 'C95P56ThinF_IMG_20150821_172351_cell_57.png',\n",
       " 'C95P56ThinF_IMG_20150821_172351_cell_6.png',\n",
       " 'C95P56ThinF_IMG_20150821_172351_cell_72.png',\n",
       " 'C95P56ThinF_IMG_20150821_172351_cell_90.png',\n",
       " 'C95P56ThinF_IMG_20150821_172351_cell_96.png',\n",
       " 'C95P56ThinF_IMG_20150821_172351_cell_97.png',\n",
       " 'C95P56ThinF_IMG_20150821_172607_cell_18.png',\n",
       " 'C95P56ThinF_IMG_20150821_172607_cell_27.png',\n",
       " 'C95P56ThinF_IMG_20150821_172607_cell_39.png',\n",
       " 'C95P56ThinF_IMG_20150821_172607_cell_68.png',\n",
       " 'C95P56ThinF_IMG_20150821_172607_cell_82.png',\n",
       " 'C95P56ThinF_IMG_20150821_172607_cell_9.png',\n",
       " 'C96P57ThinF_IMG_20150824_105213_cell_119.png',\n",
       " 'C96P57ThinF_IMG_20150824_105213_cell_157.png',\n",
       " 'C96P57ThinF_IMG_20150824_105213_cell_164.png',\n",
       " 'C96P57ThinF_IMG_20150824_105213_cell_180.png',\n",
       " 'C96P57ThinF_IMG_20150824_105213_cell_193.png',\n",
       " 'C96P57ThinF_IMG_20150824_105213_cell_32.png',\n",
       " 'C96P57ThinF_IMG_20150824_105213_cell_69.png',\n",
       " 'C96P57ThinF_IMG_20150824_105213_cell_76.png',\n",
       " 'C96P57ThinF_IMG_20150824_105213_cell_9.png',\n",
       " 'C96P57ThinF_IMG_20150824_105213_cell_95.png',\n",
       " 'C96P57ThinF_IMG_20150824_105445_cell_100.png',\n",
       " 'C96P57ThinF_IMG_20150824_105445_cell_139.png',\n",
       " 'C96P57ThinF_IMG_20150824_105445_cell_140.png',\n",
       " 'C96P57ThinF_IMG_20150824_105445_cell_154.png',\n",
       " 'C96P57ThinF_IMG_20150824_105445_cell_17.png',\n",
       " 'C96P57ThinF_IMG_20150824_105445_cell_29.png',\n",
       " 'C96P57ThinF_IMG_20150824_105445_cell_45.png',\n",
       " 'C96P57ThinF_IMG_20150824_105445_cell_60.png',\n",
       " 'C96P57ThinF_IMG_20150824_105445_cell_63.png',\n",
       " 'C96P57ThinF_IMG_20150824_105531_cell_101.png',\n",
       " 'C96P57ThinF_IMG_20150824_105531_cell_107.png',\n",
       " 'C96P57ThinF_IMG_20150824_105531_cell_17.png',\n",
       " 'C96P57ThinF_IMG_20150824_105531_cell_172.png',\n",
       " 'C96P57ThinF_IMG_20150824_105531_cell_207.png',\n",
       " 'C96P57ThinF_IMG_20150824_105531_cell_217.png',\n",
       " 'C96P57ThinF_IMG_20150824_105531_cell_32.png',\n",
       " 'C96P57ThinF_IMG_20150824_105531_cell_34.png',\n",
       " 'C96P57ThinF_IMG_20150824_105531_cell_55.png',\n",
       " 'C96P57ThinF_IMG_20150824_105531_cell_71.png',\n",
       " 'C96P57ThinF_IMG_20150824_110812_cell_111.png',\n",
       " 'C96P57ThinF_IMG_20150824_110812_cell_177.png',\n",
       " 'C96P57ThinF_IMG_20150824_110812_cell_18.png',\n",
       " 'C96P57ThinF_IMG_20150824_110812_cell_203.png',\n",
       " 'C96P57ThinF_IMG_20150824_110812_cell_25.png',\n",
       " 'C96P57ThinF_IMG_20150824_110812_cell_39.png',\n",
       " 'C96P57ThinF_IMG_20150824_110812_cell_5.png',\n",
       " 'C96P57ThinF_IMG_20150824_110812_cell_97.png',\n",
       " 'C96P57ThinF_IMG_20150824_111748_cell_133.png',\n",
       " 'C96P57ThinF_IMG_20150824_111748_cell_165.png',\n",
       " 'C96P57ThinF_IMG_20150824_111748_cell_166.png',\n",
       " 'C96P57ThinF_IMG_20150824_111748_cell_169.png',\n",
       " 'C96P57ThinF_IMG_20150824_111748_cell_47.png',\n",
       " 'C96P57ThinF_IMG_20150824_111748_cell_5.png',\n",
       " 'C96P57ThinF_IMG_20150824_111748_cell_61.png',\n",
       " 'C96P57ThinF_IMG_20150824_111748_cell_69.png',\n",
       " 'C96P57ThinF_IMG_20150824_111748_cell_92.png',\n",
       " 'C96P57ThinF_IMG_20150824_112132_cell_117.png',\n",
       " 'C96P57ThinF_IMG_20150824_112132_cell_124.png',\n",
       " 'C96P57ThinF_IMG_20150824_112132_cell_161.png',\n",
       " 'C96P57ThinF_IMG_20150824_112132_cell_187.png',\n",
       " 'C96P57ThinF_IMG_20150824_112132_cell_25.png',\n",
       " 'C96P57ThinF_IMG_20150824_112132_cell_53.png',\n",
       " 'C96P57ThinF_IMG_20150824_112132_cell_63.png',\n",
       " 'C96P57ThinF_IMG_20150824_112132_cell_74.png',\n",
       " 'C96P57ThinF_IMG_20150824_112442_cell_156.png',\n",
       " 'C96P57ThinF_IMG_20150824_112442_cell_160.png',\n",
       " 'C96P57ThinF_IMG_20150824_112442_cell_163.png',\n",
       " 'C96P57ThinF_IMG_20150824_112442_cell_170.png',\n",
       " 'C96P57ThinF_IMG_20150824_112442_cell_18.png',\n",
       " 'C96P57ThinF_IMG_20150824_112442_cell_180.png',\n",
       " 'C96P57ThinF_IMG_20150824_112442_cell_22.png',\n",
       " 'C96P57ThinF_IMG_20150824_112442_cell_43.png',\n",
       " 'C96P57ThinF_IMG_20150824_112442_cell_88.png',\n",
       " 'C93P54ThinF_IMG_20150821_164024_cell_51.png',\n",
       " 'C93P54ThinF_IMG_20150821_164024_cell_53.png',\n",
       " 'C93P54ThinF_IMG_20150821_164024_cell_55.png',\n",
       " 'C93P54ThinF_IMG_20150821_164024_cell_75.png',\n",
       " 'C93P54ThinF_IMG_20150821_164024_cell_92.png',\n",
       " 'C93P54ThinF_IMG_20150821_164024_cell_95.png',\n",
       " 'C93P54ThinF_IMG_20150821_164024_cell_96.png',\n",
       " 'C94P55ThinF_IMG_20150821_165118_cell_102.png',\n",
       " 'C94P55ThinF_IMG_20150821_165118_cell_108.png',\n",
       " 'C94P55ThinF_IMG_20150821_165118_cell_125.png',\n",
       " 'C94P55ThinF_IMG_20150821_165118_cell_13.png',\n",
       " 'C94P55ThinF_IMG_20150821_165118_cell_231.png',\n",
       " 'C94P55ThinF_IMG_20150821_165118_cell_237.png',\n",
       " 'C94P55ThinF_IMG_20150821_165118_cell_242.png',\n",
       " 'C94P55ThinF_IMG_20150821_165118_cell_26.png',\n",
       " 'C94P55ThinF_IMG_20150821_165118_cell_262.png',\n",
       " 'C94P55ThinF_IMG_20150821_165118_cell_56.png',\n",
       " 'C94P55ThinF_IMG_20150821_165118_cell_60.png',\n",
       " 'C94P55ThinF_IMG_20150821_165118_cell_68.png',\n",
       " 'C94P55ThinF_IMG_20150821_165118_cell_74.png',\n",
       " 'C94P55ThinF_IMG_20150821_165118_cell_95.png',\n",
       " 'C94P55ThinF_IMG_20150821_165519_cell_113.png',\n",
       " 'C94P55ThinF_IMG_20150821_165519_cell_118.png',\n",
       " 'C94P55ThinF_IMG_20150821_165519_cell_128.png',\n",
       " 'C94P55ThinF_IMG_20150821_165519_cell_135.png',\n",
       " 'C94P55ThinF_IMG_20150821_165519_cell_136.png',\n",
       " 'C94P55ThinF_IMG_20150821_165519_cell_144.png',\n",
       " 'C94P55ThinF_IMG_20150821_165519_cell_157.png',\n",
       " 'C94P55ThinF_IMG_20150821_165519_cell_165.png',\n",
       " 'C94P55ThinF_IMG_20150821_165519_cell_210.png',\n",
       " 'C94P55ThinF_IMG_20150821_165519_cell_245.png',\n",
       " 'C94P55ThinF_IMG_20150821_165519_cell_248.png',\n",
       " 'C94P55ThinF_IMG_20150821_165519_cell_25.png',\n",
       " 'C94P55ThinF_IMG_20150821_165519_cell_262.png',\n",
       " 'C94P55ThinF_IMG_20150821_170021_cell_112.png',\n",
       " 'C94P55ThinF_IMG_20150821_170021_cell_132.png',\n",
       " 'C94P55ThinF_IMG_20150821_170021_cell_152.png',\n",
       " 'C94P55ThinF_IMG_20150821_170021_cell_154.png',\n",
       " 'C94P55ThinF_IMG_20150821_170021_cell_156.png',\n",
       " 'C94P55ThinF_IMG_20150821_170021_cell_166.png',\n",
       " 'C94P55ThinF_IMG_20150821_170021_cell_194.png',\n",
       " 'C94P55ThinF_IMG_20150821_170021_cell_195.png',\n",
       " 'C94P55ThinF_IMG_20150821_170021_cell_20.png',\n",
       " 'C94P55ThinF_IMG_20150821_170021_cell_23.png',\n",
       " 'C94P55ThinF_IMG_20150821_170021_cell_32.png',\n",
       " 'C94P55ThinF_IMG_20150821_170021_cell_56.png',\n",
       " 'C94P55ThinF_IMG_20150821_170021_cell_63.png',\n",
       " 'C94P55ThinF_IMG_20150821_170249_cell_130.png',\n",
       " 'C94P55ThinF_IMG_20150821_170249_cell_153.png',\n",
       " 'C94P55ThinF_IMG_20150821_170249_cell_16.png',\n",
       " 'C94P55ThinF_IMG_20150821_170249_cell_162.png',\n",
       " 'C94P55ThinF_IMG_20150821_170249_cell_174.png',\n",
       " 'C94P55ThinF_IMG_20150821_170249_cell_183.png',\n",
       " 'C94P55ThinF_IMG_20150821_170249_cell_187.png',\n",
       " 'C94P55ThinF_IMG_20150821_170249_cell_209.png',\n",
       " 'C94P55ThinF_IMG_20150821_170249_cell_211.png',\n",
       " 'C94P55ThinF_IMG_20150821_170249_cell_223.png',\n",
       " 'C94P55ThinF_IMG_20150821_170249_cell_5.png',\n",
       " 'C94P55ThinF_IMG_20150821_170403_cell_1.png',\n",
       " 'C94P55ThinF_IMG_20150821_170403_cell_104.png',\n",
       " 'C94P55ThinF_IMG_20150821_170403_cell_119.png',\n",
       " 'C94P55ThinF_IMG_20150821_170403_cell_145.png',\n",
       " 'C94P55ThinF_IMG_20150821_170403_cell_168.png',\n",
       " 'C94P55ThinF_IMG_20150821_170403_cell_185.png',\n",
       " 'C94P55ThinF_IMG_20150821_170403_cell_188.png',\n",
       " 'C94P55ThinF_IMG_20150821_170403_cell_193.png',\n",
       " 'C94P55ThinF_IMG_20150821_170403_cell_30.png',\n",
       " 'C94P55ThinF_IMG_20150821_170403_cell_4.png',\n",
       " 'C94P55ThinF_IMG_20150821_170403_cell_46.png',\n",
       " 'C94P55ThinF_IMG_20150821_170403_cell_53.png',\n",
       " 'C94P55ThinF_IMG_20150821_170403_cell_96.png',\n",
       " 'C95P56ThinF_IMG_20150821_171242_cell_21.png',\n",
       " 'C95P56ThinF_IMG_20150821_171242_cell_28.png',\n",
       " 'C95P56ThinF_IMG_20150821_171242_cell_35.png',\n",
       " 'C95P56ThinF_IMG_20150821_171242_cell_62.png',\n",
       " 'C95P56ThinF_IMG_20150821_171242_cell_84.png',\n",
       " 'C95P56ThinF_IMG_20150821_171242_cell_95.png',\n",
       " 'C95P56ThinF_IMG_20150821_171530_cell_13.png',\n",
       " 'C95P56ThinF_IMG_20150821_171530_cell_14.png',\n",
       " 'C95P56ThinF_IMG_20150821_171530_cell_34.png',\n",
       " 'C95P56ThinF_IMG_20150821_171530_cell_36.png',\n",
       " 'C95P56ThinF_IMG_20150821_171530_cell_4.png',\n",
       " 'C95P56ThinF_IMG_20150821_171530_cell_76.png',\n",
       " 'C95P56ThinF_IMG_20150821_171603_cell_1.png',\n",
       " 'C95P56ThinF_IMG_20150821_171603_cell_13.png',\n",
       " 'C95P56ThinF_IMG_20150821_171603_cell_19.png',\n",
       " 'C95P56ThinF_IMG_20150821_171603_cell_35.png',\n",
       " 'C95P56ThinF_IMG_20150821_171603_cell_46.png',\n",
       " 'C95P56ThinF_IMG_20150821_171603_cell_75.png',\n",
       " 'C95P56ThinF_IMG_20150821_171631_cell_13.png',\n",
       " 'C95P56ThinF_IMG_20150821_171631_cell_64.png',\n",
       " 'C95P56ThinF_IMG_20150821_171631_cell_70.png',\n",
       " 'C95P56ThinF_IMG_20150821_171631_cell_72.png',\n",
       " 'C95P56ThinF_IMG_20150821_171631_cell_98.png',\n",
       " 'C95P56ThinF_IMG_20150821_171701_cell_14.png',\n",
       " 'C95P56ThinF_IMG_20150821_171701_cell_46.png',\n",
       " 'C92P53ThinF_IMG_20150821_150718_cell_133.png',\n",
       " 'C92P53ThinF_IMG_20150821_150718_cell_144.png',\n",
       " 'C92P53ThinF_IMG_20150821_150718_cell_155.png',\n",
       " 'C92P53ThinF_IMG_20150821_150718_cell_176.png',\n",
       " 'C92P53ThinF_IMG_20150821_150718_cell_181.png',\n",
       " 'C92P53ThinF_IMG_20150821_150718_cell_200.png',\n",
       " 'C92P53ThinF_IMG_20150821_150718_cell_201.png',\n",
       " 'C92P53ThinF_IMG_20150821_150718_cell_72.png',\n",
       " 'C92P53ThinF_IMG_20150821_150718_cell_96.png',\n",
       " 'C92P53ThinF_IMG_20150821_150718_cell_97.png',\n",
       " 'C92P53ThinF_IMG_20150821_151224_cell_123.png',\n",
       " 'C92P53ThinF_IMG_20150821_151224_cell_150.png',\n",
       " 'C92P53ThinF_IMG_20150821_151224_cell_17.png',\n",
       " 'C92P53ThinF_IMG_20150821_151224_cell_195.png',\n",
       " 'C92P53ThinF_IMG_20150821_151224_cell_201.png',\n",
       " 'C92P53ThinF_IMG_20150821_151224_cell_205.png',\n",
       " 'C92P53ThinF_IMG_20150821_151224_cell_48.png',\n",
       " 'C92P53ThinF_IMG_20150821_151224_cell_57.png',\n",
       " 'C92P53ThinF_IMG_20150821_151224_cell_58.png',\n",
       " 'C92P53ThinF_IMG_20150821_151224_cell_91.png',\n",
       " 'C92P53ThinF_IMG_20150821_151224_cell_99.png',\n",
       " 'C92P53ThinF_IMG_20150821_151646_cell_142.png',\n",
       " 'C92P53ThinF_IMG_20150821_151646_cell_155.png',\n",
       " 'C92P53ThinF_IMG_20150821_151646_cell_169.png',\n",
       " 'C92P53ThinF_IMG_20150821_151646_cell_20.png',\n",
       " 'C92P53ThinF_IMG_20150821_151646_cell_3.png',\n",
       " 'C92P53ThinF_IMG_20150821_151646_cell_32.png',\n",
       " 'C92P53ThinF_IMG_20150821_151646_cell_39.png',\n",
       " 'C92P53ThinF_IMG_20150821_151646_cell_41.png',\n",
       " 'C92P53ThinF_IMG_20150821_151646_cell_45.png',\n",
       " 'C92P53ThinF_IMG_20150821_151646_cell_46.png',\n",
       " 'C92P53ThinF_IMG_20150821_151646_cell_54.png',\n",
       " 'C92P53ThinF_IMG_20150821_151646_cell_97.png',\n",
       " 'C92P53ThinF_IMG_20150821_151722_cell_116.png',\n",
       " 'C92P53ThinF_IMG_20150821_151722_cell_152.png',\n",
       " 'C92P53ThinF_IMG_20150821_151722_cell_171.png',\n",
       " 'C92P53ThinF_IMG_20150821_151722_cell_173.png',\n",
       " 'C92P53ThinF_IMG_20150821_151722_cell_183.png',\n",
       " 'C92P53ThinF_IMG_20150821_151722_cell_194.png',\n",
       " 'C92P53ThinF_IMG_20150821_151722_cell_33.png',\n",
       " 'C92P53ThinF_IMG_20150821_151722_cell_37.png',\n",
       " 'C92P53ThinF_IMG_20150821_151722_cell_56.png',\n",
       " 'C92P53ThinF_IMG_20150821_151722_cell_57.png',\n",
       " 'C92P53ThinF_IMG_20150821_151722_cell_75.png',\n",
       " 'C92P53ThinF_IMG_20150821_151722_cell_93.png',\n",
       " 'C93P54ThinF_IMG_20150821_162641_cell_105.png',\n",
       " 'C93P54ThinF_IMG_20150821_162641_cell_112.png',\n",
       " 'C93P54ThinF_IMG_20150821_162641_cell_13.png',\n",
       " 'C93P54ThinF_IMG_20150821_162641_cell_150.png',\n",
       " 'C93P54ThinF_IMG_20150821_162641_cell_173.png',\n",
       " 'C93P54ThinF_IMG_20150821_162641_cell_198.png',\n",
       " 'C93P54ThinF_IMG_20150821_162641_cell_203.png',\n",
       " 'C93P54ThinF_IMG_20150821_162641_cell_63.png',\n",
       " 'C93P54ThinF_IMG_20150821_162641_cell_71.png',\n",
       " 'C93P54ThinF_IMG_20150821_162901_cell_144.png',\n",
       " 'C93P54ThinF_IMG_20150821_162901_cell_147.png',\n",
       " 'C93P54ThinF_IMG_20150821_162901_cell_174.png',\n",
       " 'C93P54ThinF_IMG_20150821_162901_cell_2.png',\n",
       " 'C93P54ThinF_IMG_20150821_162901_cell_51.png',\n",
       " 'C93P54ThinF_IMG_20150821_162901_cell_57.png',\n",
       " 'C93P54ThinF_IMG_20150821_162901_cell_60.png',\n",
       " 'C93P54ThinF_IMG_20150821_162901_cell_89.png',\n",
       " 'C93P54ThinF_IMG_20150821_163452_cell_126.png',\n",
       " 'C93P54ThinF_IMG_20150821_163452_cell_130.png',\n",
       " 'C93P54ThinF_IMG_20150821_163452_cell_163.png',\n",
       " 'C93P54ThinF_IMG_20150821_163452_cell_165.png',\n",
       " 'C93P54ThinF_IMG_20150821_163452_cell_168.png',\n",
       " 'C93P54ThinF_IMG_20150821_163452_cell_43.png',\n",
       " 'C93P54ThinF_IMG_20150821_163452_cell_55.png',\n",
       " 'C93P54ThinF_IMG_20150821_163452_cell_56.png',\n",
       " 'C93P54ThinF_IMG_20150821_163452_cell_60.png',\n",
       " 'C93P54ThinF_IMG_20150821_163452_cell_68.png',\n",
       " 'C93P54ThinF_IMG_20150821_163640_cell_141.png',\n",
       " 'C93P54ThinF_IMG_20150821_163640_cell_155.png',\n",
       " 'C93P54ThinF_IMG_20150821_163640_cell_181.png',\n",
       " 'C93P54ThinF_IMG_20150821_163640_cell_182.png',\n",
       " 'C93P54ThinF_IMG_20150821_163640_cell_31.png',\n",
       " 'C93P54ThinF_IMG_20150821_163640_cell_39.png',\n",
       " 'C93P54ThinF_IMG_20150821_163640_cell_42.png',\n",
       " 'C93P54ThinF_IMG_20150821_163640_cell_9.png',\n",
       " 'C93P54ThinF_IMG_20150821_163640_cell_95.png',\n",
       " 'C93P54ThinF_IMG_20150821_163815_cell_122.png',\n",
       " 'C93P54ThinF_IMG_20150821_163815_cell_132.png',\n",
       " 'C93P54ThinF_IMG_20150821_163815_cell_136.png',\n",
       " 'C93P54ThinF_IMG_20150821_163815_cell_148.png',\n",
       " 'C93P54ThinF_IMG_20150821_163815_cell_149.png',\n",
       " 'C93P54ThinF_IMG_20150821_163815_cell_16.png',\n",
       " 'C93P54ThinF_IMG_20150821_163815_cell_170.png',\n",
       " 'C93P54ThinF_IMG_20150821_163815_cell_183.png',\n",
       " 'C93P54ThinF_IMG_20150821_163815_cell_197.png',\n",
       " 'C93P54ThinF_IMG_20150821_163815_cell_209.png',\n",
       " 'C93P54ThinF_IMG_20150821_163815_cell_91.png',\n",
       " 'C93P54ThinF_IMG_20150821_164024_cell_105.png',\n",
       " 'C93P54ThinF_IMG_20150821_164024_cell_133.png',\n",
       " 'C93P54ThinF_IMG_20150821_164024_cell_138.png',\n",
       " 'C93P54ThinF_IMG_20150821_164024_cell_158.png',\n",
       " 'C90P51ThinF_IMG_20150821_115846_cell_53.png',\n",
       " 'C90P51ThinF_IMG_20150821_115846_cell_59.png',\n",
       " 'C90P51ThinF_IMG_20150821_115846_cell_62.png',\n",
       " 'C90P51ThinF_IMG_20150821_115846_cell_65.png',\n",
       " 'C90P51ThinF_IMG_20150821_115846_cell_97.png',\n",
       " 'C90P51ThinF_IMG_20150821_120044_cell_1.png',\n",
       " 'C90P51ThinF_IMG_20150821_120044_cell_126.png',\n",
       " 'C90P51ThinF_IMG_20150821_120044_cell_194.png',\n",
       " 'C90P51ThinF_IMG_20150821_120044_cell_204.png',\n",
       " 'C90P51ThinF_IMG_20150821_120044_cell_220.png',\n",
       " 'C90P51ThinF_IMG_20150821_120044_cell_223.png',\n",
       " 'C90P51ThinF_IMG_20150821_120044_cell_228.png',\n",
       " 'C90P51ThinF_IMG_20150821_120044_cell_23.png',\n",
       " 'C90P51ThinF_IMG_20150821_120044_cell_37.png',\n",
       " 'C90P51ThinF_IMG_20150821_120044_cell_51.png',\n",
       " 'C90P51ThinF_IMG_20150821_120044_cell_69.png',\n",
       " 'C90P51ThinF_IMG_20150821_120044_cell_73.png',\n",
       " 'C90P51ThinF_IMG_20150821_120044_cell_82.png',\n",
       " 'C90P51ThinF_IMG_20150821_120044_cell_85.png',\n",
       " 'C91P52ThinF_IMG_20150821_123116_cell_102.png',\n",
       " 'C91P52ThinF_IMG_20150821_123116_cell_106.png',\n",
       " 'C91P52ThinF_IMG_20150821_123116_cell_116.png',\n",
       " 'C91P52ThinF_IMG_20150821_123116_cell_12.png',\n",
       " 'C91P52ThinF_IMG_20150821_123116_cell_148.png',\n",
       " 'C91P52ThinF_IMG_20150821_123116_cell_159.png',\n",
       " 'C91P52ThinF_IMG_20150821_123116_cell_27.png',\n",
       " 'C91P52ThinF_IMG_20150821_123116_cell_74.png',\n",
       " 'C91P52ThinF_IMG_20150821_123116_cell_78.png',\n",
       " 'C91P52ThinF_IMG_20150821_123116_cell_84.png',\n",
       " 'C91P52ThinF_IMG_20150821_123116_cell_89.png',\n",
       " 'C91P52ThinF_IMG_20150821_123116_cell_96.png',\n",
       " 'C91P52ThinF_IMG_20150821_123314_cell_105.png',\n",
       " 'C91P52ThinF_IMG_20150821_123314_cell_112.png',\n",
       " 'C91P52ThinF_IMG_20150821_123314_cell_16.png',\n",
       " 'C91P52ThinF_IMG_20150821_123314_cell_17.png',\n",
       " 'C91P52ThinF_IMG_20150821_123314_cell_25.png',\n",
       " 'C91P52ThinF_IMG_20150821_123314_cell_42.png',\n",
       " 'C91P52ThinF_IMG_20150821_123314_cell_54.png',\n",
       " 'C91P52ThinF_IMG_20150821_123314_cell_66.png',\n",
       " 'C91P52ThinF_IMG_20150821_123314_cell_68.png',\n",
       " 'C91P52ThinF_IMG_20150821_123314_cell_93.png',\n",
       " 'C91P52ThinF_IMG_20150821_124504_cell_13.png',\n",
       " 'C91P52ThinF_IMG_20150821_124504_cell_132.png',\n",
       " 'C91P52ThinF_IMG_20150821_124504_cell_147.png',\n",
       " 'C91P52ThinF_IMG_20150821_124504_cell_32.png',\n",
       " 'C91P52ThinF_IMG_20150821_124504_cell_38.png',\n",
       " 'C91P52ThinF_IMG_20150821_124504_cell_60.png',\n",
       " 'C91P52ThinF_IMG_20150821_124504_cell_7.png',\n",
       " 'C91P52ThinF_IMG_20150821_124504_cell_70.png',\n",
       " 'C91P52ThinF_IMG_20150821_124504_cell_76.png',\n",
       " 'C91P52ThinF_IMG_20150821_124504_cell_85.png',\n",
       " 'C91P52ThinF_IMG_20150821_124739_cell_11.png',\n",
       " 'C91P52ThinF_IMG_20150821_124739_cell_110.png',\n",
       " 'C91P52ThinF_IMG_20150821_124739_cell_133.png',\n",
       " 'C91P52ThinF_IMG_20150821_124739_cell_165.png',\n",
       " 'C91P52ThinF_IMG_20150821_124739_cell_167.png',\n",
       " 'C91P52ThinF_IMG_20150821_124739_cell_39.png',\n",
       " 'C91P52ThinF_IMG_20150821_124739_cell_4.png',\n",
       " 'C91P52ThinF_IMG_20150821_124739_cell_49.png',\n",
       " 'C91P52ThinF_IMG_20150821_124739_cell_50.png',\n",
       " 'C91P52ThinF_IMG_20150821_124739_cell_76.png',\n",
       " 'C91P52ThinF_IMG_20150821_124937_cell_117.png',\n",
       " 'C91P52ThinF_IMG_20150821_124937_cell_135.png',\n",
       " 'C91P52ThinF_IMG_20150821_124937_cell_151.png',\n",
       " 'C91P52ThinF_IMG_20150821_124937_cell_171.png',\n",
       " 'C91P52ThinF_IMG_20150821_124937_cell_173.png',\n",
       " 'C91P52ThinF_IMG_20150821_124937_cell_36.png',\n",
       " 'C91P52ThinF_IMG_20150821_124937_cell_5.png',\n",
       " 'C91P52ThinF_IMG_20150821_124937_cell_72.png',\n",
       " 'C91P52ThinF_IMG_20150821_124937_cell_76.png',\n",
       " 'C91P52ThinF_IMG_20150821_125154_cell_100.png',\n",
       " 'C91P52ThinF_IMG_20150821_125154_cell_101.png',\n",
       " 'C91P52ThinF_IMG_20150821_125154_cell_108.png',\n",
       " 'C91P52ThinF_IMG_20150821_125154_cell_111.png',\n",
       " 'C91P52ThinF_IMG_20150821_125154_cell_117.png',\n",
       " 'C91P52ThinF_IMG_20150821_125154_cell_27.png',\n",
       " 'C91P52ThinF_IMG_20150821_125154_cell_30.png',\n",
       " 'C91P52ThinF_IMG_20150821_125154_cell_41.png',\n",
       " 'C91P52ThinF_IMG_20150821_125154_cell_48.png',\n",
       " 'C91P52ThinF_IMG_20150821_125154_cell_59.png',\n",
       " 'C91P52ThinF_IMG_20150821_125154_cell_61.png',\n",
       " 'C91P52ThinF_IMG_20150821_125154_cell_70.png',\n",
       " 'C92P53ThinF_IMG_20150821_150457_cell_10.png',\n",
       " 'C92P53ThinF_IMG_20150821_150457_cell_106.png',\n",
       " 'C92P53ThinF_IMG_20150821_150457_cell_111.png',\n",
       " 'C92P53ThinF_IMG_20150821_150457_cell_126.png',\n",
       " 'C92P53ThinF_IMG_20150821_150457_cell_134.png',\n",
       " 'C92P53ThinF_IMG_20150821_150457_cell_142.png',\n",
       " 'C92P53ThinF_IMG_20150821_150457_cell_186.png',\n",
       " 'C92P53ThinF_IMG_20150821_150457_cell_217.png',\n",
       " 'C92P53ThinF_IMG_20150821_150457_cell_225.png',\n",
       " 'C92P53ThinF_IMG_20150821_150457_cell_65.png',\n",
       " 'C92P53ThinF_IMG_20150821_150457_cell_97.png',\n",
       " 'C92P53ThinF_IMG_20150821_150718_cell_1.png',\n",
       " 'C92P53ThinF_IMG_20150821_150718_cell_109.png',\n",
       " 'C92P53ThinF_IMG_20150821_150718_cell_115.png',\n",
       " 'C89P50ThinF_IMG_20150820_162300_cell_108.png',\n",
       " 'C89P50ThinF_IMG_20150820_162300_cell_127.png',\n",
       " 'C89P50ThinF_IMG_20150820_162300_cell_154.png',\n",
       " 'C89P50ThinF_IMG_20150820_162300_cell_166.png',\n",
       " 'C89P50ThinF_IMG_20150820_162300_cell_188.png',\n",
       " 'C89P50ThinF_IMG_20150820_162300_cell_21.png',\n",
       " 'C89P50ThinF_IMG_20150820_162300_cell_39.png',\n",
       " 'C89P50ThinF_IMG_20150820_162300_cell_58.png',\n",
       " 'C89P50ThinF_IMG_20150820_162300_cell_80.png',\n",
       " 'C89P50ThinF_IMG_20150820_162300_cell_82.png',\n",
       " 'C89P50ThinF_IMG_20150820_162504_cell_119.png',\n",
       " 'C89P50ThinF_IMG_20150820_162504_cell_127.png',\n",
       " 'C89P50ThinF_IMG_20150820_162504_cell_164.png',\n",
       " 'C89P50ThinF_IMG_20150820_162504_cell_178.png',\n",
       " 'C89P50ThinF_IMG_20150820_162504_cell_28.png',\n",
       " 'C89P50ThinF_IMG_20150820_162504_cell_40.png',\n",
       " 'C89P50ThinF_IMG_20150820_162504_cell_45.png',\n",
       " 'C89P50ThinF_IMG_20150820_162504_cell_53.png',\n",
       " 'C89P50ThinF_IMG_20150820_162504_cell_59.png',\n",
       " 'C89P50ThinF_IMG_20150820_162504_cell_62.png',\n",
       " 'C89P50ThinF_IMG_20150820_162504_cell_67.png',\n",
       " 'C89P50ThinF_IMG_20150820_162813_cell_115.png',\n",
       " 'C89P50ThinF_IMG_20150820_162813_cell_118.png',\n",
       " 'C89P50ThinF_IMG_20150820_162813_cell_128.png',\n",
       " 'C89P50ThinF_IMG_20150820_162813_cell_155.png',\n",
       " 'C89P50ThinF_IMG_20150820_162813_cell_191.png',\n",
       " 'C89P50ThinF_IMG_20150820_162813_cell_46.png',\n",
       " 'C89P50ThinF_IMG_20150820_162813_cell_63.png',\n",
       " 'C89P50ThinF_IMG_20150820_162813_cell_71.png',\n",
       " 'C89P50ThinF_IMG_20150820_162813_cell_78.png',\n",
       " 'C89P50ThinF_IMG_20150820_162813_cell_93.png',\n",
       " 'C89P50ThinF_IMG_20150820_163347_cell_12.png',\n",
       " 'C89P50ThinF_IMG_20150820_163347_cell_13.png',\n",
       " 'C89P50ThinF_IMG_20150820_163347_cell_133.png',\n",
       " 'C89P50ThinF_IMG_20150820_163347_cell_146.png',\n",
       " 'C89P50ThinF_IMG_20150820_163347_cell_158.png',\n",
       " 'C89P50ThinF_IMG_20150820_163347_cell_184.png',\n",
       " 'C89P50ThinF_IMG_20150820_163347_cell_189.png',\n",
       " 'C89P50ThinF_IMG_20150820_163347_cell_191.png',\n",
       " 'C89P50ThinF_IMG_20150820_163347_cell_195.png',\n",
       " 'C89P50ThinF_IMG_20150820_163347_cell_196.png',\n",
       " 'C89P50ThinF_IMG_20150820_163347_cell_80.png',\n",
       " 'C89P50ThinF_IMG_20150820_163728_cell_110.png',\n",
       " 'C89P50ThinF_IMG_20150820_163728_cell_112.png',\n",
       " 'C89P50ThinF_IMG_20150820_163728_cell_139.png',\n",
       " 'C89P50ThinF_IMG_20150820_163728_cell_147.png',\n",
       " 'C89P50ThinF_IMG_20150820_163728_cell_150.png',\n",
       " 'C89P50ThinF_IMG_20150820_163728_cell_20.png',\n",
       " 'C89P50ThinF_IMG_20150820_163728_cell_44.png',\n",
       " 'C89P50ThinF_IMG_20150820_163728_cell_47.png',\n",
       " 'C89P50ThinF_IMG_20150820_163728_cell_5.png',\n",
       " 'C89P50ThinF_IMG_20150820_163728_cell_78.png',\n",
       " 'C90P51ThinF_IMG_20150821_115056_cell_113.png',\n",
       " 'C90P51ThinF_IMG_20150821_115056_cell_12.png',\n",
       " 'C90P51ThinF_IMG_20150821_115056_cell_135.png',\n",
       " 'C90P51ThinF_IMG_20150821_115056_cell_153.png',\n",
       " 'C90P51ThinF_IMG_20150821_115056_cell_190.png',\n",
       " 'C90P51ThinF_IMG_20150821_115056_cell_199.png',\n",
       " 'C90P51ThinF_IMG_20150821_115056_cell_202.png',\n",
       " 'C90P51ThinF_IMG_20150821_115056_cell_208.png',\n",
       " 'C90P51ThinF_IMG_20150821_115056_cell_209.png',\n",
       " 'C90P51ThinF_IMG_20150821_115056_cell_221.png',\n",
       " 'C90P51ThinF_IMG_20150821_115056_cell_224.png',\n",
       " 'C90P51ThinF_IMG_20150821_115056_cell_226.png',\n",
       " 'C90P51ThinF_IMG_20150821_115056_cell_90.png',\n",
       " 'C90P51ThinF_IMG_20150821_115310_cell_10.png',\n",
       " 'C90P51ThinF_IMG_20150821_115310_cell_101.png',\n",
       " 'C90P51ThinF_IMG_20150821_115310_cell_102.png',\n",
       " 'C90P51ThinF_IMG_20150821_115310_cell_12.png',\n",
       " 'C90P51ThinF_IMG_20150821_115310_cell_13.png',\n",
       " 'C90P51ThinF_IMG_20150821_115310_cell_14.png',\n",
       " 'C90P51ThinF_IMG_20150821_115310_cell_155.png',\n",
       " 'C90P51ThinF_IMG_20150821_115310_cell_158.png',\n",
       " 'C90P51ThinF_IMG_20150821_115310_cell_196.png',\n",
       " 'C90P51ThinF_IMG_20150821_115310_cell_22.png',\n",
       " 'C90P51ThinF_IMG_20150821_115310_cell_33.png',\n",
       " 'C90P51ThinF_IMG_20150821_115310_cell_77.png',\n",
       " 'C90P51ThinF_IMG_20150821_115700_cell_15.png',\n",
       " 'C90P51ThinF_IMG_20150821_115700_cell_153.png',\n",
       " 'C90P51ThinF_IMG_20150821_115700_cell_170.png',\n",
       " 'C90P51ThinF_IMG_20150821_115700_cell_181.png',\n",
       " 'C90P51ThinF_IMG_20150821_115700_cell_213.png',\n",
       " 'C90P51ThinF_IMG_20150821_115700_cell_243.png',\n",
       " 'C90P51ThinF_IMG_20150821_115700_cell_252.png',\n",
       " 'C90P51ThinF_IMG_20150821_115700_cell_62.png',\n",
       " 'C90P51ThinF_IMG_20150821_115700_cell_87.png',\n",
       " 'C90P51ThinF_IMG_20150821_115700_cell_89.png',\n",
       " 'C90P51ThinF_IMG_20150821_115700_cell_98.png',\n",
       " 'C90P51ThinF_IMG_20150821_115846_cell_1.png',\n",
       " 'C90P51ThinF_IMG_20150821_115846_cell_106.png',\n",
       " 'C90P51ThinF_IMG_20150821_115846_cell_114.png',\n",
       " 'C90P51ThinF_IMG_20150821_115846_cell_195.png',\n",
       " 'C90P51ThinF_IMG_20150821_115846_cell_196.png',\n",
       " 'C90P51ThinF_IMG_20150821_115846_cell_206.png',\n",
       " 'C90P51ThinF_IMG_20150821_115846_cell_21.png',\n",
       " 'C90P51ThinF_IMG_20150821_115846_cell_43.png',\n",
       " 'C87P48ThinF_IMG_20150820_144714_cell_142.png',\n",
       " 'C87P48ThinF_IMG_20150820_144714_cell_146.png',\n",
       " 'C87P48ThinF_IMG_20150820_144714_cell_15.png',\n",
       " 'C87P48ThinF_IMG_20150820_144714_cell_173.png',\n",
       " 'C87P48ThinF_IMG_20150820_144714_cell_179.png',\n",
       " 'C87P48ThinF_IMG_20150820_144714_cell_192.png',\n",
       " 'C87P48ThinF_IMG_20150820_144714_cell_195.png',\n",
       " 'C87P48ThinF_IMG_20150820_144714_cell_22.png',\n",
       " 'C87P48ThinF_IMG_20150820_144714_cell_24.png',\n",
       " 'C87P48ThinF_IMG_20150820_144714_cell_34.png',\n",
       " 'C87P48ThinF_IMG_20150820_144714_cell_5.png',\n",
       " 'C87P48ThinF_IMG_20150820_144714_cell_90.png',\n",
       " 'C87P48ThinF_IMG_20150820_144855_cell_133.png',\n",
       " 'C87P48ThinF_IMG_20150820_144855_cell_143.png',\n",
       " 'C87P48ThinF_IMG_20150820_144855_cell_147.png',\n",
       " 'C87P48ThinF_IMG_20150820_144855_cell_172.png',\n",
       " 'C87P48ThinF_IMG_20150820_144855_cell_181.png',\n",
       " 'C87P48ThinF_IMG_20150820_144855_cell_39.png',\n",
       " 'C87P48ThinF_IMG_20150820_144855_cell_64.png',\n",
       " 'C87P48ThinF_IMG_20150820_144855_cell_83.png',\n",
       " 'C87P48ThinF_IMG_20150820_144855_cell_84.png',\n",
       " 'C87P48ThinF_IMG_20150820_144855_cell_88.png',\n",
       " 'C87P48ThinF_IMG_20150820_144855_cell_89.png',\n",
       " 'C87P48ThinF_IMG_20150820_144855_cell_96.png',\n",
       " 'C88P49ThinF_IMG_20150820_150141_cell_137.png',\n",
       " 'C88P49ThinF_IMG_20150820_150141_cell_143.png',\n",
       " 'C88P49ThinF_IMG_20150820_150141_cell_16.png',\n",
       " 'C88P49ThinF_IMG_20150820_150141_cell_167.png',\n",
       " 'C88P49ThinF_IMG_20150820_150141_cell_183.png',\n",
       " 'C88P49ThinF_IMG_20150820_150141_cell_211.png',\n",
       " 'C88P49ThinF_IMG_20150820_150141_cell_4.png',\n",
       " 'C88P49ThinF_IMG_20150820_150141_cell_77.png',\n",
       " 'C88P49ThinF_IMG_20150820_150141_cell_79.png',\n",
       " 'C88P49ThinF_IMG_20150820_150141_cell_93.png',\n",
       " 'C88P49ThinF_IMG_20150820_150724_cell_103.png',\n",
       " 'C88P49ThinF_IMG_20150820_150724_cell_104.png',\n",
       " 'C88P49ThinF_IMG_20150820_150724_cell_129.png',\n",
       " 'C88P49ThinF_IMG_20150820_150724_cell_161.png',\n",
       " 'C88P49ThinF_IMG_20150820_150724_cell_163.png',\n",
       " 'C88P49ThinF_IMG_20150820_150724_cell_182.png',\n",
       " 'C88P49ThinF_IMG_20150820_150724_cell_190.png',\n",
       " 'C88P49ThinF_IMG_20150820_150724_cell_199.png',\n",
       " 'C88P49ThinF_IMG_20150820_150724_cell_208.png',\n",
       " 'C88P49ThinF_IMG_20150820_150724_cell_62.png',\n",
       " 'C88P49ThinF_IMG_20150820_150724_cell_97.png',\n",
       " 'C88P49ThinF_IMG_20150820_151451_cell_150.png',\n",
       " 'C88P49ThinF_IMG_20150820_151451_cell_158.png',\n",
       " 'C88P49ThinF_IMG_20150820_151451_cell_160.png',\n",
       " 'C88P49ThinF_IMG_20150820_151451_cell_170.png',\n",
       " 'C88P49ThinF_IMG_20150820_151451_cell_183.png',\n",
       " 'C88P49ThinF_IMG_20150820_151451_cell_185.png',\n",
       " 'C88P49ThinF_IMG_20150820_151451_cell_46.png',\n",
       " 'C88P49ThinF_IMG_20150820_151451_cell_56.png',\n",
       " 'C88P49ThinF_IMG_20150820_151451_cell_61.png',\n",
       " 'C88P49ThinF_IMG_20150820_151451_cell_89.png',\n",
       " 'C88P49ThinF_IMG_20150820_151451_cell_9.png',\n",
       " 'C88P49ThinF_IMG_20150820_151451_cell_99.png',\n",
       " 'C88P49ThinF_IMG_20150820_151626_cell_10.png',\n",
       " 'C88P49ThinF_IMG_20150820_151626_cell_125.png',\n",
       " 'C88P49ThinF_IMG_20150820_151626_cell_130.png',\n",
       " 'C88P49ThinF_IMG_20150820_151626_cell_15.png',\n",
       " 'C88P49ThinF_IMG_20150820_151626_cell_160.png',\n",
       " 'C88P49ThinF_IMG_20150820_151626_cell_180.png',\n",
       " 'C88P49ThinF_IMG_20150820_151626_cell_181.png',\n",
       " 'C88P49ThinF_IMG_20150820_151626_cell_5.png',\n",
       " 'C88P49ThinF_IMG_20150820_151626_cell_60.png',\n",
       " 'C88P49ThinF_IMG_20150820_151626_cell_72.png',\n",
       " 'C88P49ThinF_IMG_20150820_151626_cell_9.png',\n",
       " 'C88P49ThinF_IMG_20150820_152521_cell_110.png',\n",
       " 'C88P49ThinF_IMG_20150820_152521_cell_159.png',\n",
       " 'C88P49ThinF_IMG_20150820_152521_cell_171.png',\n",
       " 'C88P49ThinF_IMG_20150820_152521_cell_197.png',\n",
       " 'C88P49ThinF_IMG_20150820_152521_cell_204.png',\n",
       " 'C88P49ThinF_IMG_20150820_152521_cell_216.png',\n",
       " 'C88P49ThinF_IMG_20150820_152521_cell_59.png',\n",
       " 'C88P49ThinF_IMG_20150820_152521_cell_88.png',\n",
       " 'C88P49ThinF_IMG_20150820_152521_cell_91.png',\n",
       " 'C88P49ThinF_IMG_20150820_153042_cell_113.png',\n",
       " 'C88P49ThinF_IMG_20150820_153042_cell_115.png',\n",
       " 'C88P49ThinF_IMG_20150820_153042_cell_146.png',\n",
       " 'C88P49ThinF_IMG_20150820_153042_cell_15.png',\n",
       " 'C88P49ThinF_IMG_20150820_153042_cell_155.png',\n",
       " 'C88P49ThinF_IMG_20150820_153042_cell_163.png',\n",
       " 'C88P49ThinF_IMG_20150820_153042_cell_191.png',\n",
       " 'C88P49ThinF_IMG_20150820_153042_cell_46.png',\n",
       " 'C88P49ThinF_IMG_20150820_153042_cell_65.png',\n",
       " 'C89P50ThinF_IMG_20150820_162153_cell_110.png',\n",
       " 'C89P50ThinF_IMG_20150820_162153_cell_153.png',\n",
       " 'C89P50ThinF_IMG_20150820_162153_cell_168.png',\n",
       " 'C89P50ThinF_IMG_20150820_162153_cell_2.png',\n",
       " 'C89P50ThinF_IMG_20150820_162153_cell_35.png',\n",
       " 'C89P50ThinF_IMG_20150820_162153_cell_73.png',\n",
       " 'C89P50ThinF_IMG_20150820_162153_cell_80.png',\n",
       " 'C89P50ThinF_IMG_20150820_162153_cell_96.png',\n",
       " 'C89P50ThinF_IMG_20150820_162153_cell_99.png',\n",
       " 'C89P50ThinF_IMG_20150820_162300_cell_1.png',\n",
       " 'C86P47ThinF_IMG_20150820_123717_cell_203.png',\n",
       " 'C86P47ThinF_IMG_20150820_123717_cell_213.png',\n",
       " 'C86P47ThinF_IMG_20150820_123717_cell_231.png',\n",
       " 'C86P47ThinF_IMG_20150820_123717_cell_6.png',\n",
       " 'C86P47ThinF_IMG_20150820_123717_cell_63.png',\n",
       " 'C86P47ThinF_IMG_20150820_123717_cell_93.png',\n",
       " 'C86P47ThinF_IMG_20150820_123717_cell_98.png',\n",
       " 'C86P47ThinF_IMG_20150820_124025_cell_106.png',\n",
       " 'C86P47ThinF_IMG_20150820_124025_cell_116.png',\n",
       " 'C86P47ThinF_IMG_20150820_124025_cell_128.png',\n",
       " 'C86P47ThinF_IMG_20150820_124025_cell_153.png',\n",
       " 'C86P47ThinF_IMG_20150820_124025_cell_198.png',\n",
       " 'C86P47ThinF_IMG_20150820_124025_cell_26.png',\n",
       " 'C86P47ThinF_IMG_20150820_124025_cell_43.png',\n",
       " 'C86P47ThinF_IMG_20150820_124025_cell_44.png',\n",
       " 'C86P47ThinF_IMG_20150820_124025_cell_56.png',\n",
       " 'C86P47ThinF_IMG_20150820_124025_cell_71.png',\n",
       " 'C86P47ThinF_IMG_20150820_124025_cell_82.png',\n",
       " 'C86P47ThinF_IMG_20150820_124025_cell_83.png',\n",
       " 'C86P47ThinF_IMG_20150820_124259_cell_119.png',\n",
       " 'C86P47ThinF_IMG_20150820_124259_cell_123.png',\n",
       " 'C86P47ThinF_IMG_20150820_124259_cell_124.png',\n",
       " 'C86P47ThinF_IMG_20150820_124259_cell_126.png',\n",
       " 'C86P47ThinF_IMG_20150820_124259_cell_134.png',\n",
       " 'C86P47ThinF_IMG_20150820_124259_cell_172.png',\n",
       " 'C86P47ThinF_IMG_20150820_124259_cell_189.png',\n",
       " 'C86P47ThinF_IMG_20150820_124259_cell_194.png',\n",
       " 'C86P47ThinF_IMG_20150820_124259_cell_196.png',\n",
       " 'C86P47ThinF_IMG_20150820_124259_cell_210.png',\n",
       " 'C86P47ThinF_IMG_20150820_124259_cell_52.png',\n",
       " 'C86P47ThinF_IMG_20150820_124259_cell_73.png',\n",
       " 'C86P47ThinF_IMG_20150820_124259_cell_94.png',\n",
       " 'C86P47ThinF_IMG_20150820_124943_cell_108.png',\n",
       " 'C86P47ThinF_IMG_20150820_124943_cell_168.png',\n",
       " 'C86P47ThinF_IMG_20150820_124943_cell_186.png',\n",
       " 'C86P47ThinF_IMG_20150820_124943_cell_207.png',\n",
       " 'C86P47ThinF_IMG_20150820_124943_cell_40.png',\n",
       " 'C86P47ThinF_IMG_20150820_124943_cell_51.png',\n",
       " 'C86P47ThinF_IMG_20150820_124943_cell_78.png',\n",
       " 'C86P47ThinF_IMG_20150820_124943_cell_90.png',\n",
       " 'C86P47ThinF_IMG_20150820_125057_cell_142.png',\n",
       " 'C86P47ThinF_IMG_20150820_125057_cell_149.png',\n",
       " 'C86P47ThinF_IMG_20150820_125057_cell_169.png',\n",
       " 'C86P47ThinF_IMG_20150820_125057_cell_173.png',\n",
       " 'C86P47ThinF_IMG_20150820_125057_cell_19.png',\n",
       " 'C86P47ThinF_IMG_20150820_125057_cell_205.png',\n",
       " 'C86P47ThinF_IMG_20150820_125057_cell_208.png',\n",
       " 'C86P47ThinF_IMG_20150820_125057_cell_212.png',\n",
       " 'C86P47ThinF_IMG_20150820_125057_cell_35.png',\n",
       " 'C86P47ThinF_IMG_20150820_125057_cell_46.png',\n",
       " 'C86P47ThinF_IMG_20150820_125057_cell_62.png',\n",
       " 'C86P47ThinF_IMG_20150820_125057_cell_73.png',\n",
       " 'C86P47ThinF_IMG_20150820_125057_cell_98.png',\n",
       " 'C87P48ThinF_IMG_20150820_132327_cell_100.png',\n",
       " 'C87P48ThinF_IMG_20150820_132327_cell_102.png',\n",
       " 'C87P48ThinF_IMG_20150820_132327_cell_110.png',\n",
       " 'C87P48ThinF_IMG_20150820_132327_cell_122.png',\n",
       " 'C87P48ThinF_IMG_20150820_132327_cell_133.png',\n",
       " 'C87P48ThinF_IMG_20150820_132327_cell_138.png',\n",
       " 'C87P48ThinF_IMG_20150820_132327_cell_31.png',\n",
       " 'C87P48ThinF_IMG_20150820_132327_cell_5.png',\n",
       " 'C87P48ThinF_IMG_20150820_132327_cell_7.png',\n",
       " 'C87P48ThinF_IMG_20150820_132327_cell_85.png',\n",
       " 'C87P48ThinF_IMG_20150820_132327_cell_86.png',\n",
       " 'C87P48ThinF_IMG_20150820_132327_cell_89.png',\n",
       " 'C87P48ThinF_IMG_20150820_132514_cell_10.png',\n",
       " 'C87P48ThinF_IMG_20150820_132514_cell_110.png',\n",
       " 'C87P48ThinF_IMG_20150820_132514_cell_133.png',\n",
       " 'C87P48ThinF_IMG_20150820_132514_cell_150.png',\n",
       " 'C87P48ThinF_IMG_20150820_132514_cell_173.png',\n",
       " 'C87P48ThinF_IMG_20150820_132514_cell_177.png',\n",
       " 'C87P48ThinF_IMG_20150820_132514_cell_179.png',\n",
       " 'C87P48ThinF_IMG_20150820_132514_cell_181.png',\n",
       " 'C87P48ThinF_IMG_20150820_132514_cell_37.png',\n",
       " 'C87P48ThinF_IMG_20150820_132514_cell_94.png',\n",
       " 'C87P48ThinF_IMG_20150820_132642_cell_119.png',\n",
       " 'C87P48ThinF_IMG_20150820_132642_cell_137.png',\n",
       " 'C87P48ThinF_IMG_20150820_132642_cell_150.png',\n",
       " 'C87P48ThinF_IMG_20150820_132642_cell_160.png',\n",
       " 'C87P48ThinF_IMG_20150820_132642_cell_40.png',\n",
       " 'C87P48ThinF_IMG_20150820_132642_cell_5.png',\n",
       " 'C87P48ThinF_IMG_20150820_132642_cell_83.png',\n",
       " 'C87P48ThinF_IMG_20150820_132642_cell_85.png',\n",
       " 'C87P48ThinF_IMG_20150820_132642_cell_92.png',\n",
       " 'C87P48ThinF_IMG_20150820_132642_cell_94.png',\n",
       " 'C87P48ThinF_IMG_20150820_132642_cell_99.png',\n",
       " 'C87P48ThinF_IMG_20150820_141913_cell_121.png',\n",
       " 'C87P48ThinF_IMG_20150820_141913_cell_134.png',\n",
       " 'C87P48ThinF_IMG_20150820_141913_cell_147.png',\n",
       " 'C87P48ThinF_IMG_20150820_141913_cell_150.png',\n",
       " 'C87P48ThinF_IMG_20150820_141913_cell_165.png',\n",
       " 'C87P48ThinF_IMG_20150820_141913_cell_167.png',\n",
       " 'C87P48ThinF_IMG_20150820_141913_cell_172.png',\n",
       " 'C87P48ThinF_IMG_20150820_141913_cell_47.png',\n",
       " 'C87P48ThinF_IMG_20150820_141913_cell_64.png',\n",
       " 'C87P48ThinF_IMG_20150820_141913_cell_65.png',\n",
       " 'C84P45ThinF_IMG_20150818_101550_cell_82.png',\n",
       " 'C84P45ThinF_IMG_20150818_101550_cell_83.png',\n",
       " 'C84P45ThinF_IMG_20150818_102325_cell_1.png',\n",
       " 'C84P45ThinF_IMG_20150818_102325_cell_20.png',\n",
       " 'C84P45ThinF_IMG_20150818_102325_cell_49.png',\n",
       " 'C84P45ThinF_IMG_20150818_102325_cell_5.png',\n",
       " 'C84P45ThinF_IMG_20150818_102325_cell_6.png',\n",
       " 'C84P45ThinF_IMG_20150818_102325_cell_63.png',\n",
       " 'C84P45ThinF_IMG_20150818_102325_cell_64.png',\n",
       " 'C84P45ThinF_IMG_20150818_102325_cell_80.png',\n",
       " 'C84P45ThinF_IMG_20150818_102507_cell_34.png',\n",
       " 'C84P45ThinF_IMG_20150818_102507_cell_38.png',\n",
       " 'C84P45ThinF_IMG_20150818_102507_cell_43.png',\n",
       " 'C84P45ThinF_IMG_20150818_102507_cell_57.png',\n",
       " 'C84P45ThinF_IMG_20150818_102507_cell_60.png',\n",
       " 'C84P45ThinF_IMG_20150818_102507_cell_63.png',\n",
       " 'C84P45ThinF_IMG_20150818_102507_cell_75.png',\n",
       " 'C84P45ThinF_IMG_20150818_102654_cell_2.png',\n",
       " 'C84P45ThinF_IMG_20150818_102654_cell_21.png',\n",
       " 'C84P45ThinF_IMG_20150818_102654_cell_26.png',\n",
       " 'C84P45ThinF_IMG_20150818_102654_cell_42.png',\n",
       " 'C84P45ThinF_IMG_20150818_102654_cell_50.png',\n",
       " 'C84P45ThinF_IMG_20150818_104156_cell_107.png',\n",
       " 'C84P45ThinF_IMG_20150818_104156_cell_39.png',\n",
       " 'C84P45ThinF_IMG_20150818_104156_cell_48.png',\n",
       " 'C84P45ThinF_IMG_20150818_104156_cell_50.png',\n",
       " 'C84P45ThinF_IMG_20150818_104156_cell_57.png',\n",
       " 'C84P45ThinF_IMG_20150818_104156_cell_76.png',\n",
       " 'C84P45ThinF_IMG_20150818_104156_cell_80.png',\n",
       " 'C85P46ThinF_IMG_20150820_105154_cell_1.png',\n",
       " 'C85P46ThinF_IMG_20150820_105154_cell_104.png',\n",
       " 'C85P46ThinF_IMG_20150820_105154_cell_129.png',\n",
       " 'C85P46ThinF_IMG_20150820_105154_cell_146.png',\n",
       " 'C85P46ThinF_IMG_20150820_105154_cell_174.png',\n",
       " 'C85P46ThinF_IMG_20150820_105154_cell_187.png',\n",
       " 'C85P46ThinF_IMG_20150820_105154_cell_200.png',\n",
       " 'C85P46ThinF_IMG_20150820_105154_cell_208.png',\n",
       " 'C85P46ThinF_IMG_20150820_105154_cell_25.png',\n",
       " 'C85P46ThinF_IMG_20150820_105154_cell_36.png',\n",
       " 'C85P46ThinF_IMG_20150820_105154_cell_62.png',\n",
       " 'C85P46ThinF_IMG_20150820_105154_cell_65.png',\n",
       " 'C85P46ThinF_IMG_20150820_105154_cell_68.png',\n",
       " 'C85P46ThinF_IMG_20150820_105301_cell_110.png',\n",
       " 'C85P46ThinF_IMG_20150820_105301_cell_124.png',\n",
       " 'C85P46ThinF_IMG_20150820_105301_cell_127.png',\n",
       " 'C85P46ThinF_IMG_20150820_105301_cell_145.png',\n",
       " 'C85P46ThinF_IMG_20150820_105301_cell_148.png',\n",
       " 'C85P46ThinF_IMG_20150820_105301_cell_163.png',\n",
       " 'C85P46ThinF_IMG_20150820_105301_cell_219.png',\n",
       " 'C85P46ThinF_IMG_20150820_105301_cell_34.png',\n",
       " 'C85P46ThinF_IMG_20150820_105301_cell_55.png',\n",
       " 'C85P46ThinF_IMG_20150820_105301_cell_63.png',\n",
       " 'C85P46ThinF_IMG_20150820_105301_cell_80.png',\n",
       " 'C85P46ThinF_IMG_20150820_105748_cell_10.png',\n",
       " 'C85P46ThinF_IMG_20150820_105748_cell_123.png',\n",
       " 'C85P46ThinF_IMG_20150820_105748_cell_128.png',\n",
       " 'C85P46ThinF_IMG_20150820_105748_cell_15.png',\n",
       " 'C85P46ThinF_IMG_20150820_105748_cell_159.png',\n",
       " 'C85P46ThinF_IMG_20150820_105748_cell_201.png',\n",
       " 'C85P46ThinF_IMG_20150820_105748_cell_217.png',\n",
       " 'C85P46ThinF_IMG_20150820_105748_cell_231.png',\n",
       " 'C85P46ThinF_IMG_20150820_105748_cell_49.png',\n",
       " 'C85P46ThinF_IMG_20150820_105748_cell_5.png',\n",
       " 'C85P46ThinF_IMG_20150820_105748_cell_63.png',\n",
       " 'C85P46ThinF_IMG_20150820_105748_cell_79.png',\n",
       " 'C85P46ThinF_IMG_20150820_105748_cell_92.png',\n",
       " 'C85P46ThinF_IMG_20150820_110040_cell_128.png',\n",
       " 'C85P46ThinF_IMG_20150820_110040_cell_157.png',\n",
       " 'C85P46ThinF_IMG_20150820_110040_cell_173.png',\n",
       " 'C85P46ThinF_IMG_20150820_110040_cell_182.png',\n",
       " 'C85P46ThinF_IMG_20150820_110040_cell_185.png',\n",
       " 'C85P46ThinF_IMG_20150820_110040_cell_222.png',\n",
       " 'C85P46ThinF_IMG_20150820_110040_cell_233.png',\n",
       " 'C85P46ThinF_IMG_20150820_110040_cell_40.png',\n",
       " 'C85P46ThinF_IMG_20150820_110040_cell_41.png',\n",
       " 'C85P46ThinF_IMG_20150820_110040_cell_99.png',\n",
       " 'C85P46ThinF_IMG_20150820_110143_cell_102.png',\n",
       " 'C85P46ThinF_IMG_20150820_110143_cell_110.png',\n",
       " 'C85P46ThinF_IMG_20150820_110143_cell_111.png',\n",
       " 'C85P46ThinF_IMG_20150820_110143_cell_125.png',\n",
       " 'C85P46ThinF_IMG_20150820_110143_cell_132.png',\n",
       " 'C85P46ThinF_IMG_20150820_110143_cell_135.png',\n",
       " 'C85P46ThinF_IMG_20150820_110143_cell_154.png',\n",
       " 'C85P46ThinF_IMG_20150820_110143_cell_159.png',\n",
       " 'C85P46ThinF_IMG_20150820_110143_cell_163.png',\n",
       " 'C85P46ThinF_IMG_20150820_110143_cell_184.png',\n",
       " 'C85P46ThinF_IMG_20150820_110143_cell_20.png',\n",
       " 'C85P46ThinF_IMG_20150820_110143_cell_201.png',\n",
       " 'C85P46ThinF_IMG_20150820_110143_cell_49.png',\n",
       " 'C86P47ThinF_IMG_20150820_123717_cell_103.png',\n",
       " 'C86P47ThinF_IMG_20150820_123717_cell_115.png',\n",
       " 'C86P47ThinF_IMG_20150820_123717_cell_136.png',\n",
       " 'C86P47ThinF_IMG_20150820_123717_cell_137.png',\n",
       " 'C86P47ThinF_IMG_20150820_123717_cell_153.png',\n",
       " 'C86P47ThinF_IMG_20150820_123717_cell_170.png',\n",
       " 'C86P47ThinF_IMG_20150820_123717_cell_190.png',\n",
       " 'C83P44ThinF_IMG_20150817_133218_cell_169.png',\n",
       " 'C83P44ThinF_IMG_20150817_133218_cell_31.png',\n",
       " 'C83P44ThinF_IMG_20150817_133218_cell_43.png',\n",
       " 'C83P44ThinF_IMG_20150817_133218_cell_72.png',\n",
       " 'C83P44ThinF_IMG_20150817_133355_cell_1.png',\n",
       " 'C83P44ThinF_IMG_20150817_133355_cell_118.png',\n",
       " 'C83P44ThinF_IMG_20150817_133355_cell_127.png',\n",
       " 'C83P44ThinF_IMG_20150817_133355_cell_144.png',\n",
       " 'C83P44ThinF_IMG_20150817_133355_cell_147.png',\n",
       " 'C83P44ThinF_IMG_20150817_133355_cell_150.png',\n",
       " 'C83P44ThinF_IMG_20150817_133355_cell_169.png',\n",
       " 'C83P44ThinF_IMG_20150817_133355_cell_175.png',\n",
       " 'C83P44ThinF_IMG_20150817_133355_cell_82.png',\n",
       " 'C83P44ThinF_IMG_20150817_133454_cell_100.png',\n",
       " 'C83P44ThinF_IMG_20150817_133454_cell_171.png',\n",
       " 'C83P44ThinF_IMG_20150817_133454_cell_20.png',\n",
       " 'C83P44ThinF_IMG_20150817_133454_cell_22.png',\n",
       " 'C83P44ThinF_IMG_20150817_133454_cell_28.png',\n",
       " 'C83P44ThinF_IMG_20150817_133454_cell_4.png',\n",
       " 'C83P44ThinF_IMG_20150817_133454_cell_61.png',\n",
       " 'C83P44ThinF_IMG_20150817_133454_cell_71.png',\n",
       " 'C83P44ThinF_IMG_20150817_133454_cell_73.png',\n",
       " 'C83P44ThinF_IMG_20150817_133454_cell_86.png',\n",
       " 'C83P44ThinF_IMG_20150817_133609_cell_118.png',\n",
       " 'C83P44ThinF_IMG_20150817_133609_cell_13.png',\n",
       " 'C83P44ThinF_IMG_20150817_133609_cell_148.png',\n",
       " 'C83P44ThinF_IMG_20150817_133609_cell_43.png',\n",
       " 'C83P44ThinF_IMG_20150817_133609_cell_59.png',\n",
       " 'C83P44ThinF_IMG_20150817_133609_cell_61.png',\n",
       " 'C83P44ThinF_IMG_20150817_133609_cell_68.png',\n",
       " 'C83P44ThinF_IMG_20150817_133609_cell_82.png',\n",
       " 'C83P44ThinF_IMG_20150817_133609_cell_88.png',\n",
       " 'C83P44ThinF_IMG_20150817_133609_cell_99.png',\n",
       " 'C83P44ThinF_IMG_20150817_134331_cell_1.png',\n",
       " 'C83P44ThinF_IMG_20150817_134331_cell_103.png',\n",
       " 'C83P44ThinF_IMG_20150817_134331_cell_114.png',\n",
       " 'C83P44ThinF_IMG_20150817_134331_cell_122.png',\n",
       " 'C83P44ThinF_IMG_20150817_134331_cell_194.png',\n",
       " 'C83P44ThinF_IMG_20150817_134331_cell_39.png',\n",
       " 'C83P44ThinF_IMG_20150817_134331_cell_47.png',\n",
       " 'C83P44ThinF_IMG_20150817_134331_cell_63.png',\n",
       " 'C83P44ThinF_IMG_20150817_134331_cell_90.png',\n",
       " 'C83P44ThinF_IMG_20150817_134331_cell_92.png',\n",
       " 'C83P44ThinF_IMG_20150817_134820_cell_100.png',\n",
       " 'C83P44ThinF_IMG_20150817_134820_cell_13.png',\n",
       " 'C83P44ThinF_IMG_20150817_134820_cell_131.png',\n",
       " 'C83P44ThinF_IMG_20150817_134820_cell_159.png',\n",
       " 'C83P44ThinF_IMG_20150817_134820_cell_164.png',\n",
       " 'C83P44ThinF_IMG_20150817_134820_cell_182.png',\n",
       " 'C83P44ThinF_IMG_20150817_134820_cell_49.png',\n",
       " ...]"
      ]
     },
     "execution_count": 29,
     "metadata": {},
     "output_type": "execute_result"
    }
   ],
   "source": [
    "os.listdir(uninfected_cell)"
   ]
  },
  {
   "cell_type": "code",
   "execution_count": 30,
   "metadata": {},
   "outputs": [
    {
     "data": {
      "text/plain": [
       "'C98P59ThinF_IMG_20150917_153938_cell_111.png'"
      ]
     },
     "execution_count": 30,
     "metadata": {},
     "output_type": "execute_result"
    }
   ],
   "source": [
    "os.listdir(uninfected_cell)[0]"
   ]
  },
  {
   "cell_type": "code",
   "execution_count": 32,
   "metadata": {},
   "outputs": [
    {
     "data": {
      "text/plain": [
       "<matplotlib.image.AxesImage at 0x7f1f4aedf190>"
      ]
     },
     "execution_count": 32,
     "metadata": {},
     "output_type": "execute_result"
    },
    {
     "data": {
      "image/png": "[encoded data removed]",
      "text/plain": [
       "<Figure size 432x288 with 1 Axes>"
      ]
     },
     "metadata": {
      "needs_background": "light"
     },
     "output_type": "display_data"
    }
   ],
   "source": [
    "plt.imshow(imread(uninfected_cell+'/C98P59ThinF_IMG_20150917_153938_cell_111.png'))"
   ]
  },
  {
   "cell_type": "code",
   "execution_count": 33,
   "metadata": {},
   "outputs": [
    {
     "data": {
      "text/plain": [
       "12480"
      ]
     },
     "execution_count": 33,
     "metadata": {},
     "output_type": "execute_result"
    }
   ],
   "source": [
    "len(os.listdir(train_path+'parasitized'))"
   ]
  },
  {
   "cell_type": "code",
   "execution_count": 34,
   "metadata": {},
   "outputs": [
    {
     "data": {
      "text/plain": [
       "12480"
      ]
     },
     "execution_count": 34,
     "metadata": {},
     "output_type": "execute_result"
    }
   ],
   "source": [
    "len(os.listdir(train_path+'uninfected'))"
   ]
  },
  {
   "cell_type": "code",
   "execution_count": 35,
   "metadata": {},
   "outputs": [
    {
     "data": {
      "text/plain": [
       "1300"
      ]
     },
     "execution_count": 35,
     "metadata": {},
     "output_type": "execute_result"
    }
   ],
   "source": [
    "len(os.listdir(test_path+'parasitized'))"
   ]
  },
  {
   "cell_type": "code",
   "execution_count": 36,
   "metadata": {},
   "outputs": [
    {
     "data": {
      "text/plain": [
       "1300"
      ]
     },
     "execution_count": 36,
     "metadata": {},
     "output_type": "execute_result"
    }
   ],
   "source": [
    "len(os.listdir(test_path+'uninfected'))"
   ]
  },
  {
   "cell_type": "code",
   "execution_count": 37,
   "metadata": {},
   "outputs": [],
   "source": [
    "dim1=[]\n",
    "dim2=[]"
   ]
  },
  {
   "cell_type": "code",
   "execution_count": 40,
   "metadata": {},
   "outputs": [],
   "source": [
    "for image_filename in os.listdir(test_path+'uninfected'):\n",
    "    img =imread(test_path+'uninfected/'+image_filename)\n",
    "    d1,d2,colors = img.shape\n",
    "    dim1.append(d1)\n",
    "    dim2.append(d2)"
   ]
  },
  {
   "cell_type": "code",
   "execution_count": 44,
   "metadata": {},
   "outputs": [
    {
     "data": {
      "text/plain": [
       "<seaborn.axisgrid.JointGrid at 0x7f1f4a99d790>"
      ]
     },
     "execution_count": 44,
     "metadata": {},
     "output_type": "execute_result"
    },
    {
     "data": {
      "image/png": "[encoded data removed]",
      "text/plain": [
       "<Figure size 432x432 with 3 Axes>"
      ]
     },
     "metadata": {
      "needs_background": "light"
     },
     "output_type": "display_data"
    }
   ],
   "source": [
    "sns.jointplot(dim1,dim2)"
   ]
  },
  {
   "cell_type": "code",
   "execution_count": 45,
   "metadata": {},
   "outputs": [
    {
     "data": {
      "text/plain": [
       "(130.92538461538462, 130.75)"
      ]
     },
     "execution_count": 45,
     "metadata": {},
     "output_type": "execute_result"
    }
   ],
   "source": [
    "np.mean(dim1),np.mean(dim2)"
   ]
  },
  {
   "cell_type": "code",
   "execution_count": 46,
   "metadata": {},
   "outputs": [],
   "source": [
    "image_shape=(130,130,3)"
   ]
  },
  {
   "cell_type": "code",
   "execution_count": 47,
   "metadata": {},
   "outputs": [],
   "source": [
    "from tensorflow.keras.preprocessing.image import ImageDataGenerator"
   ]
  },
  {
   "cell_type": "code",
   "execution_count": 48,
   "metadata": {
    "scrolled": true
   },
   "outputs": [
    {
     "name": "stdout",
     "output_type": "stream",
     "text": [
      "Help on class ImageDataGenerator in module tensorflow.python.keras.preprocessing.image:\n",
      "\n",
      "class ImageDataGenerator(keras_preprocessing.image.image_data_generator.ImageDataGenerator)\n",
      " |  ImageDataGenerator(featurewise_center=False, samplewise_center=False, featurewise_std_normalization=False, samplewise_std_normalization=False, zca_whitening=False, zca_epsilon=1e-06, rotation_range=0, width_shift_range=0.0, height_shift_range=0.0, brightness_range=None, shear_range=0.0, zoom_range=0.0, channel_shift_range=0.0, fill_mode='nearest', cval=0.0, horizontal_flip=False, vertical_flip=False, rescale=None, preprocessing_function=None, data_format=None, validation_split=0.0, dtype=None)\n",
      " |  \n",
      " |  Generate batches of tensor image data with real-time data augmentation.\n",
      " |  \n",
      " |   The data will be looped over (in batches).\n",
      " |  \n",
      " |  Arguments:\n",
      " |      featurewise_center: Boolean.\n",
      " |          Set input mean to 0 over the dataset, feature-wise.\n",
      " |      samplewise_center: Boolean. Set each sample mean to 0.\n",
      " |      featurewise_std_normalization: Boolean.\n",
      " |          Divide inputs by std of the dataset, feature-wise.\n",
      " |      samplewise_std_normalization: Boolean. Divide each input by its std.\n",
      " |      zca_epsilon: epsilon for ZCA whitening. Default is 1e-6.\n",
      " |      zca_whitening: Boolean. Apply ZCA whitening.\n",
      " |      rotation_range: Int. Degree range for random rotations.\n",
      " |      width_shift_range: Float, 1-D array-like or int\n",
      " |          - float: fraction of total width, if < 1, or pixels if >= 1.\n",
      " |          - 1-D array-like: random elements from the array.\n",
      " |          - int: integer number of pixels from interval\n",
      " |              `(-width_shift_range, +width_shift_range)`\n",
      " |          - With `width_shift_range=2` possible values\n",
      " |              are integers `[-1, 0, +1]`,\n",
      " |              same as with `width_shift_range=[-1, 0, +1]`,\n",
      " |              while with `width_shift_range=1.0` possible values are floats\n",
      " |              in the interval [-1.0, +1.0).\n",
      " |      height_shift_range: Float, 1-D array-like or int\n",
      " |          - float: fraction of total height, if < 1, or pixels if >= 1.\n",
      " |          - 1-D array-like: random elements from the array.\n",
      " |          - int: integer number of pixels from interval\n",
      " |              `(-height_shift_range, +height_shift_range)`\n",
      " |          - With `height_shift_range=2` possible values\n",
      " |              are integers `[-1, 0, +1]`,\n",
      " |              same as with `height_shift_range=[-1, 0, +1]`,\n",
      " |              while with `height_shift_range=1.0` possible values are floats\n",
      " |              in the interval [-1.0, +1.0).\n",
      " |      brightness_range: Tuple or list of two floats. Range for picking\n",
      " |          a brightness shift value from.\n",
      " |      shear_range: Float. Shear Intensity\n",
      " |          (Shear angle in counter-clockwise direction in degrees)\n",
      " |      zoom_range: Float or [lower, upper]. Range for random zoom.\n",
      " |          If a float, `[lower, upper] = [1-zoom_range, 1+zoom_range]`.\n",
      " |      channel_shift_range: Float. Range for random channel shifts.\n",
      " |      fill_mode: One of {\"constant\", \"nearest\", \"reflect\" or \"wrap\"}.\n",
      " |          Default is 'nearest'.\n",
      " |          Points outside the boundaries of the input are filled\n",
      " |          according to the given mode:\n",
      " |          - 'constant': kkkkkkkk|abcd|kkkkkkkk (cval=k)\n",
      " |          - 'nearest':  aaaaaaaa|abcd|dddddddd\n",
      " |          - 'reflect':  abcddcba|abcd|dcbaabcd\n",
      " |          - 'wrap':  abcdabcd|abcd|abcdabcd\n",
      " |      cval: Float or Int.\n",
      " |          Value used for points outside the boundaries\n",
      " |          when `fill_mode = \"constant\"`.\n",
      " |      horizontal_flip: Boolean. Randomly flip inputs horizontally.\n",
      " |      vertical_flip: Boolean. Randomly flip inputs vertically.\n",
      " |      rescale: rescaling factor. Defaults to None.\n",
      " |          If None or 0, no rescaling is applied,\n",
      " |          otherwise we multiply the data by the value provided\n",
      " |          (after applying all other transformations).\n",
      " |      preprocessing_function: function that will be implied on each input.\n",
      " |          The function will run after the image is resized and augmented.\n",
      " |          The function should take one argument:\n",
      " |          one image (Numpy tensor with rank 3),\n",
      " |          and should output a Numpy tensor with the same shape.\n",
      " |      data_format: Image data format,\n",
      " |          either \"channels_first\" or \"channels_last\".\n",
      " |          \"channels_last\" mode means that the images should have shape\n",
      " |          `(samples, height, width, channels)`,\n",
      " |          \"channels_first\" mode means that the images should have shape\n",
      " |          `(samples, channels, height, width)`.\n",
      " |          It defaults to the `image_data_format` value found in your\n",
      " |          Keras config file at `~/.keras/keras.json`.\n",
      " |          If you never set it, then it will be \"channels_last\".\n",
      " |      validation_split: Float. Fraction of images reserved for validation\n",
      " |          (strictly between 0 and 1).\n",
      " |      dtype: Dtype to use for the generated arrays.\n",
      " |  \n",
      " |  Examples:\n",
      " |  \n",
      " |  Example of using `.flow(x, y)`:\n",
      " |  \n",
      " |  ```python\n",
      " |  (x_train, y_train), (x_test, y_test) = cifar10.load_data()\n",
      " |  y_train = np_utils.to_categorical(y_train, num_classes)\n",
      " |  y_test = np_utils.to_categorical(y_test, num_classes)\n",
      " |  datagen = ImageDataGenerator(\n",
      " |      featurewise_center=True,\n",
      " |      featurewise_std_normalization=True,\n",
      " |      rotation_range=20,\n",
      " |      width_shift_range=0.2,\n",
      " |      height_shift_range=0.2,\n",
      " |      horizontal_flip=True)\n",
      " |  # compute quantities required for featurewise normalization\n",
      " |  # (std, mean, and principal components if ZCA whitening is applied)\n",
      " |  datagen.fit(x_train)\n",
      " |  # fits the model on batches with real-time data augmentation:\n",
      " |  model.fit_generator(datagen.flow(x_train, y_train, batch_size=32),\n",
      " |                      steps_per_epoch=len(x_train) / 32, epochs=epochs)\n",
      " |  # here's a more \"manual\" example\n",
      " |  for e in range(epochs):\n",
      " |      print('Epoch', e)\n",
      " |      batches = 0\n",
      " |      for x_batch, y_batch in datagen.flow(x_train, y_train, batch_size=32):\n",
      " |          model.fit(x_batch, y_batch)\n",
      " |          batches += 1\n",
      " |          if batches >= len(x_train) / 32:\n",
      " |              # we need to break the loop by hand because\n",
      " |              # the generator loops indefinitely\n",
      " |              break\n",
      " |  ```\n",
      " |  \n",
      " |  Example of using `.flow_from_directory(directory)`:\n",
      " |  \n",
      " |  ```python\n",
      " |  train_datagen = ImageDataGenerator(\n",
      " |          rescale=1./255,\n",
      " |          shear_range=0.2,\n",
      " |          zoom_range=0.2,\n",
      " |          horizontal_flip=True)\n",
      " |  test_datagen = ImageDataGenerator(rescale=1./255)\n",
      " |  train_generator = train_datagen.flow_from_directory(\n",
      " |          'data/train',\n",
      " |          target_size=(150, 150),\n",
      " |          batch_size=32,\n",
      " |          class_mode='binary')\n",
      " |  validation_generator = test_datagen.flow_from_directory(\n",
      " |          'data/validation',\n",
      " |          target_size=(150, 150),\n",
      " |          batch_size=32,\n",
      " |          class_mode='binary')\n",
      " |  model.fit_generator(\n",
      " |          train_generator,\n",
      " |          steps_per_epoch=2000,\n",
      " |          epochs=50,\n",
      " |          validation_data=validation_generator,\n",
      " |          validation_steps=800)\n",
      " |  ```\n",
      " |  \n",
      " |  Example of transforming images and masks together.\n",
      " |  \n",
      " |  ```python\n",
      " |  # we create two instances with the same arguments\n",
      " |  data_gen_args = dict(featurewise_center=True,\n",
      " |                       featurewise_std_normalization=True,\n",
      " |                       rotation_range=90,\n",
      " |                       width_shift_range=0.1,\n",
      " |                       height_shift_range=0.1,\n",
      " |                       zoom_range=0.2)\n",
      " |  image_datagen = ImageDataGenerator(**data_gen_args)\n",
      " |  mask_datagen = ImageDataGenerator(**data_gen_args)\n",
      " |  # Provide the same seed and keyword arguments to the fit and flow methods\n",
      " |  seed = 1\n",
      " |  image_datagen.fit(images, augment=True, seed=seed)\n",
      " |  mask_datagen.fit(masks, augment=True, seed=seed)\n",
      " |  image_generator = image_datagen.flow_from_directory(\n",
      " |      'data/images',\n",
      " |      class_mode=None,\n",
      " |      seed=seed)\n",
      " |  mask_generator = mask_datagen.flow_from_directory(\n",
      " |      'data/masks',\n",
      " |      class_mode=None,\n",
      " |      seed=seed)\n",
      " |  # combine generators into one which yields image and masks\n",
      " |  train_generator = zip(image_generator, mask_generator)\n",
      " |  model.fit_generator(\n",
      " |      train_generator,\n",
      " |      steps_per_epoch=2000,\n",
      " |      epochs=50)\n",
      " |  ```\n",
      " |  \n",
      " |  Method resolution order:\n",
      " |      ImageDataGenerator\n",
      " |      keras_preprocessing.image.image_data_generator.ImageDataGenerator\n",
      " |      builtins.object\n",
      " |  \n",
      " |  Methods defined here:\n",
      " |  \n",
      " |  __init__(self, featurewise_center=False, samplewise_center=False, featurewise_std_normalization=False, samplewise_std_normalization=False, zca_whitening=False, zca_epsilon=1e-06, rotation_range=0, width_shift_range=0.0, height_shift_range=0.0, brightness_range=None, shear_range=0.0, zoom_range=0.0, channel_shift_range=0.0, fill_mode='nearest', cval=0.0, horizontal_flip=False, vertical_flip=False, rescale=None, preprocessing_function=None, data_format=None, validation_split=0.0, dtype=None)\n",
      " |      Initialize self.  See help(type(self)) for accurate signature.\n",
      " |  \n",
      " |  ----------------------------------------------------------------------\n",
      " |  Methods inherited from keras_preprocessing.image.image_data_generator.ImageDataGenerator:\n",
      " |  \n",
      " |  apply_transform(self, x, transform_parameters)\n",
      " |      Applies a transformation to an image according to given parameters.\n",
      " |      \n",
      " |      # Arguments\n",
      " |          x: 3D tensor, single image.\n",
      " |          transform_parameters: Dictionary with string - parameter pairs\n",
      " |              describing the transformation.\n",
      " |              Currently, the following parameters\n",
      " |              from the dictionary are used:\n",
      " |              - `'theta'`: Float. Rotation angle in degrees.\n",
      " |              - `'tx'`: Float. Shift in the x direction.\n",
      " |              - `'ty'`: Float. Shift in the y direction.\n",
      " |              - `'shear'`: Float. Shear angle in degrees.\n",
      " |              - `'zx'`: Float. Zoom in the x direction.\n",
      " |              - `'zy'`: Float. Zoom in the y direction.\n",
      " |              - `'flip_horizontal'`: Boolean. Horizontal flip.\n",
      " |              - `'flip_vertical'`: Boolean. Vertical flip.\n",
      " |              - `'channel_shift_intencity'`: Float. Channel shift intensity.\n",
      " |              - `'brightness'`: Float. Brightness shift intensity.\n",
      " |      \n",
      " |      # Returns\n",
      " |          A transformed version of the input (same shape).\n",
      " |  \n",
      " |  fit(self, x, augment=False, rounds=1, seed=None)\n",
      " |      Fits the data generator to some sample data.\n",
      " |      \n",
      " |      This computes the internal data stats related to the\n",
      " |      data-dependent transformations, based on an array of sample data.\n",
      " |      \n",
      " |      Only required if `featurewise_center` or\n",
      " |      `featurewise_std_normalization` or `zca_whitening` are set to True.\n",
      " |      \n",
      " |      # Arguments\n",
      " |          x: Sample data. Should have rank 4.\n",
      " |           In case of grayscale data,\n",
      " |           the channels axis should have value 1, in case\n",
      " |           of RGB data, it should have value 3, and in case\n",
      " |           of RGBA data, it should have value 4.\n",
      " |          augment: Boolean (default: False).\n",
      " |              Whether to fit on randomly augmented samples.\n",
      " |          rounds: Int (default: 1).\n",
      " |              If using data augmentation (`augment=True`),\n",
      " |              this is how many augmentation passes over the data to use.\n",
      " |          seed: Int (default: None). Random seed.\n",
      " |  \n",
      " |  flow(self, x, y=None, batch_size=32, shuffle=True, sample_weight=None, seed=None, save_to_dir=None, save_prefix='', save_format='png', subset=None)\n",
      " |      Takes data & label arrays, generates batches of augmented data.\n",
      " |      \n",
      " |      # Arguments\n",
      " |          x: Input data. Numpy array of rank 4 or a tuple.\n",
      " |              If tuple, the first element\n",
      " |              should contain the images and the second element\n",
      " |              another numpy array or a list of numpy arrays\n",
      " |              that gets passed to the output\n",
      " |              without any modifications.\n",
      " |              Can be used to feed the model miscellaneous data\n",
      " |              along with the images.\n",
      " |              In case of grayscale data, the channels axis of the image array\n",
      " |              should have value 1, in case\n",
      " |              of RGB data, it should have value 3, and in case\n",
      " |              of RGBA data, it should have value 4.\n",
      " |          y: Labels.\n",
      " |          batch_size: Int (default: 32).\n",
      " |          shuffle: Boolean (default: True).\n",
      " |          sample_weight: Sample weights.\n",
      " |          seed: Int (default: None).\n",
      " |          save_to_dir: None or str (default: None).\n",
      " |              This allows you to optionally specify a directory\n",
      " |              to which to save the augmented pictures being generated\n",
      " |              (useful for visualizing what you are doing).\n",
      " |          save_prefix: Str (default: `''`).\n",
      " |              Prefix to use for filenames of saved pictures\n",
      " |              (only relevant if `save_to_dir` is set).\n",
      " |          save_format: one of \"png\", \"jpeg\"\n",
      " |              (only relevant if `save_to_dir` is set). Default: \"png\".\n",
      " |          subset: Subset of data (`\"training\"` or `\"validation\"`) if\n",
      " |              `validation_split` is set in `ImageDataGenerator`.\n",
      " |      \n",
      " |      # Returns\n",
      " |          An `Iterator` yielding tuples of `(x, y)`\n",
      " |              where `x` is a numpy array of image data\n",
      " |              (in the case of a single image input) or a list\n",
      " |              of numpy arrays (in the case with\n",
      " |              additional inputs) and `y` is a numpy array\n",
      " |              of corresponding labels. If 'sample_weight' is not None,\n",
      " |              the yielded tuples are of the form `(x, y, sample_weight)`.\n",
      " |              If `y` is None, only the numpy array `x` is returned.\n",
      " |  \n",
      " |  flow_from_dataframe(self, dataframe, directory=None, x_col='filename', y_col='class', weight_col=None, target_size=(256, 256), color_mode='rgb', classes=None, class_mode='categorical', batch_size=32, shuffle=True, seed=None, save_to_dir=None, save_prefix='', save_format='png', subset=None, interpolation='nearest', validate_filenames=True, **kwargs)\n",
      " |      Takes the dataframe and the path to a directory\n",
      " |       and generates batches of augmented/normalized data.\n",
      " |      \n",
      " |      **A simple tutorial can be found **[here](\n",
      " |                                  http://bit.ly/keras_flow_from_dataframe).\n",
      " |      \n",
      " |      # Arguments\n",
      " |          dataframe: Pandas dataframe containing the filepaths relative to\n",
      " |              `directory` (or absolute paths if `directory` is None) of the\n",
      " |              images in a string column. It should include other column/s\n",
      " |              depending on the `class_mode`:\n",
      " |              - if `class_mode` is `\"categorical\"` (default value) it must\n",
      " |                  include the `y_col` column with the class/es of each image.\n",
      " |                  Values in column can be string/list/tuple if a single class\n",
      " |                  or list/tuple if multiple classes.\n",
      " |              - if `class_mode` is `\"binary\"` or `\"sparse\"` it must include\n",
      " |                  the given `y_col` column with class values as strings.\n",
      " |              - if `class_mode` is `\"raw\"` or `\"multi_output\"` it should contain\n",
      " |              the columns specified in `y_col`.\n",
      " |              - if `class_mode` is `\"input\"` or `None` no extra column is needed.\n",
      " |          directory: string, path to the directory to read images from. If `None`,\n",
      " |              data in `x_col` column should be absolute paths.\n",
      " |          x_col: string, column in `dataframe` that contains the filenames (or\n",
      " |              absolute paths if `directory` is `None`).\n",
      " |          y_col: string or list, column/s in `dataframe` that has the target data.\n",
      " |          weight_col: string, column in `dataframe` that contains the sample\n",
      " |              weights. Default: `None`.\n",
      " |          target_size: tuple of integers `(height, width)`, default: `(256, 256)`.\n",
      " |              The dimensions to which all images found will be resized.\n",
      " |          color_mode: one of \"grayscale\", \"rgb\", \"rgba\". Default: \"rgb\".\n",
      " |              Whether the images will be converted to have 1 or 3 color channels.\n",
      " |          classes: optional list of classes (e.g. `['dogs', 'cats']`).\n",
      " |              Default: None. If not provided, the list of classes will be\n",
      " |              automatically inferred from the `y_col`,\n",
      " |              which will map to the label indices, will be alphanumeric).\n",
      " |              The dictionary containing the mapping from class names to class\n",
      " |              indices can be obtained via the attribute `class_indices`.\n",
      " |          class_mode: one of \"binary\", \"categorical\", \"input\", \"multi_output\",\n",
      " |              \"raw\", sparse\" or None. Default: \"categorical\".\n",
      " |              Mode for yielding the targets:\n",
      " |              - `\"binary\"`: 1D numpy array of binary labels,\n",
      " |              - `\"categorical\"`: 2D numpy array of one-hot encoded labels.\n",
      " |                  Supports multi-label output.\n",
      " |              - `\"input\"`: images identical to input images (mainly used to\n",
      " |                  work with autoencoders),\n",
      " |              - `\"multi_output\"`: list with the values of the different columns,\n",
      " |              - `\"raw\"`: numpy array of values in `y_col` column(s),\n",
      " |              - `\"sparse\"`: 1D numpy array of integer labels,\n",
      " |              - `None`, no targets are returned (the generator will only yield\n",
      " |                  batches of image data, which is useful to use in\n",
      " |                  `model.predict_generator()`).\n",
      " |          batch_size: size of the batches of data (default: 32).\n",
      " |          shuffle: whether to shuffle the data (default: True)\n",
      " |          seed: optional random seed for shuffling and transformations.\n",
      " |          save_to_dir: None or str (default: None).\n",
      " |              This allows you to optionally specify a directory\n",
      " |              to which to save the augmented pictures being generated\n",
      " |              (useful for visualizing what you are doing).\n",
      " |          save_prefix: str. Prefix to use for filenames of saved pictures\n",
      " |              (only relevant if `save_to_dir` is set).\n",
      " |          save_format: one of \"png\", \"jpeg\"\n",
      " |              (only relevant if `save_to_dir` is set). Default: \"png\".\n",
      " |          follow_links: whether to follow symlinks inside class subdirectories\n",
      " |              (default: False).\n",
      " |          subset: Subset of data (`\"training\"` or `\"validation\"`) if\n",
      " |              `validation_split` is set in `ImageDataGenerator`.\n",
      " |          interpolation: Interpolation method used to resample the image if the\n",
      " |              target size is different from that of the loaded image.\n",
      " |              Supported methods are `\"nearest\"`, `\"bilinear\"`, and `\"bicubic\"`.\n",
      " |              If PIL version 1.1.3 or newer is installed, `\"lanczos\"` is also\n",
      " |              supported. If PIL version 3.4.0 or newer is installed, `\"box\"` and\n",
      " |              `\"hamming\"` are also supported. By default, `\"nearest\"` is used.\n",
      " |          validate_filenames: Boolean, whether to validate image filenames in\n",
      " |              `x_col`. If `True`, invalid images will be ignored. Disabling this\n",
      " |              option can lead to speed-up in the execution of this function.\n",
      " |              Default: `True`.\n",
      " |      \n",
      " |      # Returns\n",
      " |          A `DataFrameIterator` yielding tuples of `(x, y)`\n",
      " |          where `x` is a numpy array containing a batch\n",
      " |          of images with shape `(batch_size, *target_size, channels)`\n",
      " |          and `y` is a numpy array of corresponding labels.\n",
      " |  \n",
      " |  flow_from_directory(self, directory, target_size=(256, 256), color_mode='rgb', classes=None, class_mode='categorical', batch_size=32, shuffle=True, seed=None, save_to_dir=None, save_prefix='', save_format='png', follow_links=False, subset=None, interpolation='nearest')\n",
      " |      Takes the path to a directory & generates batches of augmented data.\n",
      " |      \n",
      " |      # Arguments\n",
      " |          directory: string, path to the target directory.\n",
      " |              It should contain one subdirectory per class.\n",
      " |              Any PNG, JPG, BMP, PPM or TIF images\n",
      " |              inside each of the subdirectories directory tree\n",
      " |              will be included in the generator.\n",
      " |              See [this script](\n",
      " |              https://gist.github.com/fchollet/0830affa1f7f19fd47b06d4cf89ed44d)\n",
      " |              for more details.\n",
      " |          target_size: Tuple of integers `(height, width)`,\n",
      " |              default: `(256, 256)`.\n",
      " |              The dimensions to which all images found will be resized.\n",
      " |          color_mode: One of \"grayscale\", \"rgb\", \"rgba\". Default: \"rgb\".\n",
      " |              Whether the images will be converted to\n",
      " |              have 1, 3, or 4 channels.\n",
      " |          classes: Optional list of class subdirectories\n",
      " |              (e.g. `['dogs', 'cats']`). Default: None.\n",
      " |              If not provided, the list of classes will be automatically\n",
      " |              inferred from the subdirectory names/structure\n",
      " |              under `directory`, where each subdirectory will\n",
      " |              be treated as a different class\n",
      " |              (and the order of the classes, which will map to the label\n",
      " |              indices, will be alphanumeric).\n",
      " |              The dictionary containing the mapping from class names to class\n",
      " |              indices can be obtained via the attribute `class_indices`.\n",
      " |          class_mode: One of \"categorical\", \"binary\", \"sparse\",\n",
      " |              \"input\", or None. Default: \"categorical\".\n",
      " |              Determines the type of label arrays that are returned:\n",
      " |              - \"categorical\" will be 2D one-hot encoded labels,\n",
      " |              - \"binary\" will be 1D binary labels,\n",
      " |                  \"sparse\" will be 1D integer labels,\n",
      " |              - \"input\" will be images identical\n",
      " |                  to input images (mainly used to work with autoencoders).\n",
      " |              - If None, no labels are returned\n",
      " |                (the generator will only yield batches of image data,\n",
      " |                which is useful to use with `model.predict_generator()`).\n",
      " |                Please note that in case of class_mode None,\n",
      " |                the data still needs to reside in a subdirectory\n",
      " |                of `directory` for it to work correctly.\n",
      " |          batch_size: Size of the batches of data (default: 32).\n",
      " |          shuffle: Whether to shuffle the data (default: True)\n",
      " |              If set to False, sorts the data in alphanumeric order.\n",
      " |          seed: Optional random seed for shuffling and transformations.\n",
      " |          save_to_dir: None or str (default: None).\n",
      " |              This allows you to optionally specify\n",
      " |              a directory to which to save\n",
      " |              the augmented pictures being generated\n",
      " |              (useful for visualizing what you are doing).\n",
      " |          save_prefix: Str. Prefix to use for filenames of saved pictures\n",
      " |              (only relevant if `save_to_dir` is set).\n",
      " |          save_format: One of \"png\", \"jpeg\"\n",
      " |              (only relevant if `save_to_dir` is set). Default: \"png\".\n",
      " |          follow_links: Whether to follow symlinks inside\n",
      " |              class subdirectories (default: False).\n",
      " |          subset: Subset of data (`\"training\"` or `\"validation\"`) if\n",
      " |              `validation_split` is set in `ImageDataGenerator`.\n",
      " |          interpolation: Interpolation method used to\n",
      " |              resample the image if the\n",
      " |              target size is different from that of the loaded image.\n",
      " |              Supported methods are `\"nearest\"`, `\"bilinear\"`,\n",
      " |              and `\"bicubic\"`.\n",
      " |              If PIL version 1.1.3 or newer is installed, `\"lanczos\"` is also\n",
      " |              supported. If PIL version 3.4.0 or newer is installed,\n",
      " |              `\"box\"` and `\"hamming\"` are also supported.\n",
      " |              By default, `\"nearest\"` is used.\n",
      " |      \n",
      " |      # Returns\n",
      " |          A `DirectoryIterator` yielding tuples of `(x, y)`\n",
      " |              where `x` is a numpy array containing a batch\n",
      " |              of images with shape `(batch_size, *target_size, channels)`\n",
      " |              and `y` is a numpy array of corresponding labels.\n",
      " |  \n",
      " |  get_random_transform(self, img_shape, seed=None)\n",
      " |      Generates random parameters for a transformation.\n",
      " |      \n",
      " |      # Arguments\n",
      " |          seed: Random seed.\n",
      " |          img_shape: Tuple of integers.\n",
      " |              Shape of the image that is transformed.\n",
      " |      \n",
      " |      # Returns\n",
      " |          A dictionary containing randomly chosen parameters describing the\n",
      " |          transformation.\n",
      " |  \n",
      " |  random_transform(self, x, seed=None)\n",
      " |      Applies a random transformation to an image.\n",
      " |      \n",
      " |      # Arguments\n",
      " |          x: 3D tensor, single image.\n",
      " |          seed: Random seed.\n",
      " |      \n",
      " |      # Returns\n",
      " |          A randomly transformed version of the input (same shape).\n",
      " |  \n",
      " |  standardize(self, x)\n",
      " |      Applies the normalization configuration in-place to a batch of inputs.\n",
      " |      \n",
      " |      `x` is changed in-place since the function is mainly used internally\n",
      " |      to standarize images and feed them to your network. If a copy of `x`\n",
      " |      would be created instead it would have a significant performance cost.\n",
      " |      If you want to apply this method without changing the input in-place\n",
      " |      you can call the method creating a copy before:\n",
      " |      \n",
      " |      standarize(np.copy(x))\n",
      " |      \n",
      " |      # Arguments\n",
      " |          x: Batch of inputs to be normalized.\n",
      " |      \n",
      " |      # Returns\n",
      " |          The inputs, normalized.\n",
      " |  \n",
      " |  ----------------------------------------------------------------------\n",
      " |  Data descriptors inherited from keras_preprocessing.image.image_data_generator.ImageDataGenerator:\n",
      " |  \n",
      " |  __dict__\n",
      " |      dictionary for instance variables (if defined)\n",
      " |  \n",
      " |  __weakref__\n",
      " |      list of weak references to the object (if defined)\n",
      "\n"
     ]
    }
   ],
   "source": [
    "help(ImageDataGenerator)"
   ]
  },
  {
   "cell_type": "code",
   "execution_count": 51,
   "metadata": {},
   "outputs": [
    {
     "data": {
      "text/plain": [
       "0.9019608"
      ]
     },
     "execution_count": 51,
     "metadata": {},
     "output_type": "execute_result"
    }
   ],
   "source": [
    "imread(para_cell).max()#appears to be already normalized otherwise we can add rescale=1/255 to image_gen initialization"
   ]
  },
  {
   "cell_type": "code",
   "execution_count": 52,
   "metadata": {},
   "outputs": [],
   "source": [
    "image_gen=ImageDataGenerator(rotation_range=20,\n",
    "                             width_shift_range=0.1,height_shift_range=0.1,\n",
    "                            shear_range=0.1,zoom_range=0.1,\n",
    "                            horizontal_flip=True,\n",
    "                            fill_mode='nearest')# generating additional data"
   ]
  },
  {
   "cell_type": "code",
   "execution_count": 54,
   "metadata": {},
   "outputs": [
    {
     "data": {
      "text/plain": [
       "<matplotlib.image.AxesImage at 0x7f1ef7c66250>"
      ]
     },
     "execution_count": 54,
     "metadata": {},
     "output_type": "execute_result"
    },
    {
     "data": {
      "image/png": "[encoded data removed]",
      "text/plain": [
       "<Figure size 432x288 with 1 Axes>"
      ]
     },
     "metadata": {
      "needs_background": "light"
     },
     "output_type": "display_data"
    }
   ],
   "source": [
    "plt.imshow(imread(para_cell))"
   ]
  },
  {
   "cell_type": "code",
   "execution_count": 58,
   "metadata": {},
   "outputs": [
    {
     "data": {
      "text/plain": [
       "<matplotlib.image.AxesImage at 0x7f1ef789bb10>"
      ]
     },
     "execution_count": 58,
     "metadata": {},
     "output_type": "execute_result"
    },
    {
     "data": {
      "image/png": "[encoded data removed]",
      "text/plain": [
       "<Figure size 432x288 with 1 Axes>"
      ]
     },
     "metadata": {
      "needs_background": "light"
     },
     "output_type": "display_data"
    }
   ],
   "source": [
    "plt.imshow(image_gen.random_transform(imread(para_cell)))"
   ]
  },
  {
   "cell_type": "markdown",
   "metadata": {},
   "source": [
    "### loading and transforming images from folder"
   ]
  },
  {
   "cell_type": "code",
   "execution_count": 59,
   "metadata": {},
   "outputs": [
    {
     "name": "stdout",
     "output_type": "stream",
     "text": [
      "Found 24958 images belonging to 2 classes.\n"
     ]
    },
    {
     "data": {
      "text/plain": [
       "<keras_preprocessing.image.directory_iterator.DirectoryIterator at 0x7f1ef787a4d0>"
      ]
     },
     "execution_count": 59,
     "metadata": {},
     "output_type": "execute_result"
    }
   ],
   "source": [
    "image_gen.flow_from_directory(train_path)# to use this function your folders must be arrange into respective classes"
   ]
  },
  {
   "cell_type": "code",
   "execution_count": 60,
   "metadata": {},
   "outputs": [
    {
     "data": {
      "text/plain": [
       "['parasitized', 'uninfected']"
      ]
     },
     "execution_count": 60,
     "metadata": {},
     "output_type": "execute_result"
    }
   ],
   "source": [
    "os.listdir(train_path)"
   ]
  },
  {
   "cell_type": "code",
   "execution_count": 61,
   "metadata": {},
   "outputs": [
    {
     "name": "stdout",
     "output_type": "stream",
     "text": [
      "Found 2600 images belonging to 2 classes.\n"
     ]
    },
    {
     "data": {
      "text/plain": [
       "<keras_preprocessing.image.directory_iterator.DirectoryIterator at 0x7f1ef7818f10>"
      ]
     },
     "execution_count": 61,
     "metadata": {},
     "output_type": "execute_result"
    }
   ],
   "source": [
    "image_gen.flow_from_directory(test_path)"
   ]
  },
  {
   "cell_type": "code",
   "execution_count": 64,
   "metadata": {},
   "outputs": [],
   "source": [
    "from tensorflow.keras.models import Sequential\n",
    "from tensorflow.keras.layers import Dense,Conv2D,MaxPool2D, Dropout, Flatten"
   ]
  },
  {
   "cell_type": "code",
   "execution_count": 81,
   "metadata": {},
   "outputs": [],
   "source": [
    "#https://stats.stackexchange.com/questions/181/how-to-choose-the-number-of-hidden-layers-and-nodes-in-a-feedforward-neural-netw\n",
    "#https://stats.stackexchange.com/questions/148139/rules-for-selecting-convolutional-neural-network-hyperparameters\n",
    "model =Sequential()\n",
    "model.add(Conv2D(filters=32,kernel_size=(3,3),input_shape=image_shape,activation='relu'))\n",
    "model.add(MaxPool2D(pool_size=(2,2)))\n",
    "\n",
    "model.add(Conv2D(filters=64,kernel_size=(3,3),input_shape=image_shape,activation='relu'))\n",
    "model.add(MaxPool2D(pool_size=(2,2)))\n",
    "\n",
    "model.add(Conv2D(filters=64,kernel_size=(3,3),input_shape=image_shape,activation='relu'))\n",
    "model.add(MaxPool2D(pool_size=(2,2)))\n",
    "\n",
    "model.add(Flatten())\n",
    "\n",
    "model.add(Dense(128,activation='relu'))\n",
    "model.add(Dropout(0.5))\n",
    "\n",
    "model.add(Dense(1,activation='sigmoid'))\n",
    "\n",
    "model.compile(loss='binary_crossentropy',optimizer='adam',metrics=['accuracy'])\n"
   ]
  },
  {
   "cell_type": "code",
   "execution_count": 82,
   "metadata": {},
   "outputs": [
    {
     "name": "stdout",
     "output_type": "stream",
     "text": [
      "Model: \"sequential_1\"\n",
      "_________________________________________________________________\n",
      "Layer (type)                 Output Shape              Param #   \n",
      "=================================================================\n",
      "conv2d_3 (Conv2D)            (None, 128, 128, 32)      896       \n",
      "_________________________________________________________________\n",
      "max_pooling2d_3 (MaxPooling2 (None, 64, 64, 32)        0         \n",
      "_________________________________________________________________\n",
      "conv2d_4 (Conv2D)            (None, 62, 62, 64)        18496     \n",
      "_________________________________________________________________\n",
      "max_pooling2d_4 (MaxPooling2 (None, 31, 31, 64)        0         \n",
      "_________________________________________________________________\n",
      "conv2d_5 (Conv2D)            (None, 29, 29, 64)        36928     \n",
      "_________________________________________________________________\n",
      "max_pooling2d_5 (MaxPooling2 (None, 14, 14, 64)        0         \n",
      "_________________________________________________________________\n",
      "flatten_1 (Flatten)          (None, 12544)             0         \n",
      "_________________________________________________________________\n",
      "dense_2 (Dense)              (None, 128)               1605760   \n",
      "_________________________________________________________________\n",
      "dropout_1 (Dropout)          (None, 128)               0         \n",
      "_________________________________________________________________\n",
      "dense_3 (Dense)              (None, 1)                 129       \n",
      "=================================================================\n",
      "Total params: 1,662,209\n",
      "Trainable params: 1,662,209\n",
      "Non-trainable params: 0\n",
      "_________________________________________________________________\n"
     ]
    }
   ],
   "source": [
    "model.summary()"
   ]
  },
  {
   "cell_type": "code",
   "execution_count": 83,
   "metadata": {},
   "outputs": [],
   "source": [
    "from tensorflow.keras.callbacks import EarlyStopping"
   ]
  },
  {
   "cell_type": "code",
   "execution_count": 84,
   "metadata": {},
   "outputs": [],
   "source": [
    "early_stop=EarlyStopping(monitor='val_loss',patience=2)"
   ]
  },
  {
   "cell_type": "code",
   "execution_count": 95,
   "metadata": {},
   "outputs": [],
   "source": [
    "batch_size=100"
   ]
  },
  {
   "cell_type": "code",
   "execution_count": 96,
   "metadata": {},
   "outputs": [
    {
     "name": "stdout",
     "output_type": "stream",
     "text": [
      "Found 24958 images belonging to 2 classes.\n"
     ]
    }
   ],
   "source": [
    "train_image_gen = image_gen.flow_from_directory(train_path,\n",
    "                                                target_size=image_shape[:2],color_mode='rgb',\n",
    "                                                class_mode='binary',batch_size=batch_size)"
   ]
  },
  {
   "cell_type": "code",
   "execution_count": 97,
   "metadata": {},
   "outputs": [
    {
     "name": "stdout",
     "output_type": "stream",
     "text": [
      "Found 2600 images belonging to 2 classes.\n"
     ]
    }
   ],
   "source": [
    "test_image_gen = image_gen.flow_from_directory(test_path,\n",
    "                                                target_size=image_shape[:2],color_mode='rgb',\n",
    "                                               class_mode='binary',batch_size=batch_size,\n",
    "                                               shuffle=False)# shuffle is false so that labels are maintained"
   ]
  },
  {
   "cell_type": "code",
   "execution_count": 98,
   "metadata": {},
   "outputs": [
    {
     "data": {
      "text/plain": [
       "{'parasitized': 0, 'uninfected': 1}"
      ]
     },
     "execution_count": 98,
     "metadata": {},
     "output_type": "execute_result"
    }
   ],
   "source": [
    "train_image_gen.class_indices"
   ]
  },
  {
   "cell_type": "code",
   "execution_count": null,
   "metadata": {
    "scrolled": true
   },
   "outputs": [
    {
     "name": "stdout",
     "output_type": "stream",
     "text": [
      "Epoch 1/20\n",
      " 40/250 [===>..........................] - ETA: 16:21 - loss: 7.7009 - accuracy: 0.5008"
     ]
    }
   ],
   "source": [
    "results =model.fit_generator(train_image_gen,epochs=20,validation_data=test_image_gen,callbacks=[early_stop])\n"
   ]
  },
  {
   "cell_type": "code",
   "execution_count": 94,
   "metadata": {},
   "outputs": [
    {
     "data": {
      "text/plain": [
       "<tensorflow.python.keras.callbacks.History at 0x7f1ecbc17110>"
      ]
     },
     "execution_count": 94,
     "metadata": {},
     "output_type": "execute_result"
    }
   ],
   "source": [
    "results"
   ]
  },
  {
   "cell_type": "code",
   "execution_count": null,
   "metadata": {},
   "outputs": [],
   "source": [
    "results.save('malaria_detector.h5')"
   ]
  },
  {
   "cell_type": "markdown",
   "metadata": {},
   "source": [
    "### loading model"
   ]
  },
  {
   "cell_type": "code",
   "execution_count": 77,
   "metadata": {},
   "outputs": [],
   "source": [
    "from tensorflow.keras.models import load_model"
   ]
  },
  {
   "cell_type": "code",
   "execution_count": 78,
   "metadata": {},
   "outputs": [],
   "source": [
    "model=load_model('/home/adminuser/FINAL-TF2-FILES/TF_2_Notebooks_and_Data/04-CNNs/malaria_detector.h5')"
   ]
  },
  {
   "cell_type": "code",
   "execution_count": 79,
   "metadata": {},
   "outputs": [
    {
     "name": "stdout",
     "output_type": "stream",
     "text": [
      "Model: \"sequential\"\n",
      "_________________________________________________________________\n",
      "Layer (type)                 Output Shape              Param #   \n",
      "=================================================================\n",
      "conv2d (Conv2D)              (None, 128, 128, 32)      896       \n",
      "_________________________________________________________________\n",
      "max_pooling2d (MaxPooling2D) (None, 64, 64, 32)        0         \n",
      "_________________________________________________________________\n",
      "conv2d_1 (Conv2D)            (None, 62, 62, 64)        18496     \n",
      "_________________________________________________________________\n",
      "max_pooling2d_1 (MaxPooling2 (None, 31, 31, 64)        0         \n",
      "_________________________________________________________________\n",
      "conv2d_2 (Conv2D)            (None, 29, 29, 64)        36928     \n",
      "_________________________________________________________________\n",
      "max_pooling2d_2 (MaxPooling2 (None, 14, 14, 64)        0         \n",
      "_________________________________________________________________\n",
      "flatten (Flatten)            (None, 12544)             0         \n",
      "_________________________________________________________________\n",
      "dense (Dense)                (None, 128)               1605760   \n",
      "_________________________________________________________________\n",
      "activation (Activation)      (None, 128)               0         \n",
      "_________________________________________________________________\n",
      "dropout (Dropout)            (None, 128)               0         \n",
      "_________________________________________________________________\n",
      "dense_1 (Dense)              (None, 1)                 129       \n",
      "_________________________________________________________________\n",
      "activation_1 (Activation)    (None, 1)                 0         \n",
      "=================================================================\n",
      "Total params: 1,662,209\n",
      "Trainable params: 1,662,209\n",
      "Non-trainable params: 0\n",
      "_________________________________________________________________\n"
     ]
    }
   ],
   "source": [
    "model.summary()"
   ]
  },
  {
   "cell_type": "code",
   "execution_count": 80,
   "metadata": {},
   "outputs": [
    {
     "data": {
      "text/plain": [
       "[1.94173431201134, 0.8753846]"
      ]
     },
     "execution_count": 80,
     "metadata": {},
     "output_type": "execute_result"
    }
   ],
   "source": [
    "model.evaluate_generator(test_image_gen)"
   ]
  },
  {
   "cell_type": "code",
   "execution_count": null,
   "metadata": {},
   "outputs": [],
   "source": []
  }
 ],
 "metadata": {
  "kernelspec": {
   "display_name": "Python 3",
   "language": "python",
   "name": "python3"
  },
  "language_info": {
   "codemirror_mode": {
    "name": "ipython",
    "version": 3
   },
   "file_extension": ".py",
   "mimetype": "text/x-python",
   "name": "python",
   "nbconvert_exporter": "python",
   "pygments_lexer": "ipython3",
   "version": "3.7.4"
  }
 },
 "nbformat": 4,
 "nbformat_minor": 2
}
